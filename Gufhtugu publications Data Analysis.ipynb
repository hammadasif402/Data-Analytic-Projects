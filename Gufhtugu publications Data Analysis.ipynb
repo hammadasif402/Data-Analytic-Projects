{
 "cells": [
  {
   "cell_type": "code",
   "execution_count": 1,
   "metadata": {
    "execution": {
     "iopub.execute_input": "2021-03-16T10:11:51.091684Z",
     "iopub.status.busy": "2021-03-16T10:11:51.091027Z",
     "iopub.status.idle": "2021-03-16T10:11:51.792363Z",
     "shell.execute_reply": "2021-03-16T10:11:51.791336Z"
    },
    "papermill": {
     "duration": 0.753257,
     "end_time": "2021-03-16T10:11:51.792616",
     "exception": false,
     "start_time": "2021-03-16T10:11:51.039359",
     "status": "completed"
    },
    "tags": []
   },
   "outputs": [],
   "source": [
    "import pandas as pd\n",
    "import numpy as np\n",
    "import matplotlib.pyplot as plt\n",
    "import seaborn as sns"
   ]
  },
  {
   "cell_type": "code",
   "execution_count": 2,
   "metadata": {
    "execution": {
     "iopub.execute_input": "2021-03-16T10:11:51.895615Z",
     "iopub.status.busy": "2021-03-16T10:11:51.895041Z",
     "iopub.status.idle": "2021-03-16T10:11:53.520944Z",
     "shell.execute_reply": "2021-03-16T10:11:53.519982Z"
    },
    "papermill": {
     "duration": 1.682929,
     "end_time": "2021-03-16T10:11:53.521090",
     "exception": false,
     "start_time": "2021-03-16T10:11:51.838161",
     "status": "completed"
    },
    "tags": []
   },
   "outputs": [],
   "source": [
    "df = pd.read_csv(\"/kaggle/input/gufhtugu-publications-dataset-challenge/GP Orders - 4.csv\" , parse_dates=['Order Date'])"
   ]
  },
  {
   "cell_type": "markdown",
   "metadata": {
    "papermill": {
     "duration": 0.046413,
     "end_time": "2021-03-16T10:11:53.614495",
     "exception": false,
     "start_time": "2021-03-16T10:11:53.568082",
     "status": "completed"
    },
    "tags": []
   },
   "source": [
    "# Tasks to achieve\n",
    "\n",
    "* What is the best-selling book?\n",
    "* Visualize order status frequency\n",
    "* Find a correlation between date and time with order status\n",
    "* Find a correlation between city and order status\n",
    "* Find any hidden patterns that are counter-intuitive for a layman\n",
    "* Can we predict number of orders, or book names in advance?Tasks to achieve\n",
    "\n"
   ]
  },
  {
   "cell_type": "code",
   "execution_count": 3,
   "metadata": {
    "execution": {
     "iopub.execute_input": "2021-03-16T10:11:53.723556Z",
     "iopub.status.busy": "2021-03-16T10:11:53.722749Z",
     "iopub.status.idle": "2021-03-16T10:11:53.731529Z",
     "shell.execute_reply": "2021-03-16T10:11:53.731096Z"
    },
    "papermill": {
     "duration": 0.071552,
     "end_time": "2021-03-16T10:11:53.731653",
     "exception": false,
     "start_time": "2021-03-16T10:11:53.660101",
     "status": "completed"
    },
    "tags": []
   },
   "outputs": [
    {
     "data": {
      "text/html": [
       "<div>\n",
       "<style scoped>\n",
       "    .dataframe tbody tr th:only-of-type {\n",
       "        vertical-align: middle;\n",
       "    }\n",
       "\n",
       "    .dataframe tbody tr th {\n",
       "        vertical-align: top;\n",
       "    }\n",
       "\n",
       "    .dataframe thead th {\n",
       "        text-align: right;\n",
       "    }\n",
       "</style>\n",
       "<table border=\"1\" class=\"dataframe\">\n",
       "  <thead>\n",
       "    <tr style=\"text-align: right;\">\n",
       "      <th></th>\n",
       "      <th>Order Number</th>\n",
       "      <th>Order Status</th>\n",
       "      <th>Book Name</th>\n",
       "      <th>Order Date</th>\n",
       "      <th>City (Billing)</th>\n",
       "    </tr>\n",
       "  </thead>\n",
       "  <tbody>\n",
       "    <tr>\n",
       "      <th>0</th>\n",
       "      <td>70978</td>\n",
       "      <td>Completed</td>\n",
       "      <td>Column Nigari Kese Sekhain</td>\n",
       "      <td>2021-01-20 17:43:00</td>\n",
       "      <td>Swat</td>\n",
       "    </tr>\n",
       "    <tr>\n",
       "      <th>1</th>\n",
       "      <td>70962</td>\n",
       "      <td>Completed</td>\n",
       "      <td>انٹرنیٹ سے پیسہ کمائیں</td>\n",
       "      <td>2021-01-20 13:37:00</td>\n",
       "      <td>Karachi</td>\n",
       "    </tr>\n",
       "    <tr>\n",
       "      <th>2</th>\n",
       "      <td>70960</td>\n",
       "      <td>Completed</td>\n",
       "      <td>Justju ka safar-1/Waqfa e Pareshani</td>\n",
       "      <td>2021-01-20 10:48:00</td>\n",
       "      <td>Karachi</td>\n",
       "    </tr>\n",
       "    <tr>\n",
       "      <th>3</th>\n",
       "      <td>70959</td>\n",
       "      <td>Completed</td>\n",
       "      <td>R ka Taaruf</td>\n",
       "      <td>2021-01-20 10:32:00</td>\n",
       "      <td>Karachi</td>\n",
       "    </tr>\n",
       "    <tr>\n",
       "      <th>4</th>\n",
       "      <td>70958</td>\n",
       "      <td>Completed</td>\n",
       "      <td>انٹرنیٹ سے پیسہ کمائیں</td>\n",
       "      <td>2021-01-20 10:29:00</td>\n",
       "      <td>Karachi</td>\n",
       "    </tr>\n",
       "  </tbody>\n",
       "</table>\n",
       "</div>"
      ],
      "text/plain": [
       "   Order Number Order Status                            Book Name  \\\n",
       "0         70978    Completed           Column Nigari Kese Sekhain   \n",
       "1         70962    Completed               انٹرنیٹ سے پیسہ کمائیں   \n",
       "2         70960    Completed  Justju ka safar-1/Waqfa e Pareshani   \n",
       "3         70959    Completed                          R ka Taaruf   \n",
       "4         70958    Completed               انٹرنیٹ سے پیسہ کمائیں   \n",
       "\n",
       "           Order Date City (Billing)  \n",
       "0 2021-01-20 17:43:00           Swat  \n",
       "1 2021-01-20 13:37:00        Karachi  \n",
       "2 2021-01-20 10:48:00        Karachi  \n",
       "3 2021-01-20 10:32:00        Karachi  \n",
       "4 2021-01-20 10:29:00        Karachi  "
      ]
     },
     "execution_count": 3,
     "metadata": {},
     "output_type": "execute_result"
    }
   ],
   "source": [
    "df.head()"
   ]
  },
  {
   "cell_type": "markdown",
   "metadata": {
    "papermill": {
     "duration": 0.047476,
     "end_time": "2021-03-16T10:11:53.825599",
     "exception": false,
     "start_time": "2021-03-16T10:11:53.778123",
     "status": "completed"
    },
    "tags": []
   },
   "source": [
    "### Rename the column names."
   ]
  },
  {
   "cell_type": "code",
   "execution_count": 4,
   "metadata": {
    "execution": {
     "iopub.execute_input": "2021-03-16T10:11:53.924245Z",
     "iopub.status.busy": "2021-03-16T10:11:53.923392Z",
     "iopub.status.idle": "2021-03-16T10:11:53.926261Z",
     "shell.execute_reply": "2021-03-16T10:11:53.925846Z"
    },
    "papermill": {
     "duration": 0.054135,
     "end_time": "2021-03-16T10:11:53.926378",
     "exception": false,
     "start_time": "2021-03-16T10:11:53.872243",
     "status": "completed"
    },
    "tags": []
   },
   "outputs": [],
   "source": [
    "df.rename({\"Order Number\" : \"Order_Number\" , \"Order Status\" : \"Order_Status\"  , \"Book Name\" : \"Book_Name\" ,\n",
    "           \"Order Date\" : \"Order_Date\" , \"City (Billing)\" : \"City\" } , axis = 1 , inplace = True)"
   ]
  },
  {
   "cell_type": "code",
   "execution_count": 5,
   "metadata": {
    "execution": {
     "iopub.execute_input": "2021-03-16T10:11:54.029944Z",
     "iopub.status.busy": "2021-03-16T10:11:54.024301Z",
     "iopub.status.idle": "2021-03-16T10:11:54.042928Z",
     "shell.execute_reply": "2021-03-16T10:11:54.043587Z"
    },
    "papermill": {
     "duration": 0.070535,
     "end_time": "2021-03-16T10:11:54.043783",
     "exception": false,
     "start_time": "2021-03-16T10:11:53.973248",
     "status": "completed"
    },
    "tags": []
   },
   "outputs": [
    {
     "name": "stdout",
     "output_type": "stream",
     "text": [
      "<class 'pandas.core.frame.DataFrame'>\n",
      "RangeIndex: 19187 entries, 0 to 19186\n",
      "Data columns (total 5 columns):\n",
      " #   Column        Non-Null Count  Dtype         \n",
      "---  ------        --------------  -----         \n",
      " 0   Order_Number  19187 non-null  int64         \n",
      " 1   Order_Status  19187 non-null  object        \n",
      " 2   Book_Name     19185 non-null  object        \n",
      " 3   Order_Date    19187 non-null  datetime64[ns]\n",
      " 4   City          19186 non-null  object        \n",
      "dtypes: datetime64[ns](1), int64(1), object(3)\n",
      "memory usage: 749.6+ KB\n"
     ]
    }
   ],
   "source": [
    "df.info()"
   ]
  },
  {
   "cell_type": "markdown",
   "metadata": {
    "papermill": {
     "duration": 0.047166,
     "end_time": "2021-03-16T10:11:54.139421",
     "exception": false,
     "start_time": "2021-03-16T10:11:54.092255",
     "status": "completed"
    },
    "tags": []
   },
   "source": [
    " ### check the null values in the dataset"
   ]
  },
  {
   "cell_type": "code",
   "execution_count": 6,
   "metadata": {
    "execution": {
     "iopub.execute_input": "2021-03-16T10:11:54.247069Z",
     "iopub.status.busy": "2021-03-16T10:11:54.246247Z",
     "iopub.status.idle": "2021-03-16T10:11:54.252504Z",
     "shell.execute_reply": "2021-03-16T10:11:54.252033Z"
    },
    "papermill": {
     "duration": 0.065987,
     "end_time": "2021-03-16T10:11:54.252624",
     "exception": false,
     "start_time": "2021-03-16T10:11:54.186637",
     "status": "completed"
    },
    "tags": []
   },
   "outputs": [
    {
     "data": {
      "text/plain": [
       "Order_Number    0\n",
       "Order_Status    0\n",
       "Book_Name       2\n",
       "Order_Date      0\n",
       "City            1\n",
       "dtype: int64"
      ]
     },
     "execution_count": 6,
     "metadata": {},
     "output_type": "execute_result"
    }
   ],
   "source": [
    "df.isnull().sum()"
   ]
  },
  {
   "cell_type": "code",
   "execution_count": 7,
   "metadata": {
    "execution": {
     "iopub.execute_input": "2021-03-16T10:11:54.352662Z",
     "iopub.status.busy": "2021-03-16T10:11:54.351817Z",
     "iopub.status.idle": "2021-03-16T10:11:54.355260Z",
     "shell.execute_reply": "2021-03-16T10:11:54.355858Z"
    },
    "papermill": {
     "duration": 0.056158,
     "end_time": "2021-03-16T10:11:54.356057",
     "exception": false,
     "start_time": "2021-03-16T10:11:54.299899",
     "status": "completed"
    },
    "tags": []
   },
   "outputs": [
    {
     "name": "stdout",
     "output_type": "stream",
     "text": [
      "there are 19187 rows and 5 columns\n"
     ]
    }
   ],
   "source": [
    "row , col  = df.shape\n",
    "\n",
    "print(f\"there are {row} rows and {col} columns\")"
   ]
  },
  {
   "cell_type": "markdown",
   "metadata": {
    "papermill": {
     "duration": 0.047304,
     "end_time": "2021-03-16T10:11:54.451672",
     "exception": false,
     "start_time": "2021-03-16T10:11:54.404368",
     "status": "completed"
    },
    "tags": []
   },
   "source": [
    "### explore the null values to understand."
   ]
  },
  {
   "cell_type": "code",
   "execution_count": 8,
   "metadata": {
    "execution": {
     "iopub.execute_input": "2021-03-16T10:11:54.560426Z",
     "iopub.status.busy": "2021-03-16T10:11:54.559656Z",
     "iopub.status.idle": "2021-03-16T10:11:54.563343Z",
     "shell.execute_reply": "2021-03-16T10:11:54.562934Z"
    },
    "papermill": {
     "duration": 0.063932,
     "end_time": "2021-03-16T10:11:54.563472",
     "exception": false,
     "start_time": "2021-03-16T10:11:54.499540",
     "status": "completed"
    },
    "tags": []
   },
   "outputs": [
    {
     "data": {
      "text/html": [
       "<div>\n",
       "<style scoped>\n",
       "    .dataframe tbody tr th:only-of-type {\n",
       "        vertical-align: middle;\n",
       "    }\n",
       "\n",
       "    .dataframe tbody tr th {\n",
       "        vertical-align: top;\n",
       "    }\n",
       "\n",
       "    .dataframe thead th {\n",
       "        text-align: right;\n",
       "    }\n",
       "</style>\n",
       "<table border=\"1\" class=\"dataframe\">\n",
       "  <thead>\n",
       "    <tr style=\"text-align: right;\">\n",
       "      <th></th>\n",
       "      <th>Order_Number</th>\n",
       "      <th>Order_Status</th>\n",
       "      <th>Book_Name</th>\n",
       "      <th>Order_Date</th>\n",
       "      <th>City</th>\n",
       "    </tr>\n",
       "  </thead>\n",
       "  <tbody>\n",
       "    <tr>\n",
       "      <th>2206</th>\n",
       "      <td>67823</td>\n",
       "      <td>Returned</td>\n",
       "      <td>NaN</td>\n",
       "      <td>2021-01-02 20:31:00</td>\n",
       "      <td>Karachi</td>\n",
       "    </tr>\n",
       "    <tr>\n",
       "      <th>6835</th>\n",
       "      <td>60457</td>\n",
       "      <td>Returned</td>\n",
       "      <td>NaN</td>\n",
       "      <td>2020-11-14 00:00:00</td>\n",
       "      <td>Dera Ismail Khan</td>\n",
       "    </tr>\n",
       "  </tbody>\n",
       "</table>\n",
       "</div>"
      ],
      "text/plain": [
       "      Order_Number Order_Status Book_Name          Order_Date  \\\n",
       "2206         67823     Returned       NaN 2021-01-02 20:31:00   \n",
       "6835         60457     Returned       NaN 2020-11-14 00:00:00   \n",
       "\n",
       "                  City  \n",
       "2206           Karachi  \n",
       "6835  Dera Ismail Khan  "
      ]
     },
     "execution_count": 8,
     "metadata": {},
     "output_type": "execute_result"
    }
   ],
   "source": [
    "df[df[\"Book_Name\"].isnull()]"
   ]
  },
  {
   "cell_type": "code",
   "execution_count": 9,
   "metadata": {
    "execution": {
     "iopub.execute_input": "2021-03-16T10:11:54.672369Z",
     "iopub.status.busy": "2021-03-16T10:11:54.671537Z",
     "iopub.status.idle": "2021-03-16T10:11:54.674930Z",
     "shell.execute_reply": "2021-03-16T10:11:54.675367Z"
    },
    "papermill": {
     "duration": 0.063736,
     "end_time": "2021-03-16T10:11:54.675537",
     "exception": false,
     "start_time": "2021-03-16T10:11:54.611801",
     "status": "completed"
    },
    "tags": []
   },
   "outputs": [
    {
     "data": {
      "text/html": [
       "<div>\n",
       "<style scoped>\n",
       "    .dataframe tbody tr th:only-of-type {\n",
       "        vertical-align: middle;\n",
       "    }\n",
       "\n",
       "    .dataframe tbody tr th {\n",
       "        vertical-align: top;\n",
       "    }\n",
       "\n",
       "    .dataframe thead th {\n",
       "        text-align: right;\n",
       "    }\n",
       "</style>\n",
       "<table border=\"1\" class=\"dataframe\">\n",
       "  <thead>\n",
       "    <tr style=\"text-align: right;\">\n",
       "      <th></th>\n",
       "      <th>Order_Number</th>\n",
       "      <th>Order_Status</th>\n",
       "      <th>Book_Name</th>\n",
       "      <th>Order_Date</th>\n",
       "      <th>City</th>\n",
       "    </tr>\n",
       "  </thead>\n",
       "  <tbody>\n",
       "    <tr>\n",
       "      <th>3919</th>\n",
       "      <td>65221</td>\n",
       "      <td>Completed</td>\n",
       "      <td>Blockchain, Cryptocurrency And Bitcoin/R ka Ta...</td>\n",
       "      <td>2020-12-17 07:18:00</td>\n",
       "      <td>NaN</td>\n",
       "    </tr>\n",
       "  </tbody>\n",
       "</table>\n",
       "</div>"
      ],
      "text/plain": [
       "      Order_Number Order_Status  \\\n",
       "3919         65221    Completed   \n",
       "\n",
       "                                              Book_Name          Order_Date  \\\n",
       "3919  Blockchain, Cryptocurrency And Bitcoin/R ka Ta... 2020-12-17 07:18:00   \n",
       "\n",
       "     City  \n",
       "3919  NaN  "
      ]
     },
     "execution_count": 9,
     "metadata": {},
     "output_type": "execute_result"
    }
   ],
   "source": [
    "df[df[\"City\"].isnull()]"
   ]
  },
  {
   "cell_type": "markdown",
   "metadata": {
    "papermill": {
     "duration": 0.048173,
     "end_time": "2021-03-16T10:11:54.772299",
     "exception": false,
     "start_time": "2021-03-16T10:11:54.724126",
     "status": "completed"
    },
    "tags": []
   },
   "source": [
    "### Drop all na values from columns."
   ]
  },
  {
   "cell_type": "code",
   "execution_count": 10,
   "metadata": {
    "execution": {
     "iopub.execute_input": "2021-03-16T10:11:54.880268Z",
     "iopub.status.busy": "2021-03-16T10:11:54.879518Z",
     "iopub.status.idle": "2021-03-16T10:11:54.899499Z",
     "shell.execute_reply": "2021-03-16T10:11:54.898956Z"
    },
    "papermill": {
     "duration": 0.078072,
     "end_time": "2021-03-16T10:11:54.899624",
     "exception": false,
     "start_time": "2021-03-16T10:11:54.821552",
     "status": "completed"
    },
    "tags": []
   },
   "outputs": [],
   "source": [
    "df.dropna(inplace=True)"
   ]
  },
  {
   "cell_type": "code",
   "execution_count": 11,
   "metadata": {
    "execution": {
     "iopub.execute_input": "2021-03-16T10:11:55.005917Z",
     "iopub.status.busy": "2021-03-16T10:11:55.000492Z",
     "iopub.status.idle": "2021-03-16T10:11:55.012199Z",
     "shell.execute_reply": "2021-03-16T10:11:55.011741Z"
    },
    "papermill": {
     "duration": 0.064104,
     "end_time": "2021-03-16T10:11:55.012322",
     "exception": false,
     "start_time": "2021-03-16T10:11:54.948218",
     "status": "completed"
    },
    "tags": []
   },
   "outputs": [
    {
     "data": {
      "text/plain": [
       "Order_Number    0\n",
       "Order_Status    0\n",
       "Book_Name       0\n",
       "Order_Date      0\n",
       "City            0\n",
       "dtype: int64"
      ]
     },
     "execution_count": 11,
     "metadata": {},
     "output_type": "execute_result"
    }
   ],
   "source": [
    "df.isnull().sum()"
   ]
  },
  {
   "cell_type": "code",
   "execution_count": 12,
   "metadata": {
    "execution": {
     "iopub.execute_input": "2021-03-16T10:11:55.117059Z",
     "iopub.status.busy": "2021-03-16T10:11:55.116224Z",
     "iopub.status.idle": "2021-03-16T10:11:55.119171Z",
     "shell.execute_reply": "2021-03-16T10:11:55.118744Z"
    },
    "papermill": {
     "duration": 0.057303,
     "end_time": "2021-03-16T10:11:55.119301",
     "exception": false,
     "start_time": "2021-03-16T10:11:55.061998",
     "status": "completed"
    },
    "tags": []
   },
   "outputs": [],
   "source": [
    "pd.options.display.max_rows = None"
   ]
  },
  {
   "cell_type": "code",
   "execution_count": 13,
   "metadata": {
    "execution": {
     "iopub.execute_input": "2021-03-16T10:11:55.240196Z",
     "iopub.status.busy": "2021-03-16T10:11:55.239506Z",
     "iopub.status.idle": "2021-03-16T10:11:55.242431Z",
     "shell.execute_reply": "2021-03-16T10:11:55.245298Z"
    },
    "papermill": {
     "duration": 0.077019,
     "end_time": "2021-03-16T10:11:55.245546",
     "exception": false,
     "start_time": "2021-03-16T10:11:55.168527",
     "status": "completed"
    },
    "tags": []
   },
   "outputs": [
    {
     "data": {
      "text/plain": [
       "0                  Column Nigari Kese Sekhain\n",
       "1                      انٹرنیٹ سے پیسہ کمائیں\n",
       "2         Justju ka safar-1/Waqfa e Pareshani\n",
       "3                                 R ka Taaruf\n",
       "4                      انٹرنیٹ سے پیسہ کمائیں\n",
       "5      Blockchain, Cryptocurrency And Bitcoin\n",
       "6                            Firdaus E Bareen\n",
       "7                        Kaggle for Begginers\n",
       "8    ڈیٹا سائنس/مشین لرننگ/QATRA QATRA QULZAM\n",
       "9                          تذکرہ اولیائے جہلم\n",
       "Name: Book_Name, dtype: object"
      ]
     },
     "execution_count": 13,
     "metadata": {},
     "output_type": "execute_result"
    }
   ],
   "source": [
    "df[\"Book_Name\"].head(10)"
   ]
  },
  {
   "cell_type": "code",
   "execution_count": 14,
   "metadata": {
    "execution": {
     "iopub.execute_input": "2021-03-16T10:11:55.434781Z",
     "iopub.status.busy": "2021-03-16T10:11:55.433932Z",
     "iopub.status.idle": "2021-03-16T10:11:55.443649Z",
     "shell.execute_reply": "2021-03-16T10:11:55.443024Z"
    },
    "papermill": {
     "duration": 0.105465,
     "end_time": "2021-03-16T10:11:55.443814",
     "exception": false,
     "start_time": "2021-03-16T10:11:55.338349",
     "status": "completed"
    },
    "tags": []
   },
   "outputs": [
    {
     "data": {
      "text/plain": [
       "19177    (C++) ++سی/سی/A Brief History of Money/Band ka...\n",
       "19178    Har Shaye Ka Nazria - ہر شے کا نظریہ/Molo Masa...\n",
       "19179    Global Science - Issue 219/R ka Taaruf  آر کا ...\n",
       "19180    Bitcoin Blockchain aur Crypto Currency - FREE ...\n",
       "19181    Bit Coin Block Chain aur Crypto Currency بٹ کو...\n",
       "19182    Bit Coin Block Chain aur Crypto Currency بٹ کو...\n",
       "19183                                 Kaggle for Begginers\n",
       "19184    Kaggle for Begginers/Bitcoin Blockchain aur Cr...\n",
       "19185                                 Kaggle for Begginers\n",
       "19186    Bitcoin Blockchain aur Crypto Currency - FREE ...\n",
       "Name: Book_Name, dtype: object"
      ]
     },
     "execution_count": 14,
     "metadata": {},
     "output_type": "execute_result"
    }
   ],
   "source": [
    "df[\"Book_Name\"].tail(10)"
   ]
  },
  {
   "cell_type": "markdown",
   "metadata": {
    "papermill": {
     "duration": 0.084039,
     "end_time": "2021-03-16T10:11:55.617816",
     "exception": false,
     "start_time": "2021-03-16T10:11:55.533777",
     "status": "completed"
    },
    "tags": []
   },
   "source": [
    "### notes\n",
    "\n",
    "### book name column are in different form like that   \n",
    "* ڈیٹا سائنس/مشین لرننگ/QATRA QATRA QULZAM\n",
    "\n",
    "* (C++)/ان پیج 2000/عبارت کیسے لکھیں رشید خان/نفسیات کے معما\n",
    "\n",
    "* Waqfa e Pareshani/Artificial Intelligence/Python Programming/Introduction to Blockchain with Case Studies/اجالوں کا سفر/Book Band kamron ki Muhabbat/MAN CHALAY KAA SODAA \n",
    "\n",
    "* R ka Taaruf  آر کا تعارف/ڈیٹا سائنس ۔ ایک تعارف/Global Science - Issue 219\n",
    "\n",
    "* Kaggle for Begginers/Introduction to Blockchain with Case Studies/Justju ka safar-1/ATOMIC HABITS/Bagh-o-bahar bachoon kay lay dil chisp kahanian/Badlo Soch Badlo Zindagi/Aik Yaadgar Mushaira/Fear Management - A Spiritual Insight into Overcoming Your Fear  \n",
    "### changed books name into single book like that.\n",
    "* ڈیٹا سائنس/مشین لرننگ/QATRA QATRA QULZAM -> مشین لرننگ\n",
    "### there are incorrect name of book also.\n",
    "* \"r ka taaruf  آر کا تعارف\" -> r ka taaruf\n",
    "\n",
    "* \"انٹرنیٹ سے پیسہ کمائیں؟- مستحقین زکواة -> \"\"\n",
    "\n",
    "* python programming- release date: august 14, 2020 -> python programming\n",
    "\n",
    "* linux - an introduction (release data - october 3, 2020) -> linux - an introduction\n"
   ]
  },
  {
   "cell_type": "markdown",
   "metadata": {
    "papermill": {
     "duration": 0.083096,
     "end_time": "2021-03-16T10:11:55.783333",
     "exception": false,
     "start_time": "2021-03-16T10:11:55.700237",
     "status": "completed"
    },
    "tags": []
   },
   "source": [
    "### There are 4082 unique cities names."
   ]
  },
  {
   "cell_type": "code",
   "execution_count": 15,
   "metadata": {
    "execution": {
     "iopub.execute_input": "2021-03-16T10:11:55.967084Z",
     "iopub.status.busy": "2021-03-16T10:11:55.965027Z",
     "iopub.status.idle": "2021-03-16T10:11:55.970724Z",
     "shell.execute_reply": "2021-03-16T10:11:55.971221Z"
    },
    "papermill": {
     "duration": 0.090121,
     "end_time": "2021-03-16T10:11:55.971397",
     "exception": false,
     "start_time": "2021-03-16T10:11:55.881276",
     "status": "completed"
    },
    "tags": []
   },
   "outputs": [
    {
     "data": {
      "text/plain": [
       "4082"
      ]
     },
     "execution_count": 15,
     "metadata": {},
     "output_type": "execute_result"
    }
   ],
   "source": [
    "len(df[\"City\"].unique())"
   ]
  },
  {
   "cell_type": "markdown",
   "metadata": {
    "papermill": {
     "duration": 0.054074,
     "end_time": "2021-03-16T10:11:56.107701",
     "exception": false,
     "start_time": "2021-03-16T10:11:56.053627",
     "status": "completed"
    },
    "tags": []
   },
   "source": [
    "### There are 3509 unique books names."
   ]
  },
  {
   "cell_type": "code",
   "execution_count": 16,
   "metadata": {
    "execution": {
     "iopub.execute_input": "2021-03-16T10:11:56.264934Z",
     "iopub.status.busy": "2021-03-16T10:11:56.264224Z",
     "iopub.status.idle": "2021-03-16T10:11:56.269831Z",
     "shell.execute_reply": "2021-03-16T10:11:56.270729Z"
    },
    "papermill": {
     "duration": 0.092586,
     "end_time": "2021-03-16T10:11:56.270902",
     "exception": false,
     "start_time": "2021-03-16T10:11:56.178316",
     "status": "completed"
    },
    "tags": []
   },
   "outputs": [
    {
     "data": {
      "text/plain": [
       "3509"
      ]
     },
     "execution_count": 16,
     "metadata": {},
     "output_type": "execute_result"
    }
   ],
   "source": [
    "len(df[\"Book_Name\"].unique())"
   ]
  },
  {
   "cell_type": "markdown",
   "metadata": {
    "papermill": {
     "duration": 0.087572,
     "end_time": "2021-03-16T10:11:56.436283",
     "exception": false,
     "start_time": "2021-03-16T10:11:56.348711",
     "status": "completed"
    },
    "tags": []
   },
   "source": [
    "### Convert entries into lower case."
   ]
  },
  {
   "cell_type": "code",
   "execution_count": 17,
   "metadata": {
    "execution": {
     "iopub.execute_input": "2021-03-16T10:11:56.559402Z",
     "iopub.status.busy": "2021-03-16T10:11:56.558665Z",
     "iopub.status.idle": "2021-03-16T10:11:56.561634Z",
     "shell.execute_reply": "2021-03-16T10:11:56.561154Z"
    },
    "papermill": {
     "duration": 0.070859,
     "end_time": "2021-03-16T10:11:56.561757",
     "exception": false,
     "start_time": "2021-03-16T10:11:56.490898",
     "status": "completed"
    },
    "tags": []
   },
   "outputs": [],
   "source": [
    "df[\"Book_Name\"] = df[\"Book_Name\"].str.lower()"
   ]
  },
  {
   "cell_type": "markdown",
   "metadata": {
    "papermill": {
     "duration": 0.057196,
     "end_time": "2021-03-16T10:11:56.670775",
     "exception": false,
     "start_time": "2021-03-16T10:11:56.613579",
     "status": "completed"
    },
    "tags": []
   },
   "source": [
    "### remove special character from book column."
   ]
  },
  {
   "cell_type": "code",
   "execution_count": 18,
   "metadata": {
    "execution": {
     "iopub.execute_input": "2021-03-16T10:11:56.835334Z",
     "iopub.status.busy": "2021-03-16T10:11:56.831439Z",
     "iopub.status.idle": "2021-03-16T10:11:56.838033Z",
     "shell.execute_reply": "2021-03-16T10:11:56.837560Z"
    },
    "papermill": {
     "duration": 0.109562,
     "end_time": "2021-03-16T10:11:56.838150",
     "exception": false,
     "start_time": "2021-03-16T10:11:56.728588",
     "status": "completed"
    },
    "tags": []
   },
   "outputs": [],
   "source": [
    "df[\"Book_Name\"] = df[\"Book_Name\"].str.replace(\"(\" , \"\").str.replace(\")\" , \"\")\n",
    "df[\"Book_Name\"] = df[\"Book_Name\"].str.replace(\"[\" , \"\").str.replace(\"]\" , \"\")"
   ]
  },
  {
   "cell_type": "markdown",
   "metadata": {
    "papermill": {
     "duration": 0.051922,
     "end_time": "2021-03-16T10:11:56.942831",
     "exception": false,
     "start_time": "2021-03-16T10:11:56.890909",
     "status": "completed"
    },
    "tags": []
   },
   "source": [
    "### Renames some books names which names are not correct."
   ]
  },
  {
   "cell_type": "code",
   "execution_count": 19,
   "metadata": {
    "execution": {
     "iopub.execute_input": "2021-03-16T10:11:57.054486Z",
     "iopub.status.busy": "2021-03-16T10:11:57.051621Z",
     "iopub.status.idle": "2021-03-16T10:11:57.125234Z",
     "shell.execute_reply": "2021-03-16T10:11:57.124817Z"
    },
    "papermill": {
     "duration": 0.132106,
     "end_time": "2021-03-16T10:11:57.125354",
     "exception": false,
     "start_time": "2021-03-16T10:11:56.993248",
     "status": "completed"
    },
    "tags": []
   },
   "outputs": [],
   "source": [
    "df[\"Book_Name\"] = df[\"Book_Name\"].str.replace(\"python programming- release date: august 14, 2020\" , \"python programming\")\n",
    "df[\"Book_Name\"] = df[\"Book_Name\"].str.replace(\"انٹرنیٹ سے پیسہ کمائیں؟- مستحقین زکواة\" , \"\")\n",
    "df[\"Book_Name\"] = df[\"Book_Name\"].str.replace(\"molo masali - مولو مصلی\" , \"molo masali\" )\n",
    "df[\"Book_Name\"] = df[\"Book_Name\"].str.replace(\"r ka taaruf  آر کا تعارف\" , \"r ka taaruf\")\n",
    "df[\"Book_Name\"] = df[\"Book_Name\"].str.replace(\"linux - an introduction release data - october 3, 2020\" , \"linux - an introduction\")"
   ]
  },
  {
   "cell_type": "code",
   "execution_count": 20,
   "metadata": {
    "execution": {
     "iopub.execute_input": "2021-03-16T10:11:57.237827Z",
     "iopub.status.busy": "2021-03-16T10:11:57.237056Z",
     "iopub.status.idle": "2021-03-16T10:11:57.243186Z",
     "shell.execute_reply": "2021-03-16T10:11:57.242786Z"
    },
    "papermill": {
     "duration": 0.067025,
     "end_time": "2021-03-16T10:11:57.243303",
     "exception": false,
     "start_time": "2021-03-16T10:11:57.176278",
     "status": "completed"
    },
    "tags": []
   },
   "outputs": [
    {
     "data": {
      "text/plain": [
       "انٹرنیٹ سے پیسہ کمائیں                    2574\n",
       "python programming                        1885\n",
       "blockchain, cryptocurrency and bitcoin    1064\n",
       "product management                        1041\n",
       "artificial intelligence                    899\n",
       "justju ka safar-1                          881\n",
       "molo masali                                534\n",
       "ڈیٹا سائنس ۔ ایک تعارف                     495\n",
       "lucky draw - free book                     487\n",
       "column nigari kese sekhain                 416\n",
       "Name: Book_Name, dtype: int64"
      ]
     },
     "execution_count": 20,
     "metadata": {},
     "output_type": "execute_result"
    }
   ],
   "source": [
    "df[\"Book_Name\"].value_counts().head(10)"
   ]
  },
  {
   "cell_type": "markdown",
   "metadata": {
    "papermill": {
     "duration": 0.050787,
     "end_time": "2021-03-16T10:11:57.345482",
     "exception": false,
     "start_time": "2021-03-16T10:11:57.294695",
     "status": "completed"
    },
    "tags": []
   },
   "source": [
    "### There are multiple book names in a single row tried to correct them."
   ]
  },
  {
   "cell_type": "markdown",
   "metadata": {
    "papermill": {
     "duration": 0.050823,
     "end_time": "2021-03-16T10:11:57.447450",
     "exception": false,
     "start_time": "2021-03-16T10:11:57.396627",
     "status": "completed"
    },
    "tags": []
   },
   "source": [
    "### Sepraate the books in each order on \"/\"."
   ]
  },
  {
   "cell_type": "code",
   "execution_count": 21,
   "metadata": {
    "execution": {
     "iopub.execute_input": "2021-03-16T10:11:57.556029Z",
     "iopub.status.busy": "2021-03-16T10:11:57.555168Z",
     "iopub.status.idle": "2021-03-16T10:11:57.559619Z",
     "shell.execute_reply": "2021-03-16T10:11:57.560301Z"
    },
    "papermill": {
     "duration": 0.06224,
     "end_time": "2021-03-16T10:11:57.560497",
     "exception": false,
     "start_time": "2021-03-16T10:11:57.498257",
     "status": "completed"
    },
    "scrolled": true,
    "tags": []
   },
   "outputs": [
    {
     "name": "stdout",
     "output_type": "stream",
     "text": [
      "['c++ ++سی', 'سی', 'a brief history of money', 'band kamron ki muhabbat', 'bit coin block chain aur crypto currency بٹ کوائن، بلاک چین اور کرپٹو کرنسی', 'introduction to blockchain with case studies', 'kaggle for begginers', 'safar e hajj سفر حج', 'shaoor شعور۔ علم سے آگہی کا سفر']\n",
      "['har shaye ka nazria - ہر شے کا نظریہ', 'molo masali']\n",
      "['global science - issue 219', 'r ka taaruf']\n",
      "['bitcoin blockchain aur crypto currency - free e-book']\n",
      "['bit coin block chain aur crypto currency بٹ کوائن، بلاک چین اور کرپٹو کرنسی', 'kaggle for begginers', 'c++ ++سی', 'سی', 'introduction to blockchain with case studies']\n",
      "['bit coin block chain aur crypto currency بٹ کوائن، بلاک چین اور کرپٹو کرنسی']\n",
      "['kaggle for begginers']\n",
      "['kaggle for begginers', 'bitcoin blockchain aur crypto currency - free e-book']\n",
      "['kaggle for begginers']\n",
      "['bitcoin blockchain aur crypto currency - free e-book']\n"
     ]
    }
   ],
   "source": [
    "for i in df[\"Book_Name\"].tail(10).str.split(\"/\"):\n",
    "    print(i)"
   ]
  },
  {
   "cell_type": "markdown",
   "metadata": {
    "papermill": {
     "duration": 0.051274,
     "end_time": "2021-03-16T10:11:57.663895",
     "exception": false,
     "start_time": "2021-03-16T10:11:57.612621",
     "status": "completed"
    },
    "tags": []
   },
   "source": [
    " #### Book names are now look good each book in a separate row. "
   ]
  },
  {
   "cell_type": "code",
   "execution_count": 22,
   "metadata": {
    "execution": {
     "iopub.execute_input": "2021-03-16T10:11:57.869191Z",
     "iopub.status.busy": "2021-03-16T10:11:57.867995Z",
     "iopub.status.idle": "2021-03-16T10:11:57.871507Z",
     "shell.execute_reply": "2021-03-16T10:11:57.871873Z"
    },
    "papermill": {
     "duration": 0.156296,
     "end_time": "2021-03-16T10:11:57.872023",
     "exception": false,
     "start_time": "2021-03-16T10:11:57.715727",
     "status": "completed"
    },
    "tags": []
   },
   "outputs": [
    {
     "data": {
      "text/plain": [
       "0                column nigari kese sekhain\n",
       "1                    انٹرنیٹ سے پیسہ کمائیں\n",
       "2                         justju ka safar-1\n",
       "3                               r ka taaruf\n",
       "4                    انٹرنیٹ سے پیسہ کمائیں\n",
       "5    blockchain, cryptocurrency and bitcoin\n",
       "6                          firdaus e bareen\n",
       "7                      kaggle for begginers\n",
       "8                                ڈیٹا سائنس\n",
       "9                        تذکرہ اولیائے جہلم\n",
       "Name: Book_Name, dtype: object"
      ]
     },
     "execution_count": 22,
     "metadata": {},
     "output_type": "execute_result"
    }
   ],
   "source": [
    "df[\"Book_Name\"].str.split(\"/\").str[0].head(10)"
   ]
  },
  {
   "cell_type": "markdown",
   "metadata": {
    "papermill": {
     "duration": 0.051604,
     "end_time": "2021-03-16T10:11:57.975723",
     "exception": false,
     "start_time": "2021-03-16T10:11:57.924119",
     "status": "completed"
    },
    "tags": []
   },
   "source": [
    "#### Update the Book_Name column."
   ]
  },
  {
   "cell_type": "code",
   "execution_count": 23,
   "metadata": {
    "execution": {
     "iopub.execute_input": "2021-03-16T10:11:58.112600Z",
     "iopub.status.busy": "2021-03-16T10:11:58.111780Z",
     "iopub.status.idle": "2021-03-16T10:11:58.114085Z",
     "shell.execute_reply": "2021-03-16T10:11:58.114523Z"
    },
    "papermill": {
     "duration": 0.087093,
     "end_time": "2021-03-16T10:11:58.114671",
     "exception": false,
     "start_time": "2021-03-16T10:11:58.027578",
     "status": "completed"
    },
    "tags": []
   },
   "outputs": [],
   "source": [
    "df[\"Book_Name\"] = df[\"Book_Name\"].str.split(\"/\").str[0]"
   ]
  },
  {
   "cell_type": "code",
   "execution_count": 24,
   "metadata": {
    "execution": {
     "iopub.execute_input": "2021-03-16T10:11:58.240846Z",
     "iopub.status.busy": "2021-03-16T10:11:58.239866Z",
     "iopub.status.idle": "2021-03-16T10:11:58.244085Z",
     "shell.execute_reply": "2021-03-16T10:11:58.243606Z"
    },
    "papermill": {
     "duration": 0.07734,
     "end_time": "2021-03-16T10:11:58.244215",
     "exception": false,
     "start_time": "2021-03-16T10:11:58.166875",
     "status": "completed"
    },
    "tags": []
   },
   "outputs": [
    {
     "data": {
      "text/plain": [
       "انٹرنیٹ سے پیسہ کمائیں                    3029\n",
       "python programming                        2177\n",
       "artificial intelligence                   1309\n",
       "blockchain, cryptocurrency and bitcoin    1287\n",
       "product management                        1141\n",
       "justju ka safar-1                         1040\n",
       "molo masali                                575\n",
       "ڈیٹا سائنس ۔ ایک تعارف                     541\n",
       "lucky draw - free book                     505\n",
       "c++                                        468\n",
       "Name: Book_Name, dtype: int64"
      ]
     },
     "execution_count": 24,
     "metadata": {},
     "output_type": "execute_result"
    }
   ],
   "source": [
    "df[\"Book_Name\"].value_counts().head(10)"
   ]
  },
  {
   "cell_type": "markdown",
   "metadata": {
    "papermill": {
     "duration": 0.062405,
     "end_time": "2021-03-16T10:11:58.369392",
     "exception": false,
     "start_time": "2021-03-16T10:11:58.306987",
     "status": "completed"
    },
    "tags": []
   },
   "source": [
    "### clean the  book name column and reduce the unique names of book to 3509 to 665"
   ]
  },
  {
   "cell_type": "code",
   "execution_count": 25,
   "metadata": {
    "execution": {
     "iopub.execute_input": "2021-03-16T10:11:58.492747Z",
     "iopub.status.busy": "2021-03-16T10:11:58.491876Z",
     "iopub.status.idle": "2021-03-16T10:11:58.497844Z",
     "shell.execute_reply": "2021-03-16T10:11:58.497391Z"
    },
    "papermill": {
     "duration": 0.067385,
     "end_time": "2021-03-16T10:11:58.497957",
     "exception": false,
     "start_time": "2021-03-16T10:11:58.430572",
     "status": "completed"
    },
    "tags": []
   },
   "outputs": [
    {
     "data": {
      "text/plain": [
       "665"
      ]
     },
     "execution_count": 25,
     "metadata": {},
     "output_type": "execute_result"
    }
   ],
   "source": [
    "df.Book_Name.nunique()"
   ]
  },
  {
   "cell_type": "markdown",
   "metadata": {
    "papermill": {
     "duration": 0.053368,
     "end_time": "2021-03-16T10:11:58.605970",
     "exception": false,
     "start_time": "2021-03-16T10:11:58.552602",
     "status": "completed"
    },
    "tags": []
   },
   "source": [
    "### notes\n",
    "\n",
    "### in city column there is huge amount of name of cities is wrong and multiple mistake are there like.\n",
    "\n",
    "#### there are  villages , district  , tehsil , town names are also connect with city name that the real problem also.\n",
    "\n",
    "####  in many places banks name  , colony name  are also in the city column\n",
    "\n",
    "####  different country , town , city name also  ->abu dhabi , , london , northyork ,  mississauga \n",
    "\n",
    "#### province name of  pakistan punjab  , sindh  , balochistan , kpk , ajk\n",
    "\n",
    "####  karachi -> khi , hub ,hub chowki , gulistane -johar , gulzare hijiri , gulshan -e- iqbal , \"jahangiria ship malir ext near sokarachio\" , \"malir\" , \"orangi\" , \"azizabad\" , \"north nazimabad\"\n",
    "\n",
    "#### lahore -> lhr , valencia/lahore , Midel town lahore , Township Lahore\n",
    "\n",
    "####  hydrabad -> hyd , hydrabadad , hydrabd , hydra bad \n",
    "\n",
    "#### islamabad ->  islambad , lslamababd , islama  bad , alkhidmat raazi hospital cbr\n",
    "\n",
    "#### faislabad -> fsd , the four seasons sumandri road faislabad , faislabad faislabad \n",
    "\n",
    "#### peshawar ->canal raod peshawar , university peshawar\n",
    "\n",
    "##### dera ghazi khan -> dg khan , d g khan , deraghazikhan , dera ghazi khan kahn , mangrotha east thesil taunsa district dera ghazi khan khan\n",
    "\n",
    "#### special character ->  \".\" , \"/\" , \":\" , \",\" ,\"()\" ,\"[]\" also.\n",
    "\n",
    "#### continue.....\n",
    "\n",
    "#### maximam city name are incorrect ."
   ]
  },
  {
   "cell_type": "code",
   "execution_count": 26,
   "metadata": {
    "execution": {
     "iopub.execute_input": "2021-03-16T10:11:58.721828Z",
     "iopub.status.busy": "2021-03-16T10:11:58.721109Z",
     "iopub.status.idle": "2021-03-16T10:11:58.724636Z",
     "shell.execute_reply": "2021-03-16T10:11:58.724219Z"
    },
    "papermill": {
     "duration": 0.064326,
     "end_time": "2021-03-16T10:11:58.724752",
     "exception": false,
     "start_time": "2021-03-16T10:11:58.660426",
     "status": "completed"
    },
    "tags": []
   },
   "outputs": [
    {
     "data": {
      "text/plain": [
       "11194                                             Gilgit\n",
       "14582                                             Lahore\n",
       "12867                                            Karachi\n",
       "16567                                             Lahore\n",
       "7252                                             Karachi\n",
       "8647                                           Islamabad\n",
       "14593                                             Taxila\n",
       "5381                                              Lahore\n",
       "8564                                           Hyderabad\n",
       "3100                                            Peshawar\n",
       "1038                                  Hazara town quetta\n",
       "16333                                              Okara\n",
       "11295                                          Ljubljana\n",
       "17746                                     Rahim Yar Khan\n",
       "6147                                               Shwal\n",
       "1285                                          Rawalpindi\n",
       "5527                                           Islamabad\n",
       "416                                              Karachi\n",
       "6576     SUI GAS FIELD, SUI TAHSIL , DISTRICT DARA BUGTI\n",
       "12518                                            Sahiwal\n",
       "Name: City, dtype: object"
      ]
     },
     "execution_count": 26,
     "metadata": {},
     "output_type": "execute_result"
    }
   ],
   "source": [
    "df.City.sample(20)"
   ]
  },
  {
   "cell_type": "markdown",
   "metadata": {
    "papermill": {
     "duration": 0.053547,
     "end_time": "2021-03-16T10:11:58.832610",
     "exception": false,
     "start_time": "2021-03-16T10:11:58.779063",
     "status": "completed"
    },
    "tags": []
   },
   "source": [
    "#### Convert entries into lower case and remove blank spaces and special character."
   ]
  },
  {
   "cell_type": "code",
   "execution_count": 27,
   "metadata": {
    "execution": {
     "iopub.execute_input": "2021-03-16T10:11:58.984289Z",
     "iopub.status.busy": "2021-03-16T10:11:58.976709Z",
     "iopub.status.idle": "2021-03-16T10:11:59.029085Z",
     "shell.execute_reply": "2021-03-16T10:11:59.028657Z"
    },
    "papermill": {
     "duration": 0.142677,
     "end_time": "2021-03-16T10:11:59.029212",
     "exception": false,
     "start_time": "2021-03-16T10:11:58.886535",
     "status": "completed"
    },
    "tags": []
   },
   "outputs": [],
   "source": [
    "df[\"City\"] = df[\"City\"].str.lower().str.replace(\",\" , \"\").str.replace(\"?\" , \"\").str.replace(\"\\d+\" , \"\").str.replace(\"[\" , \"\").str.replace(\"]\" , \"\").str.strip()"
   ]
  },
  {
   "cell_type": "code",
   "execution_count": 28,
   "metadata": {
    "execution": {
     "iopub.execute_input": "2021-03-16T10:11:59.148232Z",
     "iopub.status.busy": "2021-03-16T10:11:59.147421Z",
     "iopub.status.idle": "2021-03-16T10:11:59.153771Z",
     "shell.execute_reply": "2021-03-16T10:11:59.153209Z"
    },
    "papermill": {
     "duration": 0.07012,
     "end_time": "2021-03-16T10:11:59.153885",
     "exception": false,
     "start_time": "2021-03-16T10:11:59.083765",
     "status": "completed"
    },
    "tags": []
   },
   "outputs": [
    {
     "data": {
      "text/plain": [
       "karachi       2665\n",
       "lahore        2179\n",
       "islamabad      947\n",
       "rawalpindi     696\n",
       "faisalabad     521\n",
       "peshawar       493\n",
       "multan         461\n",
       "gujranwala     278\n",
       "hyderabad      265\n",
       "               254\n",
       "Name: City, dtype: int64"
      ]
     },
     "execution_count": 28,
     "metadata": {},
     "output_type": "execute_result"
    }
   ],
   "source": [
    "df[\"City\"].value_counts().head(10)"
   ]
  },
  {
   "cell_type": "markdown",
   "metadata": {
    "papermill": {
     "duration": 0.054035,
     "end_time": "2021-03-16T10:11:59.261725",
     "exception": false,
     "start_time": "2021-03-16T10:11:59.207690",
     "status": "completed"
    },
    "tags": []
   },
   "source": [
    "#### With the help of this list try to clean the cities names."
   ]
  },
  {
   "cell_type": "markdown",
   "metadata": {
    "papermill": {
     "duration": 0.053463,
     "end_time": "2021-03-16T10:11:59.368951",
     "exception": false,
     "start_time": "2021-03-16T10:11:59.315488",
     "status": "completed"
    },
    "tags": []
   },
   "source": [
    "##### list of pakistani cities obtained from https://gist.github.com/malikbilal1997/4f41d4d153fca7087a8875cac7db8836"
   ]
  },
  {
   "cell_type": "code",
   "execution_count": 29,
   "metadata": {
    "execution": {
     "iopub.execute_input": "2021-03-16T10:11:59.490795Z",
     "iopub.status.busy": "2021-03-16T10:11:59.489905Z",
     "iopub.status.idle": "2021-03-16T10:11:59.492433Z",
     "shell.execute_reply": "2021-03-16T10:11:59.492040Z"
    },
    "papermill": {
     "duration": 0.069359,
     "end_time": "2021-03-16T10:11:59.492593",
     "exception": false,
     "start_time": "2021-03-16T10:11:59.423234",
     "status": "completed"
    },
    "tags": []
   },
   "outputs": [],
   "source": [
    "pak_cities = ['islamabad', 'ahmed nager chatha', 'ahmadpur east', 'ali khan abad', 'alipur', 'arifwala', 'attock', 'bhera',\n",
    "              'bhalwal', 'bahawalnagar','bahawalpur', 'bhakkar', 'burewala', 'chillianwala', 'chakwal', 'chichawatni',\n",
    "              'chiniot', 'chishtian',\n",
    "              'daska', 'darya khan', 'dera ghazi khan', 'dhaular', 'dina', 'dinga', 'dipalpur', 'faisalabad', 'ferozewala',\n",
    "              'fateh jhang','ghakhar mandi', 'gojra', 'gujranwala', 'gujrat', 'gujar khan', 'hafizabad', 'haroonabad', 'hasilpur',\n",
    "              'haveli lakha', 'jatoi',\n",
    "              'jalalpur', 'jattan', 'jampur', 'jaranwala', 'jhang', 'jhelum', 'kalabagh', 'karor lal esan', 'kasur', 'kamalia', 'kamoke',\n",
    "              'khanewal',\n",
    "              'khanpur', 'kharian', 'khushab', 'kot addu', 'jauharabad', 'lahore', 'lalamusa', 'layyah', 'liaquat pur',\n",
    "              'lodhran', 'malakwal', 'mamoori', 'mailsi', 'mandi bahauddin', 'mian channu', 'mianwali', 'multan', 'murree', \n",
    "              'muridke', 'mianwali bangla', 'muzaffargarh', 'narowal', 'nankana sahib', 'okara', 'renala khurd', 'pakpattan', \n",
    "              'pattoki', 'pir mahal', 'qaimpur', 'qila didar singh', 'rabwah', 'raiwind', 'rajanpur', 'rahim yar khan',\n",
    "              'rawalpindi',\n",
    "              'sadiqabad', 'safdarabad', 'sahiwal', 'sangla hill', 'sarai alamgir', 'sargodha', 'shakargarh', 'sheikhupura',\n",
    "              'sialkot',\n",
    "              'sohawa', 'soianwala', 'siranwali', 'talagang', 'taxila', 'toba tek singh', 'vehari', 'wah cantonment', \n",
    "              'wazirabad',\n",
    "              'badin', 'bhirkan', 'rajo khanani', 'chak', 'dadu', 'digri', 'diplo', 'dokri', 'ghotki', 'haala', 'hyderabad',\n",
    "              'islamkot', 'jacobabad', 'jamshoro', 'jungshahi', 'kandhkot', 'kandiaro', 'karachi', 'kashmore', 'keti bandar',\n",
    "              'khairpur', 'kotri', 'larkana', 'matiari', 'mehar', 'mirpur khas', 'mithani', 'mithi', 'mehrabpur', 'moro',\n",
    "              'nagarparkar', 'naudero', 'naushahro feroze', 'naushara', 'nawabshah', 'nazimabad', 'qambar', 'qasimabad', \n",
    "              'ranipur', 'ratodero', 'rohri', 'sakrand', 'sanghar', 'shahbandar', 'shahdadkot', 'shahdadpur',\n",
    "              'shahpur chakar', 'shikarpaur', 'sukkur', 'tangwani', 'tando adam khan', 'tando allahyar',\n",
    "              'tando muhammad khan', 'thatta', 'umerkot', 'warah', 'abbottabad', 'adezai', 'alpuri', 'akora khattak',\n",
    "              'ayubia', 'banda daud shah', 'bannu', 'batkhela', 'battagram', 'birote', 'chakdara', 'charsadda', 'chitral',\n",
    "              'daggar', 'dargai', 'darya khan', 'dera ismail khan', 'doaba', 'dir', 'drosh', 'hangu', 'haripur', 'karak',\n",
    "              'kohat', 'kulachi', 'lakki marwat', 'latamber', 'madyan', 'mansehra', 'mardan', 'mastuj', 'mingora', 'nowshera',\n",
    "              'paharpur', 'pabbi', 'peshawar', 'saidu sharif', 'shorkot', 'shewa adda', 'swabi', 'swat', 'tangi', 'tank',\n",
    "              'thall', 'timergara', 'tordher', 'awaran', 'barkhan', 'chagai', 'dera bugti', 'gwadar', 'harnai', 'jafarabad',\n",
    "              'jhal magsi', 'kacchi', 'kalat', 'kech', 'kharan', 'khuzdar', 'killa abdullah', 'killa saifullah', 'kohlu',\n",
    "              'lasbela', 'lehri', 'loralai', 'mastung', 'musakhel', 'nasirabad', 'nushki', 'panjgur', 'pishin valley', \n",
    "              'quetta', 'sherani', 'sibi', 'sohbatpur', 'washuk', 'zhob', 'ziarat']\n"
   ]
  },
  {
   "cell_type": "code",
   "execution_count": 30,
   "metadata": {
    "execution": {
     "iopub.execute_input": "2021-03-16T10:11:59.611344Z",
     "iopub.status.busy": "2021-03-16T10:11:59.610446Z",
     "iopub.status.idle": "2021-03-16T10:11:59.614590Z",
     "shell.execute_reply": "2021-03-16T10:11:59.614089Z"
    },
    "papermill": {
     "duration": 0.068435,
     "end_time": "2021-03-16T10:11:59.614698",
     "exception": false,
     "start_time": "2021-03-16T10:11:59.546263",
     "status": "completed"
    },
    "tags": []
   },
   "outputs": [
    {
     "data": {
      "text/html": [
       "<div>\n",
       "<style scoped>\n",
       "    .dataframe tbody tr th:only-of-type {\n",
       "        vertical-align: middle;\n",
       "    }\n",
       "\n",
       "    .dataframe tbody tr th {\n",
       "        vertical-align: top;\n",
       "    }\n",
       "\n",
       "    .dataframe thead th {\n",
       "        text-align: right;\n",
       "    }\n",
       "</style>\n",
       "<table border=\"1\" class=\"dataframe\">\n",
       "  <thead>\n",
       "    <tr style=\"text-align: right;\">\n",
       "      <th></th>\n",
       "      <th>Order_Number</th>\n",
       "      <th>Order_Status</th>\n",
       "      <th>Book_Name</th>\n",
       "      <th>Order_Date</th>\n",
       "      <th>City</th>\n",
       "    </tr>\n",
       "  </thead>\n",
       "  <tbody>\n",
       "    <tr>\n",
       "      <th>0</th>\n",
       "      <td>70978</td>\n",
       "      <td>Completed</td>\n",
       "      <td>column nigari kese sekhain</td>\n",
       "      <td>2021-01-20 17:43:00</td>\n",
       "      <td>swat</td>\n",
       "    </tr>\n",
       "    <tr>\n",
       "      <th>1</th>\n",
       "      <td>70962</td>\n",
       "      <td>Completed</td>\n",
       "      <td>انٹرنیٹ سے پیسہ کمائیں</td>\n",
       "      <td>2021-01-20 13:37:00</td>\n",
       "      <td>karachi</td>\n",
       "    </tr>\n",
       "    <tr>\n",
       "      <th>2</th>\n",
       "      <td>70960</td>\n",
       "      <td>Completed</td>\n",
       "      <td>justju ka safar-1</td>\n",
       "      <td>2021-01-20 10:48:00</td>\n",
       "      <td>karachi</td>\n",
       "    </tr>\n",
       "    <tr>\n",
       "      <th>3</th>\n",
       "      <td>70959</td>\n",
       "      <td>Completed</td>\n",
       "      <td>r ka taaruf</td>\n",
       "      <td>2021-01-20 10:32:00</td>\n",
       "      <td>karachi</td>\n",
       "    </tr>\n",
       "    <tr>\n",
       "      <th>4</th>\n",
       "      <td>70958</td>\n",
       "      <td>Completed</td>\n",
       "      <td>انٹرنیٹ سے پیسہ کمائیں</td>\n",
       "      <td>2021-01-20 10:29:00</td>\n",
       "      <td>karachi</td>\n",
       "    </tr>\n",
       "    <tr>\n",
       "      <th>5</th>\n",
       "      <td>70957</td>\n",
       "      <td>Completed</td>\n",
       "      <td>blockchain, cryptocurrency and bitcoin</td>\n",
       "      <td>2021-01-20 10:24:00</td>\n",
       "      <td>karachi</td>\n",
       "    </tr>\n",
       "    <tr>\n",
       "      <th>6</th>\n",
       "      <td>70956</td>\n",
       "      <td>Completed</td>\n",
       "      <td>firdaus e bareen</td>\n",
       "      <td>2021-01-20 09:28:00</td>\n",
       "      <td>wah cantt taxila rawalpindi</td>\n",
       "    </tr>\n",
       "    <tr>\n",
       "      <th>7</th>\n",
       "      <td>70955</td>\n",
       "      <td>Completed</td>\n",
       "      <td>kaggle for begginers</td>\n",
       "      <td>2021-01-20 08:05:00</td>\n",
       "      <td>bahawalpur</td>\n",
       "    </tr>\n",
       "    <tr>\n",
       "      <th>8</th>\n",
       "      <td>70954</td>\n",
       "      <td>Completed</td>\n",
       "      <td>ڈیٹا سائنس</td>\n",
       "      <td>2021-01-20 05:48:00</td>\n",
       "      <td>lahore</td>\n",
       "    </tr>\n",
       "    <tr>\n",
       "      <th>9</th>\n",
       "      <td>70953</td>\n",
       "      <td>Completed</td>\n",
       "      <td>تذکرہ اولیائے جہلم</td>\n",
       "      <td>2021-01-20 04:20:00</td>\n",
       "      <td>matli</td>\n",
       "    </tr>\n",
       "  </tbody>\n",
       "</table>\n",
       "</div>"
      ],
      "text/plain": [
       "   Order_Number Order_Status                               Book_Name  \\\n",
       "0         70978    Completed              column nigari kese sekhain   \n",
       "1         70962    Completed                  انٹرنیٹ سے پیسہ کمائیں   \n",
       "2         70960    Completed                       justju ka safar-1   \n",
       "3         70959    Completed                             r ka taaruf   \n",
       "4         70958    Completed                  انٹرنیٹ سے پیسہ کمائیں   \n",
       "5         70957    Completed  blockchain, cryptocurrency and bitcoin   \n",
       "6         70956    Completed                        firdaus e bareen   \n",
       "7         70955    Completed                    kaggle for begginers   \n",
       "8         70954    Completed                              ڈیٹا سائنس   \n",
       "9         70953    Completed                      تذکرہ اولیائے جہلم   \n",
       "\n",
       "           Order_Date                         City  \n",
       "0 2021-01-20 17:43:00                         swat  \n",
       "1 2021-01-20 13:37:00                      karachi  \n",
       "2 2021-01-20 10:48:00                      karachi  \n",
       "3 2021-01-20 10:32:00                      karachi  \n",
       "4 2021-01-20 10:29:00                      karachi  \n",
       "5 2021-01-20 10:24:00                      karachi  \n",
       "6 2021-01-20 09:28:00  wah cantt taxila rawalpindi  \n",
       "7 2021-01-20 08:05:00                   bahawalpur  \n",
       "8 2021-01-20 05:48:00                       lahore  \n",
       "9 2021-01-20 04:20:00                        matli  "
      ]
     },
     "execution_count": 30,
     "metadata": {},
     "output_type": "execute_result"
    }
   ],
   "source": [
    "df.head(10)"
   ]
  },
  {
   "cell_type": "markdown",
   "metadata": {
    "papermill": {
     "duration": 0.054481,
     "end_time": "2021-03-16T10:11:59.723249",
     "exception": false,
     "start_time": "2021-03-16T10:11:59.668768",
     "status": "completed"
    },
    "tags": []
   },
   "source": [
    "#### Apply a function on the city column to reduce incorrect cities names."
   ]
  },
  {
   "cell_type": "code",
   "execution_count": 31,
   "metadata": {
    "execution": {
     "iopub.execute_input": "2021-03-16T10:11:59.837721Z",
     "iopub.status.busy": "2021-03-16T10:11:59.836890Z",
     "iopub.status.idle": "2021-03-16T10:11:59.839628Z",
     "shell.execute_reply": "2021-03-16T10:11:59.839114Z"
    },
    "papermill": {
     "duration": 0.061608,
     "end_time": "2021-03-16T10:11:59.839738",
     "exception": false,
     "start_time": "2021-03-16T10:11:59.778130",
     "status": "completed"
    },
    "tags": []
   },
   "outputs": [],
   "source": [
    "def clean_city(city):\n",
    "    for i in pak_cities:\n",
    "        if i in str(city):\n",
    "            return i\n",
    "    return city"
   ]
  },
  {
   "cell_type": "code",
   "execution_count": 32,
   "metadata": {
    "execution": {
     "iopub.execute_input": "2021-03-16T10:11:59.973429Z",
     "iopub.status.busy": "2021-03-16T10:11:59.968251Z",
     "iopub.status.idle": "2021-03-16T10:12:00.311282Z",
     "shell.execute_reply": "2021-03-16T10:12:00.310827Z"
    },
    "papermill": {
     "duration": 0.417139,
     "end_time": "2021-03-16T10:12:00.311411",
     "exception": false,
     "start_time": "2021-03-16T10:11:59.894272",
     "status": "completed"
    },
    "tags": []
   },
   "outputs": [],
   "source": [
    "df[\"City\"] = df[\"City\"].apply(clean_city)"
   ]
  },
  {
   "cell_type": "code",
   "execution_count": 33,
   "metadata": {
    "execution": {
     "iopub.execute_input": "2021-03-16T10:12:00.425013Z",
     "iopub.status.busy": "2021-03-16T10:12:00.424242Z",
     "iopub.status.idle": "2021-03-16T10:12:00.427026Z",
     "shell.execute_reply": "2021-03-16T10:12:00.426628Z"
    },
    "papermill": {
     "duration": 0.060806,
     "end_time": "2021-03-16T10:12:00.427136",
     "exception": false,
     "start_time": "2021-03-16T10:12:00.366330",
     "status": "completed"
    },
    "tags": []
   },
   "outputs": [],
   "source": [
    "###  reduce city names from 4082 to 1707"
   ]
  },
  {
   "cell_type": "code",
   "execution_count": 34,
   "metadata": {
    "execution": {
     "iopub.execute_input": "2021-03-16T10:12:00.542026Z",
     "iopub.status.busy": "2021-03-16T10:12:00.541262Z",
     "iopub.status.idle": "2021-03-16T10:12:00.546896Z",
     "shell.execute_reply": "2021-03-16T10:12:00.546493Z"
    },
    "papermill": {
     "duration": 0.065008,
     "end_time": "2021-03-16T10:12:00.547003",
     "exception": false,
     "start_time": "2021-03-16T10:12:00.481995",
     "status": "completed"
    },
    "tags": []
   },
   "outputs": [
    {
     "data": {
      "text/plain": [
       "1707"
      ]
     },
     "execution_count": 34,
     "metadata": {},
     "output_type": "execute_result"
    }
   ],
   "source": [
    "df[\"City\"].nunique()"
   ]
  },
  {
   "cell_type": "markdown",
   "metadata": {
    "papermill": {
     "duration": 0.055138,
     "end_time": "2021-03-16T10:12:00.657329",
     "exception": false,
     "start_time": "2021-03-16T10:12:00.602191",
     "status": "completed"
    },
    "tags": []
   },
   "source": [
    " ###  use this advance nltk libraray which remove all incorrect names from city column."
   ]
  },
  {
   "cell_type": "code",
   "execution_count": 35,
   "metadata": {
    "execution": {
     "iopub.execute_input": "2021-03-16T10:12:00.772111Z",
     "iopub.status.busy": "2021-03-16T10:12:00.771294Z",
     "iopub.status.idle": "2021-03-16T10:12:01.473800Z",
     "shell.execute_reply": "2021-03-16T10:12:01.473269Z"
    },
    "papermill": {
     "duration": 0.761598,
     "end_time": "2021-03-16T10:12:01.473941",
     "exception": false,
     "start_time": "2021-03-16T10:12:00.712343",
     "status": "completed"
    },
    "tags": []
   },
   "outputs": [],
   "source": [
    "import nltk"
   ]
  },
  {
   "cell_type": "markdown",
   "metadata": {
    "papermill": {
     "duration": 0.05679,
     "end_time": "2021-03-16T10:12:01.586595",
     "exception": false,
     "start_time": "2021-03-16T10:12:01.529805",
     "status": "completed"
    },
    "tags": []
   },
   "source": [
    "#### there are some other country ,cities , town name are also in this data remove that name."
   ]
  },
  {
   "cell_type": "code",
   "execution_count": 36,
   "metadata": {
    "execution": {
     "iopub.execute_input": "2021-03-16T10:12:01.707389Z",
     "iopub.status.busy": "2021-03-16T10:12:01.706686Z",
     "iopub.status.idle": "2021-03-16T10:12:01.709420Z",
     "shell.execute_reply": "2021-03-16T10:12:01.708896Z"
    },
    "papermill": {
     "duration": 0.067681,
     "end_time": "2021-03-16T10:12:01.709551",
     "exception": false,
     "start_time": "2021-03-16T10:12:01.641870",
     "status": "completed"
    },
    "tags": []
   },
   "outputs": [],
   "source": [
    "def clean_city(row):\n",
    "    address = row.City.split()\n",
    "    add = set()\n",
    "    for a in address:\n",
    "        a = a.strip()\n",
    "        if a:\n",
    "            add.add(a)\n",
    "    for city in pak_cities:\n",
    "        if row.City.__contains__(city):\n",
    "            return city\n",
    "        \n",
    "    for a in add:\n",
    "        for c in pak_cities:\n",
    "            if nltk.edit_distance(a, c) <= 15: # considering spelling mistakes upto 5 letters\n",
    "                return c\n",
    "    return row.City"
   ]
  },
  {
   "cell_type": "code",
   "execution_count": 37,
   "metadata": {
    "execution": {
     "iopub.execute_input": "2021-03-16T10:12:01.824916Z",
     "iopub.status.busy": "2021-03-16T10:12:01.824317Z",
     "iopub.status.idle": "2021-03-16T10:12:22.438783Z",
     "shell.execute_reply": "2021-03-16T10:12:22.439211Z"
    },
    "papermill": {
     "duration": 20.674689,
     "end_time": "2021-03-16T10:12:22.439378",
     "exception": false,
     "start_time": "2021-03-16T10:12:01.764689",
     "status": "completed"
    },
    "tags": []
   },
   "outputs": [],
   "source": [
    "df[\"City\"] = df.apply(clean_city , axis = 1)"
   ]
  },
  {
   "cell_type": "markdown",
   "metadata": {
    "papermill": {
     "duration": 0.055762,
     "end_time": "2021-03-16T10:12:22.552080",
     "exception": false,
     "start_time": "2021-03-16T10:12:22.496318",
     "status": "completed"
    },
    "tags": []
   },
   "source": [
    "### Now all done with the city column.only 192 cities names are unique.\n"
   ]
  },
  {
   "cell_type": "code",
   "execution_count": 38,
   "metadata": {
    "execution": {
     "iopub.execute_input": "2021-03-16T10:12:22.671272Z",
     "iopub.status.busy": "2021-03-16T10:12:22.670042Z",
     "iopub.status.idle": "2021-03-16T10:12:22.675421Z",
     "shell.execute_reply": "2021-03-16T10:12:22.674929Z"
    },
    "papermill": {
     "duration": 0.067194,
     "end_time": "2021-03-16T10:12:22.675601",
     "exception": false,
     "start_time": "2021-03-16T10:12:22.608407",
     "status": "completed"
    },
    "tags": []
   },
   "outputs": [
    {
     "data": {
      "text/plain": [
       "192"
      ]
     },
     "execution_count": 38,
     "metadata": {},
     "output_type": "execute_result"
    }
   ],
   "source": [
    "df.City.nunique()"
   ]
  },
  {
   "cell_type": "code",
   "execution_count": 39,
   "metadata": {
    "execution": {
     "iopub.execute_input": "2021-03-16T10:12:22.796721Z",
     "iopub.status.busy": "2021-03-16T10:12:22.795850Z",
     "iopub.status.idle": "2021-03-16T10:12:22.806638Z",
     "shell.execute_reply": "2021-03-16T10:12:22.806114Z"
    },
    "papermill": {
     "duration": 0.072994,
     "end_time": "2021-03-16T10:12:22.806751",
     "exception": false,
     "start_time": "2021-03-16T10:12:22.733757",
     "status": "completed"
    },
    "tags": []
   },
   "outputs": [
    {
     "data": {
      "text/html": [
       "<div>\n",
       "<style scoped>\n",
       "    .dataframe tbody tr th:only-of-type {\n",
       "        vertical-align: middle;\n",
       "    }\n",
       "\n",
       "    .dataframe tbody tr th {\n",
       "        vertical-align: top;\n",
       "    }\n",
       "\n",
       "    .dataframe thead th {\n",
       "        text-align: right;\n",
       "    }\n",
       "</style>\n",
       "<table border=\"1\" class=\"dataframe\">\n",
       "  <thead>\n",
       "    <tr style=\"text-align: right;\">\n",
       "      <th></th>\n",
       "      <th>City</th>\n",
       "      <th>Order_Number</th>\n",
       "    </tr>\n",
       "  </thead>\n",
       "  <tbody>\n",
       "    <tr>\n",
       "      <th>60</th>\n",
       "      <td>islamabad</td>\n",
       "      <td>4353</td>\n",
       "    </tr>\n",
       "    <tr>\n",
       "      <th>79</th>\n",
       "      <td>karachi</td>\n",
       "      <td>2995</td>\n",
       "    </tr>\n",
       "    <tr>\n",
       "      <th>97</th>\n",
       "      <td>lahore</td>\n",
       "      <td>2391</td>\n",
       "    </tr>\n",
       "    <tr>\n",
       "      <th>152</th>\n",
       "      <td>rawalpindi</td>\n",
       "      <td>791</td>\n",
       "    </tr>\n",
       "    <tr>\n",
       "      <th>45</th>\n",
       "      <td>faisalabad</td>\n",
       "      <td>573</td>\n",
       "    </tr>\n",
       "    <tr>\n",
       "      <th>142</th>\n",
       "      <td>peshawar</td>\n",
       "      <td>543</td>\n",
       "    </tr>\n",
       "    <tr>\n",
       "      <th>123</th>\n",
       "      <td>multan</td>\n",
       "      <td>492</td>\n",
       "    </tr>\n",
       "    <tr>\n",
       "      <th>50</th>\n",
       "      <td>gujranwala</td>\n",
       "      <td>329</td>\n",
       "    </tr>\n",
       "    <tr>\n",
       "      <th>59</th>\n",
       "      <td>hyderabad</td>\n",
       "      <td>290</td>\n",
       "    </tr>\n",
       "    <tr>\n",
       "      <th>169</th>\n",
       "      <td>sialkot</td>\n",
       "      <td>289</td>\n",
       "    </tr>\n",
       "  </tbody>\n",
       "</table>\n",
       "</div>"
      ],
      "text/plain": [
       "           City  Order_Number\n",
       "60    islamabad          4353\n",
       "79      karachi          2995\n",
       "97       lahore          2391\n",
       "152  rawalpindi           791\n",
       "45   faisalabad           573\n",
       "142    peshawar           543\n",
       "123      multan           492\n",
       "50   gujranwala           329\n",
       "59    hyderabad           290\n",
       "169     sialkot           289"
      ]
     },
     "execution_count": 39,
     "metadata": {},
     "output_type": "execute_result"
    }
   ],
   "source": [
    "df.groupby(\"City\")[\"Order_Number\"].count().reset_index().sort_values(\"Order_Number\", ascending=False).head(10)"
   ]
  },
  {
   "cell_type": "markdown",
   "metadata": {
    "papermill": {
     "duration": 0.056817,
     "end_time": "2021-03-16T10:12:22.920904",
     "exception": false,
     "start_time": "2021-03-16T10:12:22.864087",
     "status": "completed"
    },
    "tags": []
   },
   "source": [
    "### Now data is clean. we are good to go now.next step to address the queries."
   ]
  },
  {
   "cell_type": "markdown",
   "metadata": {
    "papermill": {
     "duration": 0.057466,
     "end_time": "2021-03-16T10:12:23.035399",
     "exception": false,
     "start_time": "2021-03-16T10:12:22.977933",
     "status": "completed"
    },
    "tags": []
   },
   "source": [
    "### Break order_date column into day , month , year and time."
   ]
  },
  {
   "cell_type": "code",
   "execution_count": 40,
   "metadata": {
    "execution": {
     "iopub.execute_input": "2021-03-16T10:12:23.157748Z",
     "iopub.status.busy": "2021-03-16T10:12:23.157043Z",
     "iopub.status.idle": "2021-03-16T10:12:23.316195Z",
     "shell.execute_reply": "2021-03-16T10:12:23.315743Z"
    },
    "papermill": {
     "duration": 0.223612,
     "end_time": "2021-03-16T10:12:23.316327",
     "exception": false,
     "start_time": "2021-03-16T10:12:23.092715",
     "status": "completed"
    },
    "tags": []
   },
   "outputs": [],
   "source": [
    "df[\"Order_Date\"] = pd.DatetimeIndex(df[\"Order_Date\"])\n",
    "df[\"Year\"] = df[\"Order_Date\"].dt.year\n",
    "df[\"Day\"] = df[\"Order_Date\"].dt.day_name()\n",
    "df[\"Month\"] = df[\"Order_Date\"].dt.month_name()\n",
    "df[\"Time\"] = df[\"Order_Date\"].dt.time\n",
    "df[\"Hour\"] = df[\"Order_Date\"].dt.time\n",
    "df[\"MY\"]=pd.to_datetime(df['Order_Date']).dt.to_period('M')\n",
    "df[\"MY\"]= df[\"MY\"].dt.strftime('%Y-%m')"
   ]
  },
  {
   "cell_type": "code",
   "execution_count": 41,
   "metadata": {
    "execution": {
     "iopub.execute_input": "2021-03-16T10:12:23.446687Z",
     "iopub.status.busy": "2021-03-16T10:12:23.445980Z",
     "iopub.status.idle": "2021-03-16T10:12:23.452058Z",
     "shell.execute_reply": "2021-03-16T10:12:23.451606Z"
    },
    "papermill": {
     "duration": 0.078535,
     "end_time": "2021-03-16T10:12:23.452180",
     "exception": false,
     "start_time": "2021-03-16T10:12:23.373645",
     "status": "completed"
    },
    "tags": []
   },
   "outputs": [
    {
     "data": {
      "text/html": [
       "<div>\n",
       "<style scoped>\n",
       "    .dataframe tbody tr th:only-of-type {\n",
       "        vertical-align: middle;\n",
       "    }\n",
       "\n",
       "    .dataframe tbody tr th {\n",
       "        vertical-align: top;\n",
       "    }\n",
       "\n",
       "    .dataframe thead th {\n",
       "        text-align: right;\n",
       "    }\n",
       "</style>\n",
       "<table border=\"1\" class=\"dataframe\">\n",
       "  <thead>\n",
       "    <tr style=\"text-align: right;\">\n",
       "      <th></th>\n",
       "      <th>Order_Number</th>\n",
       "      <th>Order_Status</th>\n",
       "      <th>Book_Name</th>\n",
       "      <th>Order_Date</th>\n",
       "      <th>City</th>\n",
       "      <th>Year</th>\n",
       "      <th>Day</th>\n",
       "      <th>Month</th>\n",
       "      <th>Time</th>\n",
       "      <th>Hour</th>\n",
       "      <th>MY</th>\n",
       "    </tr>\n",
       "  </thead>\n",
       "  <tbody>\n",
       "    <tr>\n",
       "      <th>0</th>\n",
       "      <td>70978</td>\n",
       "      <td>Completed</td>\n",
       "      <td>column nigari kese sekhain</td>\n",
       "      <td>2021-01-20 17:43:00</td>\n",
       "      <td>swat</td>\n",
       "      <td>2021</td>\n",
       "      <td>Wednesday</td>\n",
       "      <td>January</td>\n",
       "      <td>17:43:00</td>\n",
       "      <td>17:43:00</td>\n",
       "      <td>2021-01</td>\n",
       "    </tr>\n",
       "    <tr>\n",
       "      <th>1</th>\n",
       "      <td>70962</td>\n",
       "      <td>Completed</td>\n",
       "      <td>انٹرنیٹ سے پیسہ کمائیں</td>\n",
       "      <td>2021-01-20 13:37:00</td>\n",
       "      <td>karachi</td>\n",
       "      <td>2021</td>\n",
       "      <td>Wednesday</td>\n",
       "      <td>January</td>\n",
       "      <td>13:37:00</td>\n",
       "      <td>13:37:00</td>\n",
       "      <td>2021-01</td>\n",
       "    </tr>\n",
       "    <tr>\n",
       "      <th>2</th>\n",
       "      <td>70960</td>\n",
       "      <td>Completed</td>\n",
       "      <td>justju ka safar-1</td>\n",
       "      <td>2021-01-20 10:48:00</td>\n",
       "      <td>karachi</td>\n",
       "      <td>2021</td>\n",
       "      <td>Wednesday</td>\n",
       "      <td>January</td>\n",
       "      <td>10:48:00</td>\n",
       "      <td>10:48:00</td>\n",
       "      <td>2021-01</td>\n",
       "    </tr>\n",
       "    <tr>\n",
       "      <th>3</th>\n",
       "      <td>70959</td>\n",
       "      <td>Completed</td>\n",
       "      <td>r ka taaruf</td>\n",
       "      <td>2021-01-20 10:32:00</td>\n",
       "      <td>karachi</td>\n",
       "      <td>2021</td>\n",
       "      <td>Wednesday</td>\n",
       "      <td>January</td>\n",
       "      <td>10:32:00</td>\n",
       "      <td>10:32:00</td>\n",
       "      <td>2021-01</td>\n",
       "    </tr>\n",
       "    <tr>\n",
       "      <th>4</th>\n",
       "      <td>70958</td>\n",
       "      <td>Completed</td>\n",
       "      <td>انٹرنیٹ سے پیسہ کمائیں</td>\n",
       "      <td>2021-01-20 10:29:00</td>\n",
       "      <td>karachi</td>\n",
       "      <td>2021</td>\n",
       "      <td>Wednesday</td>\n",
       "      <td>January</td>\n",
       "      <td>10:29:00</td>\n",
       "      <td>10:29:00</td>\n",
       "      <td>2021-01</td>\n",
       "    </tr>\n",
       "  </tbody>\n",
       "</table>\n",
       "</div>"
      ],
      "text/plain": [
       "   Order_Number Order_Status                   Book_Name          Order_Date  \\\n",
       "0         70978    Completed  column nigari kese sekhain 2021-01-20 17:43:00   \n",
       "1         70962    Completed      انٹرنیٹ سے پیسہ کمائیں 2021-01-20 13:37:00   \n",
       "2         70960    Completed           justju ka safar-1 2021-01-20 10:48:00   \n",
       "3         70959    Completed                 r ka taaruf 2021-01-20 10:32:00   \n",
       "4         70958    Completed      انٹرنیٹ سے پیسہ کمائیں 2021-01-20 10:29:00   \n",
       "\n",
       "      City  Year        Day    Month      Time      Hour       MY  \n",
       "0     swat  2021  Wednesday  January  17:43:00  17:43:00  2021-01  \n",
       "1  karachi  2021  Wednesday  January  13:37:00  13:37:00  2021-01  \n",
       "2  karachi  2021  Wednesday  January  10:48:00  10:48:00  2021-01  \n",
       "3  karachi  2021  Wednesday  January  10:32:00  10:32:00  2021-01  \n",
       "4  karachi  2021  Wednesday  January  10:29:00  10:29:00  2021-01  "
      ]
     },
     "execution_count": 41,
     "metadata": {},
     "output_type": "execute_result"
    }
   ],
   "source": [
    "df.head()"
   ]
  },
  {
   "cell_type": "markdown",
   "metadata": {
    "papermill": {
     "duration": 0.058588,
     "end_time": "2021-03-16T10:12:23.568739",
     "exception": false,
     "start_time": "2021-03-16T10:12:23.510151",
     "status": "completed"
    },
    "tags": []
   },
   "source": [
    "# Visualize Order Status Frequency"
   ]
  },
  {
   "cell_type": "code",
   "execution_count": 42,
   "metadata": {
    "execution": {
     "iopub.execute_input": "2021-03-16T10:12:23.696352Z",
     "iopub.status.busy": "2021-03-16T10:12:23.694509Z",
     "iopub.status.idle": "2021-03-16T10:12:23.699674Z",
     "shell.execute_reply": "2021-03-16T10:12:23.699189Z"
    },
    "papermill": {
     "duration": 0.069337,
     "end_time": "2021-03-16T10:12:23.699817",
     "exception": false,
     "start_time": "2021-03-16T10:12:23.630480",
     "status": "completed"
    },
    "tags": []
   },
   "outputs": [
    {
     "data": {
      "text/plain": [
       "array(['Completed', 'Returned', 'Canceled'], dtype=object)"
      ]
     },
     "execution_count": 42,
     "metadata": {},
     "output_type": "execute_result"
    }
   ],
   "source": [
    "df[\"Order_Status\"].unique()"
   ]
  },
  {
   "cell_type": "code",
   "execution_count": 43,
   "metadata": {
    "execution": {
     "iopub.execute_input": "2021-03-16T10:12:23.826978Z",
     "iopub.status.busy": "2021-03-16T10:12:23.826149Z",
     "iopub.status.idle": "2021-03-16T10:12:23.830037Z",
     "shell.execute_reply": "2021-03-16T10:12:23.829636Z"
    },
    "papermill": {
     "duration": 0.072476,
     "end_time": "2021-03-16T10:12:23.830152",
     "exception": false,
     "start_time": "2021-03-16T10:12:23.757676",
     "status": "completed"
    },
    "tags": []
   },
   "outputs": [
    {
     "data": {
      "text/plain": [
       "Completed    17895\n",
       "Returned      1261\n",
       "Canceled        28\n",
       "Name: Order_Status, dtype: int64"
      ]
     },
     "execution_count": 43,
     "metadata": {},
     "output_type": "execute_result"
    }
   ],
   "source": [
    "df[\"Order_Status\"].value_counts()"
   ]
  },
  {
   "cell_type": "code",
   "execution_count": 44,
   "metadata": {
    "execution": {
     "iopub.execute_input": "2021-03-16T10:12:23.955045Z",
     "iopub.status.busy": "2021-03-16T10:12:23.953816Z",
     "iopub.status.idle": "2021-03-16T10:12:24.107183Z",
     "shell.execute_reply": "2021-03-16T10:12:24.107577Z"
    },
    "papermill": {
     "duration": 0.218932,
     "end_time": "2021-03-16T10:12:24.107742",
     "exception": false,
     "start_time": "2021-03-16T10:12:23.888810",
     "status": "completed"
    },
    "tags": []
   },
   "outputs": [
    {
     "name": "stdout",
     "output_type": "stream",
     "text": [
      "Completed orders are 17895\n",
      "Returned orders are 1261\n",
      "Canceled orders are 28\n"
     ]
    },
    {
     "data": {
      "image/png": "[encoded data removed]",
      "text/plain": [
       "<Figure size 576x432 with 1 Axes>"
      ]
     },
     "metadata": {
      "needs_background": "light"
     },
     "output_type": "display_data"
    }
   ],
   "source": [
    "#First we check Number of completed, returned and cancelled orders\n",
    "order_status = dict(df.value_counts('Order_Status'))\n",
    "for key,value in order_status.items():\n",
    "    print(f'{key} orders are {value}')\n",
    "\n",
    "#Visualize completed, returned and cancelled orders\n",
    "status = order_status.keys()\n",
    "quantity = order_status.values()\n",
    "plt.figure(figsize = (8,6))\n",
    "plt.bar(status , quantity , color = ('Purple' , 'Green' , 'Red'))\n",
    "plt.grid()\n",
    "plt.xticks()\n",
    "plt.yticks()\n",
    "plt.title('Order Status Insights' )\n",
    "plt.xlabel('Status' )\n",
    "plt.ylabel('Quantity' )\n",
    "plt.show()"
   ]
  },
  {
   "cell_type": "code",
   "execution_count": 45,
   "metadata": {
    "execution": {
     "iopub.execute_input": "2021-03-16T10:12:24.231105Z",
     "iopub.status.busy": "2021-03-16T10:12:24.230394Z",
     "iopub.status.idle": "2021-03-16T10:12:24.237244Z",
     "shell.execute_reply": "2021-03-16T10:12:24.236734Z"
    },
    "papermill": {
     "duration": 0.069965,
     "end_time": "2021-03-16T10:12:24.237353",
     "exception": false,
     "start_time": "2021-03-16T10:12:24.167388",
     "status": "completed"
    },
    "tags": []
   },
   "outputs": [
    {
     "data": {
      "text/plain": [
       "array([2021, 2020, 2019])"
      ]
     },
     "execution_count": 45,
     "metadata": {},
     "output_type": "execute_result"
    }
   ],
   "source": [
    "df[\"Order_Date\"].dt.year.unique()"
   ]
  },
  {
   "cell_type": "markdown",
   "metadata": {
    "papermill": {
     "duration": 0.060018,
     "end_time": "2021-03-16T10:12:24.357221",
     "exception": false,
     "start_time": "2021-03-16T10:12:24.297203",
     "status": "completed"
    },
    "tags": []
   },
   "source": [
    "## Order status per year"
   ]
  },
  {
   "cell_type": "code",
   "execution_count": 46,
   "metadata": {
    "execution": {
     "iopub.execute_input": "2021-03-16T10:12:24.481275Z",
     "iopub.status.busy": "2021-03-16T10:12:24.480493Z",
     "iopub.status.idle": "2021-03-16T10:12:24.482805Z",
     "shell.execute_reply": "2021-03-16T10:12:24.483274Z"
    },
    "papermill": {
     "duration": 0.06629,
     "end_time": "2021-03-16T10:12:24.483405",
     "exception": false,
     "start_time": "2021-03-16T10:12:24.417115",
     "status": "completed"
    },
    "tags": []
   },
   "outputs": [],
   "source": [
    "# reterive order status in 2019\n",
    "# stats_19 = df[df['order_date'].dt.strftime(\"%Y\") == \"2019\"].order_status  #FIRST METHOD\n",
    "# # reterive order status in 2020\n",
    "# stats_20 = df[df['order_date'].dt.strftime(\"%Y\") == \"2020\"].order_status\n",
    "# # reterive order status in 2021\n",
    "# stats_21 = df[df['order_date'].dt.strftime(\"%Y\") == \"2021\"].order_status"
   ]
  },
  {
   "cell_type": "code",
   "execution_count": 47,
   "metadata": {
    "execution": {
     "iopub.execute_input": "2021-03-16T10:12:24.610609Z",
     "iopub.status.busy": "2021-03-16T10:12:24.609937Z",
     "iopub.status.idle": "2021-03-16T10:12:24.954058Z",
     "shell.execute_reply": "2021-03-16T10:12:24.954496Z"
    },
    "papermill": {
     "duration": 0.411133,
     "end_time": "2021-03-16T10:12:24.954655",
     "exception": false,
     "start_time": "2021-03-16T10:12:24.543522",
     "status": "completed"
    },
    "tags": []
   },
   "outputs": [
    {
     "data": {
      "image/png": "[encoded data removed]",
      "text/plain": [
       "<Figure size 1152x432 with 3 Axes>"
      ]
     },
     "metadata": {
      "needs_background": "light"
     },
     "output_type": "display_data"
    }
   ],
   "source": [
    "# reterive order status in 2019.\n",
    "stats_2019 = df[df[\"Order_Date\"].dt.year == 2019].Order_Status            # SECOND METHOD\n",
    "# reterive order status in 2020.\n",
    "stats_2020 = df[df[\"Order_Date\"].dt.year == 2020].Order_Status\n",
    "# reterive order status in 2021.\n",
    "stats_2021 = df[df[\"Order_Date\"].dt.year == 2021].Order_Status\n",
    "\n",
    "# graph size\n",
    "plt.figure(figsize=(16,6))\n",
    "#histogram for 2019\n",
    "plt.subplot(1,3,1)\n",
    "plt.title('Order Status in 2019')\n",
    "plt.xlabel('Order status')\n",
    "plt.ylabel('Total no of orders')\n",
    "plt.hist(stats_2019)\n",
    "\n",
    "\n",
    "#histogram for 2020\n",
    "plt.subplot(1,3,2)\n",
    "plt.title('Order Status in 2020')\n",
    "plt.xlabel('Order status')\n",
    "plt.ylabel('Total no of orders')\n",
    "plt.hist(stats_2020)\n",
    "\n",
    "\n",
    "#histogram for 2021\n",
    "plt.subplot(1,3,3)\n",
    "plt.title('Order Status in 2021')\n",
    "plt.xlabel('Order status')\n",
    "plt.ylabel('Total no of orders')\n",
    "plt.hist(stats_2021)\n",
    "plt.show()"
   ]
  },
  {
   "cell_type": "markdown",
   "metadata": {
    "papermill": {
     "duration": 0.06248,
     "end_time": "2021-03-16T10:12:25.078486",
     "exception": false,
     "start_time": "2021-03-16T10:12:25.016006",
     "status": "completed"
    },
    "tags": []
   },
   "source": [
    "### Find the Correlation of returned books with book name, city and order_status."
   ]
  },
  {
   "cell_type": "code",
   "execution_count": 48,
   "metadata": {
    "execution": {
     "iopub.execute_input": "2021-03-16T10:12:25.207893Z",
     "iopub.status.busy": "2021-03-16T10:12:25.207113Z",
     "iopub.status.idle": "2021-03-16T10:12:25.214671Z",
     "shell.execute_reply": "2021-03-16T10:12:25.215167Z"
    },
    "papermill": {
     "duration": 0.0764,
     "end_time": "2021-03-16T10:12:25.215305",
     "exception": false,
     "start_time": "2021-03-16T10:12:25.138905",
     "status": "completed"
    },
    "tags": []
   },
   "outputs": [
    {
     "data": {
      "text/plain": [
       "انٹرنیٹ سے پیسہ کمائیں                    436\n",
       "python programming                        147\n",
       "blockchain, cryptocurrency and bitcoin    139\n",
       "artificial intelligence                    52\n",
       "product management                         37\n",
       "مشین لرننگ                                 27\n",
       "c++                                        25\n",
       "column nigari kese sekhain                 25\n",
       "ڈیٹا سائنس                                 25\n",
       "lucky draw - free book                     23\n",
       "Name: Book_Name, dtype: int64"
      ]
     },
     "execution_count": 48,
     "metadata": {},
     "output_type": "execute_result"
    }
   ],
   "source": [
    "df[df[\"Order_Status\"] == \"Returned\"].Book_Name.value_counts().head(10)"
   ]
  },
  {
   "cell_type": "markdown",
   "metadata": {
    "papermill": {
     "duration": 0.060825,
     "end_time": "2021-03-16T10:12:25.337205",
     "exception": false,
     "start_time": "2021-03-16T10:12:25.276380",
     "status": "completed"
    },
    "tags": []
   },
   "source": [
    "### Find the Correlation of returned books with city. "
   ]
  },
  {
   "cell_type": "code",
   "execution_count": 49,
   "metadata": {
    "execution": {
     "iopub.execute_input": "2021-03-16T10:12:25.466613Z",
     "iopub.status.busy": "2021-03-16T10:12:25.465853Z",
     "iopub.status.idle": "2021-03-16T10:12:25.473720Z",
     "shell.execute_reply": "2021-03-16T10:12:25.473107Z"
    },
    "papermill": {
     "duration": 0.075538,
     "end_time": "2021-03-16T10:12:25.473832",
     "exception": false,
     "start_time": "2021-03-16T10:12:25.398294",
     "status": "completed"
    },
    "tags": []
   },
   "outputs": [
    {
     "data": {
      "text/plain": [
       "islamabad     442\n",
       "karachi       132\n",
       "lahore         97\n",
       "rawalpindi     40\n",
       "peshawar       37\n",
       "multan         32\n",
       "faisalabad     27\n",
       "hyderabad      25\n",
       "               23\n",
       "gujranwala     17\n",
       "Name: City, dtype: int64"
      ]
     },
     "execution_count": 49,
     "metadata": {},
     "output_type": "execute_result"
    }
   ],
   "source": [
    "df[df[\"Order_Status\"] == \"Returned\"].City.value_counts().head(10)"
   ]
  },
  {
   "cell_type": "markdown",
   "metadata": {
    "papermill": {
     "duration": 0.061923,
     "end_time": "2021-03-16T10:12:25.597068",
     "exception": false,
     "start_time": "2021-03-16T10:12:25.535145",
     "status": "completed"
    },
    "tags": []
   },
   "source": [
    "### Find the Correlation of Completed books with book name."
   ]
  },
  {
   "cell_type": "code",
   "execution_count": 50,
   "metadata": {
    "execution": {
     "iopub.execute_input": "2021-03-16T10:12:25.728955Z",
     "iopub.status.busy": "2021-03-16T10:12:25.728066Z",
     "iopub.status.idle": "2021-03-16T10:12:25.742364Z",
     "shell.execute_reply": "2021-03-16T10:12:25.741949Z"
    },
    "papermill": {
     "duration": 0.083554,
     "end_time": "2021-03-16T10:12:25.742495",
     "exception": false,
     "start_time": "2021-03-16T10:12:25.658941",
     "status": "completed"
    },
    "tags": []
   },
   "outputs": [
    {
     "data": {
      "text/plain": [
       "انٹرنیٹ سے پیسہ کمائیں                    2590\n",
       "python programming                        2025\n",
       "artificial intelligence                   1252\n",
       "blockchain, cryptocurrency and bitcoin    1146\n",
       "product management                        1103\n",
       "justju ka safar-1                         1025\n",
       "molo masali                                564\n",
       "ڈیٹا سائنس ۔ ایک تعارف                     525\n",
       "lucky draw - free book                     482\n",
       "c++                                        441\n",
       "Name: Book_Name, dtype: int64"
      ]
     },
     "execution_count": 50,
     "metadata": {},
     "output_type": "execute_result"
    }
   ],
   "source": [
    "df[df[\"Order_Status\"] == \"Completed\"].Book_Name.value_counts().head(10)"
   ]
  },
  {
   "cell_type": "markdown",
   "metadata": {
    "papermill": {
     "duration": 0.062416,
     "end_time": "2021-03-16T10:12:25.867297",
     "exception": false,
     "start_time": "2021-03-16T10:12:25.804881",
     "status": "completed"
    },
    "tags": []
   },
   "source": [
    "### Find the Correlation of returned books with City."
   ]
  },
  {
   "cell_type": "code",
   "execution_count": 51,
   "metadata": {
    "execution": {
     "iopub.execute_input": "2021-03-16T10:12:26.000898Z",
     "iopub.status.busy": "2021-03-16T10:12:26.000142Z",
     "iopub.status.idle": "2021-03-16T10:12:26.012881Z",
     "shell.execute_reply": "2021-03-16T10:12:26.012354Z"
    },
    "papermill": {
     "duration": 0.082239,
     "end_time": "2021-03-16T10:12:26.013017",
     "exception": false,
     "start_time": "2021-03-16T10:12:25.930778",
     "status": "completed"
    },
    "tags": []
   },
   "outputs": [
    {
     "data": {
      "text/plain": [
       "islamabad     3906\n",
       "karachi       2859\n",
       "lahore        2291\n",
       "rawalpindi     749\n",
       "faisalabad     545\n",
       "peshawar       505\n",
       "multan         460\n",
       "gujranwala     312\n",
       "sialkot        275\n",
       "hyderabad      264\n",
       "Name: City, dtype: int64"
      ]
     },
     "execution_count": 51,
     "metadata": {},
     "output_type": "execute_result"
    }
   ],
   "source": [
    "df[df[\"Order_Status\"] == \"Completed\"].City.value_counts().head(10)"
   ]
  },
  {
   "cell_type": "markdown",
   "metadata": {
    "papermill": {
     "duration": 0.062033,
     "end_time": "2021-03-16T10:12:26.140715",
     "exception": false,
     "start_time": "2021-03-16T10:12:26.078682",
     "status": "completed"
    },
    "tags": []
   },
   "source": [
    "### Find the Correlation of Canceled books with book name."
   ]
  },
  {
   "cell_type": "code",
   "execution_count": 52,
   "metadata": {
    "execution": {
     "iopub.execute_input": "2021-03-16T10:12:26.276696Z",
     "iopub.status.busy": "2021-03-16T10:12:26.275892Z",
     "iopub.status.idle": "2021-03-16T10:12:26.279114Z",
     "shell.execute_reply": "2021-03-16T10:12:26.279575Z"
    },
    "papermill": {
     "duration": 0.076601,
     "end_time": "2021-03-16T10:12:26.279716",
     "exception": false,
     "start_time": "2021-03-16T10:12:26.203115",
     "status": "completed"
    },
    "tags": []
   },
   "outputs": [
    {
     "data": {
      "text/plain": [
       "artificial intelligence                   5\n",
       "python programming                        5\n",
       "انٹرنیٹ سے پیسہ کمائیں                    3\n",
       "c++                                       2\n",
       "blockchain, cryptocurrency and bitcoin    2\n",
       "the journey within                        2\n",
       "gosha e tanhai                            2\n",
       "harch                                     1\n",
       "ارفع کریم                                 1\n",
       "tarzan or wadi koh kaf                    1\n",
       "Name: Book_Name, dtype: int64"
      ]
     },
     "execution_count": 52,
     "metadata": {},
     "output_type": "execute_result"
    }
   ],
   "source": [
    "df[df[\"Order_Status\"] == \"Canceled\"].Book_Name.value_counts().head(10)"
   ]
  },
  {
   "cell_type": "markdown",
   "metadata": {
    "papermill": {
     "duration": 0.063014,
     "end_time": "2021-03-16T10:12:26.405673",
     "exception": false,
     "start_time": "2021-03-16T10:12:26.342659",
     "status": "completed"
    },
    "tags": []
   },
   "source": [
    "### Find the Correlation of Canceled books with city."
   ]
  },
  {
   "cell_type": "code",
   "execution_count": 53,
   "metadata": {
    "execution": {
     "iopub.execute_input": "2021-03-16T10:12:26.541102Z",
     "iopub.status.busy": "2021-03-16T10:12:26.540318Z",
     "iopub.status.idle": "2021-03-16T10:12:26.544038Z",
     "shell.execute_reply": "2021-03-16T10:12:26.543638Z"
    },
    "papermill": {
     "duration": 0.075918,
     "end_time": "2021-03-16T10:12:26.544152",
     "exception": false,
     "start_time": "2021-03-16T10:12:26.468234",
     "status": "completed"
    },
    "tags": []
   },
   "outputs": [
    {
     "data": {
      "text/plain": [
       "islamabad     5\n",
       "karachi       4\n",
       "lahore        3\n",
       "rawalpindi    2\n",
       "kasur         1\n",
       "chiniot       1\n",
       "hasilpur      1\n",
       "sargodha      1\n",
       "dir           1\n",
       "jhang         1\n",
       "Name: City, dtype: int64"
      ]
     },
     "execution_count": 53,
     "metadata": {},
     "output_type": "execute_result"
    }
   ],
   "source": [
    "df[df[\"Order_Status\"] == \"Canceled\"].City.value_counts().head(10)"
   ]
  },
  {
   "cell_type": "markdown",
   "metadata": {
    "papermill": {
     "duration": 0.062878,
     "end_time": "2021-03-16T10:12:26.669946",
     "exception": false,
     "start_time": "2021-03-16T10:12:26.607068",
     "status": "completed"
    },
    "tags": []
   },
   "source": [
    "# Top 10 selling books."
   ]
  },
  {
   "cell_type": "code",
   "execution_count": 54,
   "metadata": {
    "execution": {
     "iopub.execute_input": "2021-03-16T10:12:26.809922Z",
     "iopub.status.busy": "2021-03-16T10:12:26.809143Z",
     "iopub.status.idle": "2021-03-16T10:12:26.812350Z",
     "shell.execute_reply": "2021-03-16T10:12:26.812860Z"
    },
    "papermill": {
     "duration": 0.07893,
     "end_time": "2021-03-16T10:12:26.813030",
     "exception": false,
     "start_time": "2021-03-16T10:12:26.734100",
     "status": "completed"
    },
    "tags": []
   },
   "outputs": [
    {
     "data": {
      "text/plain": [
       "انٹرنیٹ سے پیسہ کمائیں                    3029\n",
       "python programming                        2177\n",
       "artificial intelligence                   1309\n",
       "blockchain, cryptocurrency and bitcoin    1287\n",
       "product management                        1141\n",
       "justju ka safar-1                         1040\n",
       "molo masali                                575\n",
       "ڈیٹا سائنس ۔ ایک تعارف                     541\n",
       "lucky draw - free book                     505\n",
       "c++                                        468\n",
       "Name: Book_Name, dtype: int64"
      ]
     },
     "execution_count": 54,
     "metadata": {},
     "output_type": "execute_result"
    }
   ],
   "source": [
    "df[\"Book_Name\"].value_counts().head(10)"
   ]
  },
  {
   "cell_type": "code",
   "execution_count": 55,
   "metadata": {
    "execution": {
     "iopub.execute_input": "2021-03-16T10:12:26.951491Z",
     "iopub.status.busy": "2021-03-16T10:12:26.950909Z",
     "iopub.status.idle": "2021-03-16T10:12:27.222628Z",
     "shell.execute_reply": "2021-03-16T10:12:27.222183Z"
    },
    "papermill": {
     "duration": 0.345849,
     "end_time": "2021-03-16T10:12:27.222750",
     "exception": false,
     "start_time": "2021-03-16T10:12:26.876901",
     "status": "completed"
    },
    "tags": []
   },
   "outputs": [
    {
     "name": "stderr",
     "output_type": "stream",
     "text": [
      "/opt/conda/lib/python3.7/site-packages/matplotlib/backends/backend_agg.py:238: RuntimeWarning: Glyph 1746 missing from current font.\n",
      "  font.set_text(s, 0.0, flags=flags)\n",
      "/opt/conda/lib/python3.7/site-packages/matplotlib/backends/backend_agg.py:238: RuntimeWarning: Glyph 1729 missing from current font.\n",
      "  font.set_text(s, 0.0, flags=flags)\n",
      "/opt/conda/lib/python3.7/site-packages/matplotlib/backends/backend_agg.py:238: RuntimeWarning: Glyph 1748 missing from current font.\n",
      "  font.set_text(s, 0.0, flags=flags)\n",
      "/opt/conda/lib/python3.7/site-packages/matplotlib/backends/backend_agg.py:201: RuntimeWarning: Glyph 1746 missing from current font.\n",
      "  font.set_text(s, 0, flags=flags)\n",
      "/opt/conda/lib/python3.7/site-packages/matplotlib/backends/backend_agg.py:201: RuntimeWarning: Glyph 1729 missing from current font.\n",
      "  font.set_text(s, 0, flags=flags)\n",
      "/opt/conda/lib/python3.7/site-packages/matplotlib/backends/backend_agg.py:201: RuntimeWarning: Glyph 1748 missing from current font.\n",
      "  font.set_text(s, 0, flags=flags)\n"
     ]
    },
    {
     "data": {
      "image/png": "[encoded data removed]",
      "text/plain": [
       "<Figure size 432x288 with 1 Axes>"
      ]
     },
     "metadata": {
      "needs_background": "light"
     },
     "output_type": "display_data"
    }
   ],
   "source": [
    "df[\"Book_Name\"].value_counts().head(10).plot.bar()\n",
    "plt.xticks()\n",
    "plt.title(\"Top 10 Best Selling Books\")\n",
    "plt.xlabel(\"Books\")\n",
    "plt.ylabel(\"Number of Orders\")\n",
    "plt.show()\n"
   ]
  },
  {
   "cell_type": "markdown",
   "metadata": {
    "papermill": {
     "duration": 0.064342,
     "end_time": "2021-03-16T10:12:27.351439",
     "exception": false,
     "start_time": "2021-03-16T10:12:27.287097",
     "status": "completed"
    },
    "tags": []
   },
   "source": [
    "# Least 10 selling books."
   ]
  },
  {
   "cell_type": "code",
   "execution_count": 56,
   "metadata": {
    "execution": {
     "iopub.execute_input": "2021-03-16T10:12:27.491745Z",
     "iopub.status.busy": "2021-03-16T10:12:27.491082Z",
     "iopub.status.idle": "2021-03-16T10:12:27.495927Z",
     "shell.execute_reply": "2021-03-16T10:12:27.495447Z"
    },
    "papermill": {
     "duration": 0.07999,
     "end_time": "2021-03-16T10:12:27.496046",
     "exception": false,
     "start_time": "2021-03-16T10:12:27.416056",
     "status": "completed"
    },
    "tags": []
   },
   "outputs": [
    {
     "data": {
      "text/plain": [
       "bholi hui kahanian                      1\n",
       "asihyai tahwar                          1\n",
       "the picture of dorian gray              1\n",
       "jazeeray ka samandar                    1\n",
       "al-adab al-mufrad                       1\n",
       "ibaarat kaise likhain                   1\n",
       "har shaye ka nazria - ہر شے کا نظریہ    1\n",
       "gulistan e saadi                        1\n",
       "bacha khan ki aap beeti                 1\n",
       "حیات حضرت خضر                           1\n",
       "Name: Book_Name, dtype: int64"
      ]
     },
     "execution_count": 56,
     "metadata": {},
     "output_type": "execute_result"
    }
   ],
   "source": [
    "df[\"Book_Name\"].value_counts().tail(10)"
   ]
  },
  {
   "cell_type": "code",
   "execution_count": 57,
   "metadata": {
    "execution": {
     "iopub.execute_input": "2021-03-16T10:12:27.656319Z",
     "iopub.status.busy": "2021-03-16T10:12:27.655483Z",
     "iopub.status.idle": "2021-03-16T10:12:27.804403Z",
     "shell.execute_reply": "2021-03-16T10:12:27.803955Z"
    },
    "papermill": {
     "duration": 0.243214,
     "end_time": "2021-03-16T10:12:27.804558",
     "exception": false,
     "start_time": "2021-03-16T10:12:27.561344",
     "status": "completed"
    },
    "tags": []
   },
   "outputs": [
    {
     "data": {
      "image/png": "[encoded data removed]",
      "text/plain": [
       "<Figure size 432x288 with 1 Axes>"
      ]
     },
     "metadata": {
      "needs_background": "light"
     },
     "output_type": "display_data"
    }
   ],
   "source": [
    "df[\"Book_Name\"].value_counts().tail(10).plot.bar()\n",
    "plt.xticks()\n",
    "plt.title(\"Least 10 Selling Books\")\n",
    "plt.xlabel(\"Books\")\n",
    "plt.ylabel(\"Number of Orders\")\n",
    "plt.show()"
   ]
  },
  {
   "cell_type": "markdown",
   "metadata": {
    "papermill": {
     "duration": 0.067301,
     "end_time": "2021-03-16T10:12:27.940942",
     "exception": false,
     "start_time": "2021-03-16T10:12:27.873641",
     "status": "completed"
    },
    "tags": []
   },
   "source": [
    "# Top 10 best selling city."
   ]
  },
  {
   "cell_type": "code",
   "execution_count": 58,
   "metadata": {
    "execution": {
     "iopub.execute_input": "2021-03-16T10:12:28.087604Z",
     "iopub.status.busy": "2021-03-16T10:12:28.086954Z",
     "iopub.status.idle": "2021-03-16T10:12:28.090198Z",
     "shell.execute_reply": "2021-03-16T10:12:28.090616Z"
    },
    "papermill": {
     "duration": 0.083569,
     "end_time": "2021-03-16T10:12:28.090752",
     "exception": false,
     "start_time": "2021-03-16T10:12:28.007183",
     "status": "completed"
    },
    "tags": []
   },
   "outputs": [
    {
     "data": {
      "text/html": [
       "<div>\n",
       "<style scoped>\n",
       "    .dataframe tbody tr th:only-of-type {\n",
       "        vertical-align: middle;\n",
       "    }\n",
       "\n",
       "    .dataframe tbody tr th {\n",
       "        vertical-align: top;\n",
       "    }\n",
       "\n",
       "    .dataframe thead th {\n",
       "        text-align: right;\n",
       "    }\n",
       "</style>\n",
       "<table border=\"1\" class=\"dataframe\">\n",
       "  <thead>\n",
       "    <tr style=\"text-align: right;\">\n",
       "      <th></th>\n",
       "      <th>City</th>\n",
       "    </tr>\n",
       "  </thead>\n",
       "  <tbody>\n",
       "    <tr>\n",
       "      <th>islamabad</th>\n",
       "      <td>4353</td>\n",
       "    </tr>\n",
       "    <tr>\n",
       "      <th>karachi</th>\n",
       "      <td>2995</td>\n",
       "    </tr>\n",
       "    <tr>\n",
       "      <th>lahore</th>\n",
       "      <td>2391</td>\n",
       "    </tr>\n",
       "    <tr>\n",
       "      <th>rawalpindi</th>\n",
       "      <td>791</td>\n",
       "    </tr>\n",
       "    <tr>\n",
       "      <th>faisalabad</th>\n",
       "      <td>573</td>\n",
       "    </tr>\n",
       "    <tr>\n",
       "      <th>peshawar</th>\n",
       "      <td>543</td>\n",
       "    </tr>\n",
       "    <tr>\n",
       "      <th>multan</th>\n",
       "      <td>492</td>\n",
       "    </tr>\n",
       "    <tr>\n",
       "      <th>gujranwala</th>\n",
       "      <td>329</td>\n",
       "    </tr>\n",
       "    <tr>\n",
       "      <th>hyderabad</th>\n",
       "      <td>290</td>\n",
       "    </tr>\n",
       "    <tr>\n",
       "      <th>sialkot</th>\n",
       "      <td>289</td>\n",
       "    </tr>\n",
       "  </tbody>\n",
       "</table>\n",
       "</div>"
      ],
      "text/plain": [
       "            City\n",
       "islamabad   4353\n",
       "karachi     2995\n",
       "lahore      2391\n",
       "rawalpindi   791\n",
       "faisalabad   573\n",
       "peshawar     543\n",
       "multan       492\n",
       "gujranwala   329\n",
       "hyderabad    290\n",
       "sialkot      289"
      ]
     },
     "execution_count": 58,
     "metadata": {},
     "output_type": "execute_result"
    }
   ],
   "source": [
    "df.City.value_counts().head(10).to_frame()"
   ]
  },
  {
   "cell_type": "code",
   "execution_count": 59,
   "metadata": {
    "execution": {
     "iopub.execute_input": "2021-03-16T10:12:28.258127Z",
     "iopub.status.busy": "2021-03-16T10:12:28.256758Z",
     "iopub.status.idle": "2021-03-16T10:12:28.519167Z",
     "shell.execute_reply": "2021-03-16T10:12:28.520197Z"
    },
    "papermill": {
     "duration": 0.363813,
     "end_time": "2021-03-16T10:12:28.520409",
     "exception": false,
     "start_time": "2021-03-16T10:12:28.156596",
     "status": "completed"
    },
    "tags": []
   },
   "outputs": [
    {
     "data": {
      "image/png": "[encoded data removed]",
      "text/plain": [
       "<Figure size 432x288 with 1 Axes>"
      ]
     },
     "metadata": {
      "needs_background": "light"
     },
     "output_type": "display_data"
    }
   ],
   "source": [
    "df.City.value_counts()[:10].plot.bar()\n",
    "plt.xlabel(\"City\")\n",
    "plt.title(\"Best Selling City\")\n",
    "plt\n",
    "plt.show()"
   ]
  },
  {
   "cell_type": "markdown",
   "metadata": {
    "papermill": {
     "duration": 0.114443,
     "end_time": "2021-03-16T10:12:28.754868",
     "exception": false,
     "start_time": "2021-03-16T10:12:28.640425",
     "status": "completed"
    },
    "tags": []
   },
   "source": [
    "## books sells in top most 10 cities"
   ]
  },
  {
   "cell_type": "code",
   "execution_count": 60,
   "metadata": {
    "execution": {
     "iopub.execute_input": "2021-03-16T10:12:28.990013Z",
     "iopub.status.busy": "2021-03-16T10:12:28.989300Z",
     "iopub.status.idle": "2021-03-16T10:12:29.215077Z",
     "shell.execute_reply": "2021-03-16T10:12:29.216000Z"
    },
    "papermill": {
     "duration": 0.333641,
     "end_time": "2021-03-16T10:12:29.216193",
     "exception": false,
     "start_time": "2021-03-16T10:12:28.882552",
     "status": "completed"
    },
    "tags": []
   },
   "outputs": [
    {
     "data": {
      "text/plain": [
       "<AxesSubplot:ylabel='City'>"
      ]
     },
     "execution_count": 60,
     "metadata": {},
     "output_type": "execute_result"
    },
    {
     "data": {
      "image/png": "[encoded data removed]",
      "text/plain": [
       "<Figure size 576x576 with 1 Axes>"
      ]
     },
     "metadata": {},
     "output_type": "display_data"
    }
   ],
   "source": [
    "most_cities = df['City'].value_counts().head(10)\n",
    "#pi-chart of top  most cities where books sold\n",
    "most_cities.plot(kind='pie',figsize=(8,8),autopct='%1.1f%%')"
   ]
  },
  {
   "cell_type": "markdown",
   "metadata": {
    "papermill": {
     "duration": 0.1122,
     "end_time": "2021-03-16T10:12:29.433566",
     "exception": false,
     "start_time": "2021-03-16T10:12:29.321366",
     "status": "completed"
    },
    "tags": []
   },
   "source": [
    "### total num of books sold."
   ]
  },
  {
   "cell_type": "code",
   "execution_count": 61,
   "metadata": {
    "execution": {
     "iopub.execute_input": "2021-03-16T10:12:29.584311Z",
     "iopub.status.busy": "2021-03-16T10:12:29.583367Z",
     "iopub.status.idle": "2021-03-16T10:12:29.587144Z",
     "shell.execute_reply": "2021-03-16T10:12:29.587737Z"
    },
    "papermill": {
     "duration": 0.085045,
     "end_time": "2021-03-16T10:12:29.587915",
     "exception": false,
     "start_time": "2021-03-16T10:12:29.502870",
     "status": "completed"
    },
    "tags": []
   },
   "outputs": [
    {
     "name": "stdout",
     "output_type": "stream",
     "text": [
      "In total ,19184 book sold by Gufhtugu Publications from 2019-10-03 15:03:00 to 2021-01-20 17:43:00\n"
     ]
    }
   ],
   "source": [
    "total_book_sold = df[\"Book_Name\"].value_counts().sum()\n",
    "print(f\"In total ,{total_book_sold} book sold by Gufhtugu Publications from {df.Order_Date.min()} to {df.Order_Date.max()}\")"
   ]
  },
  {
   "cell_type": "code",
   "execution_count": 62,
   "metadata": {
    "execution": {
     "iopub.execute_input": "2021-03-16T10:12:29.745600Z",
     "iopub.status.busy": "2021-03-16T10:12:29.744951Z",
     "iopub.status.idle": "2021-03-16T10:12:29.748582Z",
     "shell.execute_reply": "2021-03-16T10:12:29.748977Z"
    },
    "papermill": {
     "duration": 0.090955,
     "end_time": "2021-03-16T10:12:29.749108",
     "exception": false,
     "start_time": "2021-03-16T10:12:29.658153",
     "status": "completed"
    },
    "tags": []
   },
   "outputs": [
    {
     "data": {
      "text/html": [
       "<div>\n",
       "<style scoped>\n",
       "    .dataframe tbody tr th:only-of-type {\n",
       "        vertical-align: middle;\n",
       "    }\n",
       "\n",
       "    .dataframe tbody tr th {\n",
       "        vertical-align: top;\n",
       "    }\n",
       "\n",
       "    .dataframe thead th {\n",
       "        text-align: right;\n",
       "    }\n",
       "</style>\n",
       "<table border=\"1\" class=\"dataframe\">\n",
       "  <thead>\n",
       "    <tr style=\"text-align: right;\">\n",
       "      <th></th>\n",
       "      <th>Order_Number</th>\n",
       "      <th>Order_Status</th>\n",
       "      <th>Book_Name</th>\n",
       "      <th>Order_Date</th>\n",
       "      <th>City</th>\n",
       "      <th>Year</th>\n",
       "      <th>Day</th>\n",
       "      <th>Month</th>\n",
       "      <th>Time</th>\n",
       "      <th>Hour</th>\n",
       "      <th>MY</th>\n",
       "    </tr>\n",
       "  </thead>\n",
       "  <tbody>\n",
       "    <tr>\n",
       "      <th>0</th>\n",
       "      <td>70978</td>\n",
       "      <td>Completed</td>\n",
       "      <td>column nigari kese sekhain</td>\n",
       "      <td>2021-01-20 17:43:00</td>\n",
       "      <td>swat</td>\n",
       "      <td>2021</td>\n",
       "      <td>Wednesday</td>\n",
       "      <td>January</td>\n",
       "      <td>17:43:00</td>\n",
       "      <td>17:43:00</td>\n",
       "      <td>2021-01</td>\n",
       "    </tr>\n",
       "    <tr>\n",
       "      <th>1</th>\n",
       "      <td>70962</td>\n",
       "      <td>Completed</td>\n",
       "      <td>انٹرنیٹ سے پیسہ کمائیں</td>\n",
       "      <td>2021-01-20 13:37:00</td>\n",
       "      <td>karachi</td>\n",
       "      <td>2021</td>\n",
       "      <td>Wednesday</td>\n",
       "      <td>January</td>\n",
       "      <td>13:37:00</td>\n",
       "      <td>13:37:00</td>\n",
       "      <td>2021-01</td>\n",
       "    </tr>\n",
       "    <tr>\n",
       "      <th>2</th>\n",
       "      <td>70960</td>\n",
       "      <td>Completed</td>\n",
       "      <td>justju ka safar-1</td>\n",
       "      <td>2021-01-20 10:48:00</td>\n",
       "      <td>karachi</td>\n",
       "      <td>2021</td>\n",
       "      <td>Wednesday</td>\n",
       "      <td>January</td>\n",
       "      <td>10:48:00</td>\n",
       "      <td>10:48:00</td>\n",
       "      <td>2021-01</td>\n",
       "    </tr>\n",
       "    <tr>\n",
       "      <th>3</th>\n",
       "      <td>70959</td>\n",
       "      <td>Completed</td>\n",
       "      <td>r ka taaruf</td>\n",
       "      <td>2021-01-20 10:32:00</td>\n",
       "      <td>karachi</td>\n",
       "      <td>2021</td>\n",
       "      <td>Wednesday</td>\n",
       "      <td>January</td>\n",
       "      <td>10:32:00</td>\n",
       "      <td>10:32:00</td>\n",
       "      <td>2021-01</td>\n",
       "    </tr>\n",
       "    <tr>\n",
       "      <th>4</th>\n",
       "      <td>70958</td>\n",
       "      <td>Completed</td>\n",
       "      <td>انٹرنیٹ سے پیسہ کمائیں</td>\n",
       "      <td>2021-01-20 10:29:00</td>\n",
       "      <td>karachi</td>\n",
       "      <td>2021</td>\n",
       "      <td>Wednesday</td>\n",
       "      <td>January</td>\n",
       "      <td>10:29:00</td>\n",
       "      <td>10:29:00</td>\n",
       "      <td>2021-01</td>\n",
       "    </tr>\n",
       "  </tbody>\n",
       "</table>\n",
       "</div>"
      ],
      "text/plain": [
       "   Order_Number Order_Status                   Book_Name          Order_Date  \\\n",
       "0         70978    Completed  column nigari kese sekhain 2021-01-20 17:43:00   \n",
       "1         70962    Completed      انٹرنیٹ سے پیسہ کمائیں 2021-01-20 13:37:00   \n",
       "2         70960    Completed           justju ka safar-1 2021-01-20 10:48:00   \n",
       "3         70959    Completed                 r ka taaruf 2021-01-20 10:32:00   \n",
       "4         70958    Completed      انٹرنیٹ سے پیسہ کمائیں 2021-01-20 10:29:00   \n",
       "\n",
       "      City  Year        Day    Month      Time      Hour       MY  \n",
       "0     swat  2021  Wednesday  January  17:43:00  17:43:00  2021-01  \n",
       "1  karachi  2021  Wednesday  January  13:37:00  13:37:00  2021-01  \n",
       "2  karachi  2021  Wednesday  January  10:48:00  10:48:00  2021-01  \n",
       "3  karachi  2021  Wednesday  January  10:32:00  10:32:00  2021-01  \n",
       "4  karachi  2021  Wednesday  January  10:29:00  10:29:00  2021-01  "
      ]
     },
     "execution_count": 62,
     "metadata": {},
     "output_type": "execute_result"
    }
   ],
   "source": [
    "df.head()"
   ]
  },
  {
   "cell_type": "markdown",
   "metadata": {
    "papermill": {
     "duration": 0.072802,
     "end_time": "2021-03-16T10:12:29.902983",
     "exception": false,
     "start_time": "2021-03-16T10:12:29.830181",
     "status": "completed"
    },
    "tags": []
   },
   "source": [
    "# Correlation between date and time with order status"
   ]
  },
  {
   "cell_type": "code",
   "execution_count": 63,
   "metadata": {
    "execution": {
     "iopub.execute_input": "2021-03-16T10:12:30.059910Z",
     "iopub.status.busy": "2021-03-16T10:12:30.059082Z",
     "iopub.status.idle": "2021-03-16T10:12:30.596069Z",
     "shell.execute_reply": "2021-03-16T10:12:30.596486Z"
    },
    "papermill": {
     "duration": 0.619857,
     "end_time": "2021-03-16T10:12:30.596634",
     "exception": false,
     "start_time": "2021-03-16T10:12:29.976777",
     "status": "completed"
    },
    "tags": []
   },
   "outputs": [
    {
     "name": "stderr",
     "output_type": "stream",
     "text": [
      "/opt/conda/lib/python3.7/site-packages/ipykernel_launcher.py:5: UserWarning: FixedFormatter should only be used together with FixedLocator\n",
      "  \"\"\"\n"
     ]
    },
    {
     "data": {
      "image/png": "[encoded data removed]",
      "text/plain": [
       "<Figure size 720x432 with 1 Axes>"
      ]
     },
     "metadata": {
      "needs_background": "light"
     },
     "output_type": "display_data"
    }
   ],
   "source": [
    "corr = df.groupby([\"Order_Status\",\"MY\"])[\"Order_Number\"].count().reset_index().sort_values(\"Order_Number\", ascending=False)\n",
    "corr=corr.sort_values(\"MY\")\n",
    "\n",
    "fig, ax = plt.subplots()\n",
    "ax.set_xticklabels(corr[\"MY\"], rotation=60)\n",
    "fig.set_size_inches([10, 6])\n",
    "\n",
    "ax = sns.barplot(x = \"MY\"  , y=\"Order_Number\",hue=\"Order_Status\",hue_order=[\"Completed\", \"Returned\", \"Cancelled\"],data=corr,palette=\"muted\")\n",
    "ax.set_title('Date-wise Order Status',fontsize=16)\n",
    "ax.set_xlabel(\"Dates\",fontsize=13)\n",
    "ax.set_ylabel(\"Number of Orders\",fontsize=13) \n",
    "plt.show()"
   ]
  },
  {
   "cell_type": "markdown",
   "metadata": {
    "papermill": {
     "duration": 0.070708,
     "end_time": "2021-03-16T10:12:30.738209",
     "exception": false,
     "start_time": "2021-03-16T10:12:30.667501",
     "status": "completed"
    },
    "tags": []
   },
   "source": [
    "# Correlation between city and order status."
   ]
  },
  {
   "cell_type": "markdown",
   "metadata": {
    "papermill": {
     "duration": 0.071062,
     "end_time": "2021-03-16T10:12:30.880295",
     "exception": false,
     "start_time": "2021-03-16T10:12:30.809233",
     "status": "completed"
    },
    "tags": []
   },
   "source": [
    "#### First break code into single row for checking is it working or not then combine into single code."
   ]
  },
  {
   "cell_type": "code",
   "execution_count": 64,
   "metadata": {
    "execution": {
     "iopub.execute_input": "2021-03-16T10:12:31.028978Z",
     "iopub.status.busy": "2021-03-16T10:12:31.028177Z",
     "iopub.status.idle": "2021-03-16T10:12:31.039932Z",
     "shell.execute_reply": "2021-03-16T10:12:31.039507Z"
    },
    "papermill": {
     "duration": 0.088669,
     "end_time": "2021-03-16T10:12:31.040042",
     "exception": false,
     "start_time": "2021-03-16T10:12:30.951373",
     "status": "completed"
    },
    "tags": []
   },
   "outputs": [
    {
     "data": {
      "text/html": [
       "<div>\n",
       "<style scoped>\n",
       "    .dataframe tbody tr th:only-of-type {\n",
       "        vertical-align: middle;\n",
       "    }\n",
       "\n",
       "    .dataframe tbody tr th {\n",
       "        vertical-align: top;\n",
       "    }\n",
       "\n",
       "    .dataframe thead th {\n",
       "        text-align: right;\n",
       "    }\n",
       "</style>\n",
       "<table border=\"1\" class=\"dataframe\">\n",
       "  <thead>\n",
       "    <tr style=\"text-align: right;\">\n",
       "      <th></th>\n",
       "      <th>City</th>\n",
       "      <th>Order_Number</th>\n",
       "    </tr>\n",
       "  </thead>\n",
       "  <tbody>\n",
       "    <tr>\n",
       "      <th>60</th>\n",
       "      <td>islamabad</td>\n",
       "      <td>4353</td>\n",
       "    </tr>\n",
       "    <tr>\n",
       "      <th>79</th>\n",
       "      <td>karachi</td>\n",
       "      <td>2995</td>\n",
       "    </tr>\n",
       "    <tr>\n",
       "      <th>97</th>\n",
       "      <td>lahore</td>\n",
       "      <td>2391</td>\n",
       "    </tr>\n",
       "    <tr>\n",
       "      <th>152</th>\n",
       "      <td>rawalpindi</td>\n",
       "      <td>791</td>\n",
       "    </tr>\n",
       "    <tr>\n",
       "      <th>45</th>\n",
       "      <td>faisalabad</td>\n",
       "      <td>573</td>\n",
       "    </tr>\n",
       "    <tr>\n",
       "      <th>142</th>\n",
       "      <td>peshawar</td>\n",
       "      <td>543</td>\n",
       "    </tr>\n",
       "    <tr>\n",
       "      <th>123</th>\n",
       "      <td>multan</td>\n",
       "      <td>492</td>\n",
       "    </tr>\n",
       "    <tr>\n",
       "      <th>50</th>\n",
       "      <td>gujranwala</td>\n",
       "      <td>329</td>\n",
       "    </tr>\n",
       "    <tr>\n",
       "      <th>59</th>\n",
       "      <td>hyderabad</td>\n",
       "      <td>290</td>\n",
       "    </tr>\n",
       "    <tr>\n",
       "      <th>169</th>\n",
       "      <td>sialkot</td>\n",
       "      <td>289</td>\n",
       "    </tr>\n",
       "  </tbody>\n",
       "</table>\n",
       "</div>"
      ],
      "text/plain": [
       "           City  Order_Number\n",
       "60    islamabad          4353\n",
       "79      karachi          2995\n",
       "97       lahore          2391\n",
       "152  rawalpindi           791\n",
       "45   faisalabad           573\n",
       "142    peshawar           543\n",
       "123      multan           492\n",
       "50   gujranwala           329\n",
       "59    hyderabad           290\n",
       "169     sialkot           289"
      ]
     },
     "execution_count": 64,
     "metadata": {},
     "output_type": "execute_result"
    }
   ],
   "source": [
    "top_cities=df.groupby(\"City\")[\"Order_Number\"].count().reset_index().sort_values(\"Order_Number\", ascending=False).head(10)\n",
    "\n",
    "top_cities"
   ]
  },
  {
   "cell_type": "code",
   "execution_count": 65,
   "metadata": {
    "execution": {
     "iopub.execute_input": "2021-03-16T10:12:31.189556Z",
     "iopub.status.busy": "2021-03-16T10:12:31.188774Z",
     "iopub.status.idle": "2021-03-16T10:12:31.244950Z",
     "shell.execute_reply": "2021-03-16T10:12:31.245353Z"
    },
    "papermill": {
     "duration": 0.133101,
     "end_time": "2021-03-16T10:12:31.245500",
     "exception": false,
     "start_time": "2021-03-16T10:12:31.112399",
     "status": "completed"
    },
    "tags": []
   },
   "outputs": [
    {
     "data": {
      "text/html": [
       "<div>\n",
       "<style scoped>\n",
       "    .dataframe tbody tr th:only-of-type {\n",
       "        vertical-align: middle;\n",
       "    }\n",
       "\n",
       "    .dataframe tbody tr th {\n",
       "        vertical-align: top;\n",
       "    }\n",
       "\n",
       "    .dataframe thead th {\n",
       "        text-align: right;\n",
       "    }\n",
       "</style>\n",
       "<table border=\"1\" class=\"dataframe\">\n",
       "  <thead>\n",
       "    <tr style=\"text-align: right;\">\n",
       "      <th></th>\n",
       "      <th>City</th>\n",
       "      <th>Order_Status</th>\n",
       "      <th>Order_Number</th>\n",
       "    </tr>\n",
       "  </thead>\n",
       "  <tbody>\n",
       "    <tr>\n",
       "      <th>102</th>\n",
       "      <td>islamabad</td>\n",
       "      <td>Completed</td>\n",
       "      <td>3906</td>\n",
       "    </tr>\n",
       "    <tr>\n",
       "      <th>137</th>\n",
       "      <td>karachi</td>\n",
       "      <td>Completed</td>\n",
       "      <td>2859</td>\n",
       "    </tr>\n",
       "    <tr>\n",
       "      <th>172</th>\n",
       "      <td>lahore</td>\n",
       "      <td>Completed</td>\n",
       "      <td>2291</td>\n",
       "    </tr>\n",
       "    <tr>\n",
       "      <th>267</th>\n",
       "      <td>rawalpindi</td>\n",
       "      <td>Completed</td>\n",
       "      <td>749</td>\n",
       "    </tr>\n",
       "    <tr>\n",
       "      <th>74</th>\n",
       "      <td>faisalabad</td>\n",
       "      <td>Completed</td>\n",
       "      <td>545</td>\n",
       "    </tr>\n",
       "    <tr>\n",
       "      <th>251</th>\n",
       "      <td>peshawar</td>\n",
       "      <td>Completed</td>\n",
       "      <td>505</td>\n",
       "    </tr>\n",
       "    <tr>\n",
       "      <th>218</th>\n",
       "      <td>multan</td>\n",
       "      <td>Completed</td>\n",
       "      <td>460</td>\n",
       "    </tr>\n",
       "    <tr>\n",
       "      <th>103</th>\n",
       "      <td>islamabad</td>\n",
       "      <td>Returned</td>\n",
       "      <td>442</td>\n",
       "    </tr>\n",
       "    <tr>\n",
       "      <th>80</th>\n",
       "      <td>gujranwala</td>\n",
       "      <td>Completed</td>\n",
       "      <td>312</td>\n",
       "    </tr>\n",
       "    <tr>\n",
       "      <th>293</th>\n",
       "      <td>sialkot</td>\n",
       "      <td>Completed</td>\n",
       "      <td>275</td>\n",
       "    </tr>\n",
       "    <tr>\n",
       "      <th>99</th>\n",
       "      <td>hyderabad</td>\n",
       "      <td>Completed</td>\n",
       "      <td>264</td>\n",
       "    </tr>\n",
       "    <tr>\n",
       "      <th>257</th>\n",
       "      <td>quetta</td>\n",
       "      <td>Completed</td>\n",
       "      <td>254</td>\n",
       "    </tr>\n",
       "    <tr>\n",
       "      <th>0</th>\n",
       "      <td></td>\n",
       "      <td>Completed</td>\n",
       "      <td>231</td>\n",
       "    </tr>\n",
       "    <tr>\n",
       "      <th>18</th>\n",
       "      <td>bahawalpur</td>\n",
       "      <td>Completed</td>\n",
       "      <td>191</td>\n",
       "    </tr>\n",
       "    <tr>\n",
       "      <th>259</th>\n",
       "      <td>rahim yar khan</td>\n",
       "      <td>Completed</td>\n",
       "      <td>177</td>\n",
       "    </tr>\n",
       "    <tr>\n",
       "      <th>285</th>\n",
       "      <td>sargodha</td>\n",
       "      <td>Completed</td>\n",
       "      <td>166</td>\n",
       "    </tr>\n",
       "    <tr>\n",
       "      <th>82</th>\n",
       "      <td>gujrat</td>\n",
       "      <td>Completed</td>\n",
       "      <td>145</td>\n",
       "    </tr>\n",
       "    <tr>\n",
       "      <th>138</th>\n",
       "      <td>karachi</td>\n",
       "      <td>Returned</td>\n",
       "      <td>132</td>\n",
       "    </tr>\n",
       "    <tr>\n",
       "      <th>276</th>\n",
       "      <td>sahiwal</td>\n",
       "      <td>Completed</td>\n",
       "      <td>130</td>\n",
       "    </tr>\n",
       "    <tr>\n",
       "      <th>241</th>\n",
       "      <td>okara</td>\n",
       "      <td>Completed</td>\n",
       "      <td>118</td>\n",
       "    </tr>\n",
       "    <tr>\n",
       "      <th>290</th>\n",
       "      <td>sheikhupura</td>\n",
       "      <td>Completed</td>\n",
       "      <td>113</td>\n",
       "    </tr>\n",
       "    <tr>\n",
       "      <th>202</th>\n",
       "      <td>mardan</td>\n",
       "      <td>Completed</td>\n",
       "      <td>112</td>\n",
       "    </tr>\n",
       "    <tr>\n",
       "      <th>90</th>\n",
       "      <td>haripur</td>\n",
       "      <td>Completed</td>\n",
       "      <td>111</td>\n",
       "    </tr>\n",
       "    <tr>\n",
       "      <th>12</th>\n",
       "      <td>attock</td>\n",
       "      <td>Completed</td>\n",
       "      <td>111</td>\n",
       "    </tr>\n",
       "    <tr>\n",
       "      <th>2</th>\n",
       "      <td>abbottabad</td>\n",
       "      <td>Completed</td>\n",
       "      <td>106</td>\n",
       "    </tr>\n",
       "    <tr>\n",
       "      <th>36</th>\n",
       "      <td>chakwal</td>\n",
       "      <td>Completed</td>\n",
       "      <td>104</td>\n",
       "    </tr>\n",
       "    <tr>\n",
       "      <th>210</th>\n",
       "      <td>mianwali</td>\n",
       "      <td>Completed</td>\n",
       "      <td>99</td>\n",
       "    </tr>\n",
       "    <tr>\n",
       "      <th>173</th>\n",
       "      <td>lahore</td>\n",
       "      <td>Returned</td>\n",
       "      <td>97</td>\n",
       "    </tr>\n",
       "    <tr>\n",
       "      <th>299</th>\n",
       "      <td>swabi</td>\n",
       "      <td>Completed</td>\n",
       "      <td>94</td>\n",
       "    </tr>\n",
       "    <tr>\n",
       "      <th>146</th>\n",
       "      <td>kasur</td>\n",
       "      <td>Completed</td>\n",
       "      <td>90</td>\n",
       "    </tr>\n",
       "    <tr>\n",
       "      <th>297</th>\n",
       "      <td>sukkur</td>\n",
       "      <td>Completed</td>\n",
       "      <td>87</td>\n",
       "    </tr>\n",
       "    <tr>\n",
       "      <th>58</th>\n",
       "      <td>dera ismail khan</td>\n",
       "      <td>Completed</td>\n",
       "      <td>83</td>\n",
       "    </tr>\n",
       "    <tr>\n",
       "      <th>57</th>\n",
       "      <td>dera ghazi khan</td>\n",
       "      <td>Completed</td>\n",
       "      <td>83</td>\n",
       "    </tr>\n",
       "    <tr>\n",
       "      <th>120</th>\n",
       "      <td>jhang</td>\n",
       "      <td>Completed</td>\n",
       "      <td>79</td>\n",
       "    </tr>\n",
       "    <tr>\n",
       "      <th>20</th>\n",
       "      <td>bannu</td>\n",
       "      <td>Completed</td>\n",
       "      <td>75</td>\n",
       "    </tr>\n",
       "    <tr>\n",
       "      <th>68</th>\n",
       "      <td>dir</td>\n",
       "      <td>Completed</td>\n",
       "      <td>72</td>\n",
       "    </tr>\n",
       "    <tr>\n",
       "      <th>162</th>\n",
       "      <td>kohat</td>\n",
       "      <td>Completed</td>\n",
       "      <td>72</td>\n",
       "    </tr>\n",
       "    <tr>\n",
       "      <th>199</th>\n",
       "      <td>mansehra</td>\n",
       "      <td>Completed</td>\n",
       "      <td>68</td>\n",
       "    </tr>\n",
       "    <tr>\n",
       "      <th>25</th>\n",
       "      <td>bhakkar</td>\n",
       "      <td>Completed</td>\n",
       "      <td>64</td>\n",
       "    </tr>\n",
       "    <tr>\n",
       "      <th>152</th>\n",
       "      <td>khanewal</td>\n",
       "      <td>Completed</td>\n",
       "      <td>63</td>\n",
       "    </tr>\n",
       "    <tr>\n",
       "      <th>318</th>\n",
       "      <td>toba tek singh</td>\n",
       "      <td>Completed</td>\n",
       "      <td>62</td>\n",
       "    </tr>\n",
       "    <tr>\n",
       "      <th>174</th>\n",
       "      <td>lakki marwat</td>\n",
       "      <td>Completed</td>\n",
       "      <td>62</td>\n",
       "    </tr>\n",
       "    <tr>\n",
       "      <th>322</th>\n",
       "      <td>vehari</td>\n",
       "      <td>Completed</td>\n",
       "      <td>61</td>\n",
       "    </tr>\n",
       "    <tr>\n",
       "      <th>212</th>\n",
       "      <td>mingora</td>\n",
       "      <td>Completed</td>\n",
       "      <td>59</td>\n",
       "    </tr>\n",
       "    <tr>\n",
       "      <th>31</th>\n",
       "      <td>burewala</td>\n",
       "      <td>Completed</td>\n",
       "      <td>58</td>\n",
       "    </tr>\n",
       "    <tr>\n",
       "      <th>301</th>\n",
       "      <td>swat</td>\n",
       "      <td>Completed</td>\n",
       "      <td>53</td>\n",
       "    </tr>\n",
       "    <tr>\n",
       "      <th>86</th>\n",
       "      <td>hafizabad</td>\n",
       "      <td>Completed</td>\n",
       "      <td>51</td>\n",
       "    </tr>\n",
       "    <tr>\n",
       "      <th>238</th>\n",
       "      <td>nowshera</td>\n",
       "      <td>Completed</td>\n",
       "      <td>51</td>\n",
       "    </tr>\n",
       "    <tr>\n",
       "      <th>183</th>\n",
       "      <td>layyah</td>\n",
       "      <td>Completed</td>\n",
       "      <td>50</td>\n",
       "    </tr>\n",
       "    <tr>\n",
       "      <th>43</th>\n",
       "      <td>chiniot</td>\n",
       "      <td>Completed</td>\n",
       "      <td>50</td>\n",
       "    </tr>\n",
       "    <tr>\n",
       "      <th>54</th>\n",
       "      <td>daska</td>\n",
       "      <td>Completed</td>\n",
       "      <td>49</td>\n",
       "    </tr>\n",
       "    <tr>\n",
       "      <th>178</th>\n",
       "      <td>larkana</td>\n",
       "      <td>Completed</td>\n",
       "      <td>48</td>\n",
       "    </tr>\n",
       "    <tr>\n",
       "      <th>122</th>\n",
       "      <td>jhelum</td>\n",
       "      <td>Completed</td>\n",
       "      <td>47</td>\n",
       "    </tr>\n",
       "    <tr>\n",
       "      <th>187</th>\n",
       "      <td>lodhran</td>\n",
       "      <td>Completed</td>\n",
       "      <td>47</td>\n",
       "    </tr>\n",
       "    <tr>\n",
       "      <th>139</th>\n",
       "      <td>karak</td>\n",
       "      <td>Completed</td>\n",
       "      <td>47</td>\n",
       "    </tr>\n",
       "    <tr>\n",
       "      <th>38</th>\n",
       "      <td>charsadda</td>\n",
       "      <td>Completed</td>\n",
       "      <td>45</td>\n",
       "    </tr>\n",
       "    <tr>\n",
       "      <th>224</th>\n",
       "      <td>muzaffargarh</td>\n",
       "      <td>Completed</td>\n",
       "      <td>45</td>\n",
       "    </tr>\n",
       "    <tr>\n",
       "      <th>159</th>\n",
       "      <td>khushab</td>\n",
       "      <td>Completed</td>\n",
       "      <td>43</td>\n",
       "    </tr>\n",
       "    <tr>\n",
       "      <th>16</th>\n",
       "      <td>bahawalnagar</td>\n",
       "      <td>Completed</td>\n",
       "      <td>42</td>\n",
       "    </tr>\n",
       "    <tr>\n",
       "      <th>113</th>\n",
       "      <td>jaranwala</td>\n",
       "      <td>Completed</td>\n",
       "      <td>40</td>\n",
       "    </tr>\n",
       "    <tr>\n",
       "      <th>313</th>\n",
       "      <td>taxila</td>\n",
       "      <td>Completed</td>\n",
       "      <td>40</td>\n",
       "    </tr>\n",
       "    <tr>\n",
       "      <th>268</th>\n",
       "      <td>rawalpindi</td>\n",
       "      <td>Returned</td>\n",
       "      <td>40</td>\n",
       "    </tr>\n",
       "    <tr>\n",
       "      <th>197</th>\n",
       "      <td>mandi bahauddin</td>\n",
       "      <td>Completed</td>\n",
       "      <td>38</td>\n",
       "    </tr>\n",
       "    <tr>\n",
       "      <th>88</th>\n",
       "      <td>hangu</td>\n",
       "      <td>Completed</td>\n",
       "      <td>37</td>\n",
       "    </tr>\n",
       "    <tr>\n",
       "      <th>252</th>\n",
       "      <td>peshawar</td>\n",
       "      <td>Returned</td>\n",
       "      <td>37</td>\n",
       "    </tr>\n",
       "    <tr>\n",
       "      <th>247</th>\n",
       "      <td>pakpattan</td>\n",
       "      <td>Completed</td>\n",
       "      <td>35</td>\n",
       "    </tr>\n",
       "    <tr>\n",
       "      <th>40</th>\n",
       "      <td>chichawatni</td>\n",
       "      <td>Completed</td>\n",
       "      <td>33</td>\n",
       "    </tr>\n",
       "    <tr>\n",
       "      <th>228</th>\n",
       "      <td>narowal</td>\n",
       "      <td>Completed</td>\n",
       "      <td>33</td>\n",
       "    </tr>\n",
       "    <tr>\n",
       "      <th>273</th>\n",
       "      <td>sadiqabad</td>\n",
       "      <td>Completed</td>\n",
       "      <td>33</td>\n",
       "    </tr>\n",
       "    <tr>\n",
       "      <th>78</th>\n",
       "      <td>gojra</td>\n",
       "      <td>Completed</td>\n",
       "      <td>33</td>\n",
       "    </tr>\n",
       "    <tr>\n",
       "      <th>219</th>\n",
       "      <td>multan</td>\n",
       "      <td>Returned</td>\n",
       "      <td>32</td>\n",
       "    </tr>\n",
       "    <tr>\n",
       "      <th>10</th>\n",
       "      <td>arifwala</td>\n",
       "      <td>Completed</td>\n",
       "      <td>31</td>\n",
       "    </tr>\n",
       "    <tr>\n",
       "      <th>209</th>\n",
       "      <td>mian channu</td>\n",
       "      <td>Completed</td>\n",
       "      <td>31</td>\n",
       "    </tr>\n",
       "    <tr>\n",
       "      <th>154</th>\n",
       "      <td>khanpur</td>\n",
       "      <td>Completed</td>\n",
       "      <td>31</td>\n",
       "    </tr>\n",
       "    <tr>\n",
       "      <th>34</th>\n",
       "      <td>chak</td>\n",
       "      <td>Completed</td>\n",
       "      <td>31</td>\n",
       "    </tr>\n",
       "    <tr>\n",
       "      <th>150</th>\n",
       "      <td>khairpur</td>\n",
       "      <td>Completed</td>\n",
       "      <td>30</td>\n",
       "    </tr>\n",
       "    <tr>\n",
       "      <th>280</th>\n",
       "      <td>sanghar</td>\n",
       "      <td>Completed</td>\n",
       "      <td>29</td>\n",
       "    </tr>\n",
       "    <tr>\n",
       "      <th>157</th>\n",
       "      <td>kharian</td>\n",
       "      <td>Completed</td>\n",
       "      <td>27</td>\n",
       "    </tr>\n",
       "    <tr>\n",
       "      <th>75</th>\n",
       "      <td>faisalabad</td>\n",
       "      <td>Returned</td>\n",
       "      <td>27</td>\n",
       "    </tr>\n",
       "    <tr>\n",
       "      <th>111</th>\n",
       "      <td>jamshoro</td>\n",
       "      <td>Completed</td>\n",
       "      <td>27</td>\n",
       "    </tr>\n",
       "    <tr>\n",
       "      <th>47</th>\n",
       "      <td>chitral</td>\n",
       "      <td>Completed</td>\n",
       "      <td>27</td>\n",
       "    </tr>\n",
       "    <tr>\n",
       "      <th>100</th>\n",
       "      <td>hyderabad</td>\n",
       "      <td>Returned</td>\n",
       "      <td>25</td>\n",
       "    </tr>\n",
       "    <tr>\n",
       "      <th>109</th>\n",
       "      <td>jampur</td>\n",
       "      <td>Completed</td>\n",
       "      <td>24</td>\n",
       "    </tr>\n",
       "    <tr>\n",
       "      <th>77</th>\n",
       "      <td>ghotki</td>\n",
       "      <td>Completed</td>\n",
       "      <td>24</td>\n",
       "    </tr>\n",
       "    <tr>\n",
       "      <th>24</th>\n",
       "      <td>battagram</td>\n",
       "      <td>Completed</td>\n",
       "      <td>24</td>\n",
       "    </tr>\n",
       "    <tr>\n",
       "      <th>226</th>\n",
       "      <td>nankana sahib</td>\n",
       "      <td>Completed</td>\n",
       "      <td>24</td>\n",
       "    </tr>\n",
       "    <tr>\n",
       "      <th>262</th>\n",
       "      <td>rajanpur</td>\n",
       "      <td>Completed</td>\n",
       "      <td>23</td>\n",
       "    </tr>\n",
       "    <tr>\n",
       "      <th>106</th>\n",
       "      <td>jacobabad</td>\n",
       "      <td>Completed</td>\n",
       "      <td>23</td>\n",
       "    </tr>\n",
       "    <tr>\n",
       "      <th>1</th>\n",
       "      <td></td>\n",
       "      <td>Returned</td>\n",
       "      <td>23</td>\n",
       "    </tr>\n",
       "    <tr>\n",
       "      <th>61</th>\n",
       "      <td>dina</td>\n",
       "      <td>Completed</td>\n",
       "      <td>23</td>\n",
       "    </tr>\n",
       "    <tr>\n",
       "      <th>45</th>\n",
       "      <td>chishtian</td>\n",
       "      <td>Completed</td>\n",
       "      <td>22</td>\n",
       "    </tr>\n",
       "    <tr>\n",
       "      <th>193</th>\n",
       "      <td>mailsi</td>\n",
       "      <td>Completed</td>\n",
       "      <td>21</td>\n",
       "    </tr>\n",
       "    <tr>\n",
       "      <th>79</th>\n",
       "      <td>gujar khan</td>\n",
       "      <td>Completed</td>\n",
       "      <td>21</td>\n",
       "    </tr>\n",
       "    <tr>\n",
       "      <th>292</th>\n",
       "      <td>shorkot</td>\n",
       "      <td>Completed</td>\n",
       "      <td>21</td>\n",
       "    </tr>\n",
       "    <tr>\n",
       "      <th>166</th>\n",
       "      <td>kot addu</td>\n",
       "      <td>Completed</td>\n",
       "      <td>20</td>\n",
       "    </tr>\n",
       "    <tr>\n",
       "      <th>235</th>\n",
       "      <td>nawabshah</td>\n",
       "      <td>Completed</td>\n",
       "      <td>20</td>\n",
       "    </tr>\n",
       "    <tr>\n",
       "      <th>190</th>\n",
       "      <td>loralai</td>\n",
       "      <td>Completed</td>\n",
       "      <td>20</td>\n",
       "    </tr>\n",
       "    <tr>\n",
       "      <th>305</th>\n",
       "      <td>tando allahyar</td>\n",
       "      <td>Completed</td>\n",
       "      <td>20</td>\n",
       "    </tr>\n",
       "    <tr>\n",
       "      <th>326</th>\n",
       "      <td>wazirabad</td>\n",
       "      <td>Completed</td>\n",
       "      <td>20</td>\n",
       "    </tr>\n",
       "    <tr>\n",
       "      <th>303</th>\n",
       "      <td>talagang</td>\n",
       "      <td>Completed</td>\n",
       "      <td>19</td>\n",
       "    </tr>\n",
       "    <tr>\n",
       "      <th>289</th>\n",
       "      <td>shakargarh</td>\n",
       "      <td>Completed</td>\n",
       "      <td>18</td>\n",
       "    </tr>\n",
       "    <tr>\n",
       "      <th>63</th>\n",
       "      <td>dinga</td>\n",
       "      <td>Completed</td>\n",
       "      <td>18</td>\n",
       "    </tr>\n",
       "    <tr>\n",
       "      <th>161</th>\n",
       "      <td>khuzdar</td>\n",
       "      <td>Completed</td>\n",
       "      <td>18</td>\n",
       "    </tr>\n",
       "    <tr>\n",
       "      <th>108</th>\n",
       "      <td>jalalpur</td>\n",
       "      <td>Completed</td>\n",
       "      <td>18</td>\n",
       "    </tr>\n",
       "    <tr>\n",
       "      <th>48</th>\n",
       "      <td>dadu</td>\n",
       "      <td>Completed</td>\n",
       "      <td>18</td>\n",
       "    </tr>\n",
       "    <tr>\n",
       "      <th>84</th>\n",
       "      <td>gwadar</td>\n",
       "      <td>Completed</td>\n",
       "      <td>18</td>\n",
       "    </tr>\n",
       "    <tr>\n",
       "      <th>23</th>\n",
       "      <td>batkhela</td>\n",
       "      <td>Completed</td>\n",
       "      <td>17</td>\n",
       "    </tr>\n",
       "    <tr>\n",
       "      <th>311</th>\n",
       "      <td>tank</td>\n",
       "      <td>Completed</td>\n",
       "      <td>17</td>\n",
       "    </tr>\n",
       "    <tr>\n",
       "      <th>249</th>\n",
       "      <td>pattoki</td>\n",
       "      <td>Completed</td>\n",
       "      <td>17</td>\n",
       "    </tr>\n",
       "    <tr>\n",
       "      <th>81</th>\n",
       "      <td>gujranwala</td>\n",
       "      <td>Returned</td>\n",
       "      <td>17</td>\n",
       "    </tr>\n",
       "    <tr>\n",
       "      <th>27</th>\n",
       "      <td>bhalwal</td>\n",
       "      <td>Completed</td>\n",
       "      <td>16</td>\n",
       "    </tr>\n",
       "    <tr>\n",
       "      <th>258</th>\n",
       "      <td>quetta</td>\n",
       "      <td>Returned</td>\n",
       "      <td>16</td>\n",
       "    </tr>\n",
       "    <tr>\n",
       "      <th>220</th>\n",
       "      <td>muridke</td>\n",
       "      <td>Completed</td>\n",
       "      <td>16</td>\n",
       "    </tr>\n",
       "    <tr>\n",
       "      <th>83</th>\n",
       "      <td>gujrat</td>\n",
       "      <td>Returned</td>\n",
       "      <td>15</td>\n",
       "    </tr>\n",
       "    <tr>\n",
       "      <th>320</th>\n",
       "      <td>umerkot</td>\n",
       "      <td>Completed</td>\n",
       "      <td>15</td>\n",
       "    </tr>\n",
       "    <tr>\n",
       "      <th>14</th>\n",
       "      <td>badin</td>\n",
       "      <td>Completed</td>\n",
       "      <td>15</td>\n",
       "    </tr>\n",
       "    <tr>\n",
       "      <th>143</th>\n",
       "      <td>kashmore</td>\n",
       "      <td>Completed</td>\n",
       "      <td>14</td>\n",
       "    </tr>\n",
       "    <tr>\n",
       "      <th>316</th>\n",
       "      <td>timergara</td>\n",
       "      <td>Completed</td>\n",
       "      <td>14</td>\n",
       "    </tr>\n",
       "    <tr>\n",
       "      <th>294</th>\n",
       "      <td>sialkot</td>\n",
       "      <td>Returned</td>\n",
       "      <td>14</td>\n",
       "    </tr>\n",
       "    <tr>\n",
       "      <th>92</th>\n",
       "      <td>haroonabad</td>\n",
       "      <td>Completed</td>\n",
       "      <td>14</td>\n",
       "    </tr>\n",
       "    <tr>\n",
       "      <th>29</th>\n",
       "      <td>bhera</td>\n",
       "      <td>Completed</td>\n",
       "      <td>14</td>\n",
       "    </tr>\n",
       "    <tr>\n",
       "      <th>232</th>\n",
       "      <td>naushahro feroze</td>\n",
       "      <td>Completed</td>\n",
       "      <td>13</td>\n",
       "    </tr>\n",
       "    <tr>\n",
       "      <th>95</th>\n",
       "      <td>hasilpur</td>\n",
       "      <td>Completed</td>\n",
       "      <td>12</td>\n",
       "    </tr>\n",
       "    <tr>\n",
       "      <th>184</th>\n",
       "      <td>layyah</td>\n",
       "      <td>Returned</td>\n",
       "      <td>12</td>\n",
       "    </tr>\n",
       "    <tr>\n",
       "      <th>128</th>\n",
       "      <td>kamalia</td>\n",
       "      <td>Completed</td>\n",
       "      <td>12</td>\n",
       "    </tr>\n",
       "    <tr>\n",
       "      <th>261</th>\n",
       "      <td>raiwind</td>\n",
       "      <td>Completed</td>\n",
       "      <td>12</td>\n",
       "    </tr>\n",
       "    <tr>\n",
       "      <th>167</th>\n",
       "      <td>kotri</td>\n",
       "      <td>Completed</td>\n",
       "      <td>12</td>\n",
       "    </tr>\n",
       "    <tr>\n",
       "      <th>19</th>\n",
       "      <td>bahawalpur</td>\n",
       "      <td>Returned</td>\n",
       "      <td>12</td>\n",
       "    </tr>\n",
       "    <tr>\n",
       "      <th>176</th>\n",
       "      <td>lalamusa</td>\n",
       "      <td>Completed</td>\n",
       "      <td>12</td>\n",
       "    </tr>\n",
       "    <tr>\n",
       "      <th>118</th>\n",
       "      <td>jauharabad</td>\n",
       "      <td>Completed</td>\n",
       "      <td>11</td>\n",
       "    </tr>\n",
       "    <tr>\n",
       "      <th>148</th>\n",
       "      <td>kech</td>\n",
       "      <td>Completed</td>\n",
       "      <td>11</td>\n",
       "    </tr>\n",
       "    <tr>\n",
       "      <th>51</th>\n",
       "      <td>dargai</td>\n",
       "      <td>Completed</td>\n",
       "      <td>11</td>\n",
       "    </tr>\n",
       "    <tr>\n",
       "      <th>279</th>\n",
       "      <td>sakrand</td>\n",
       "      <td>Completed</td>\n",
       "      <td>10</td>\n",
       "    </tr>\n",
       "    <tr>\n",
       "      <th>156</th>\n",
       "      <td>kharan</td>\n",
       "      <td>Completed</td>\n",
       "      <td>10</td>\n",
       "    </tr>\n",
       "    <tr>\n",
       "      <th>323</th>\n",
       "      <td>vehari</td>\n",
       "      <td>Returned</td>\n",
       "      <td>10</td>\n",
       "    </tr>\n",
       "    <tr>\n",
       "      <th>52</th>\n",
       "      <td>darya khan</td>\n",
       "      <td>Completed</td>\n",
       "      <td>10</td>\n",
       "    </tr>\n",
       "    <tr>\n",
       "      <th>195</th>\n",
       "      <td>malakwal</td>\n",
       "      <td>Completed</td>\n",
       "      <td>10</td>\n",
       "    </tr>\n",
       "    <tr>\n",
       "      <th>7</th>\n",
       "      <td>alipur</td>\n",
       "      <td>Completed</td>\n",
       "      <td>10</td>\n",
       "    </tr>\n",
       "    <tr>\n",
       "      <th>328</th>\n",
       "      <td>zhob</td>\n",
       "      <td>Completed</td>\n",
       "      <td>10</td>\n",
       "    </tr>\n",
       "    <tr>\n",
       "      <th>288</th>\n",
       "      <td>shahdadpur</td>\n",
       "      <td>Completed</td>\n",
       "      <td>10</td>\n",
       "    </tr>\n",
       "    <tr>\n",
       "      <th>286</th>\n",
       "      <td>sargodha</td>\n",
       "      <td>Returned</td>\n",
       "      <td>10</td>\n",
       "    </tr>\n",
       "    <tr>\n",
       "      <th>287</th>\n",
       "      <td>shahdadkot</td>\n",
       "      <td>Completed</td>\n",
       "      <td>10</td>\n",
       "    </tr>\n",
       "    <tr>\n",
       "      <th>91</th>\n",
       "      <td>haripur</td>\n",
       "      <td>Returned</td>\n",
       "      <td>10</td>\n",
       "    </tr>\n",
       "    <tr>\n",
       "      <th>222</th>\n",
       "      <td>murree</td>\n",
       "      <td>Completed</td>\n",
       "      <td>9</td>\n",
       "    </tr>\n",
       "    <tr>\n",
       "      <th>304</th>\n",
       "      <td>talagang</td>\n",
       "      <td>Returned</td>\n",
       "      <td>9</td>\n",
       "    </tr>\n",
       "    <tr>\n",
       "      <th>300</th>\n",
       "      <td>swabi</td>\n",
       "      <td>Returned</td>\n",
       "      <td>9</td>\n",
       "    </tr>\n",
       "    <tr>\n",
       "      <th>131</th>\n",
       "      <td>kamoke</td>\n",
       "      <td>Completed</td>\n",
       "      <td>8</td>\n",
       "    </tr>\n",
       "    <tr>\n",
       "      <th>242</th>\n",
       "      <td>okara</td>\n",
       "      <td>Returned</td>\n",
       "      <td>8</td>\n",
       "    </tr>\n",
       "    <tr>\n",
       "      <th>134</th>\n",
       "      <td>kandiaro</td>\n",
       "      <td>Completed</td>\n",
       "      <td>8</td>\n",
       "    </tr>\n",
       "    <tr>\n",
       "      <th>206</th>\n",
       "      <td>matiari</td>\n",
       "      <td>Completed</td>\n",
       "      <td>8</td>\n",
       "    </tr>\n",
       "    <tr>\n",
       "      <th>215</th>\n",
       "      <td>mithi</td>\n",
       "      <td>Completed</td>\n",
       "      <td>8</td>\n",
       "    </tr>\n",
       "    <tr>\n",
       "      <th>175</th>\n",
       "      <td>lakki marwat</td>\n",
       "      <td>Returned</td>\n",
       "      <td>8</td>\n",
       "    </tr>\n",
       "    <tr>\n",
       "      <th>133</th>\n",
       "      <td>kandhkot</td>\n",
       "      <td>Completed</td>\n",
       "      <td>7</td>\n",
       "    </tr>\n",
       "    <tr>\n",
       "      <th>283</th>\n",
       "      <td>sarai alamgir</td>\n",
       "      <td>Completed</td>\n",
       "      <td>7</td>\n",
       "    </tr>\n",
       "    <tr>\n",
       "      <th>182</th>\n",
       "      <td>latamber</td>\n",
       "      <td>Completed</td>\n",
       "      <td>7</td>\n",
       "    </tr>\n",
       "    <tr>\n",
       "      <th>204</th>\n",
       "      <td>mastung</td>\n",
       "      <td>Completed</td>\n",
       "      <td>7</td>\n",
       "    </tr>\n",
       "    <tr>\n",
       "      <th>277</th>\n",
       "      <td>sahiwal</td>\n",
       "      <td>Returned</td>\n",
       "      <td>7</td>\n",
       "    </tr>\n",
       "    <tr>\n",
       "      <th>213</th>\n",
       "      <td>mingora</td>\n",
       "      <td>Returned</td>\n",
       "      <td>6</td>\n",
       "    </tr>\n",
       "    <tr>\n",
       "      <th>245</th>\n",
       "      <td>paharpur</td>\n",
       "      <td>Completed</td>\n",
       "      <td>6</td>\n",
       "    </tr>\n",
       "    <tr>\n",
       "      <th>253</th>\n",
       "      <td>pir mahal</td>\n",
       "      <td>Completed</td>\n",
       "      <td>6</td>\n",
       "    </tr>\n",
       "    <tr>\n",
       "      <th>260</th>\n",
       "      <td>rahim yar khan</td>\n",
       "      <td>Returned</td>\n",
       "      <td>6</td>\n",
       "    </tr>\n",
       "    <tr>\n",
       "      <th>298</th>\n",
       "      <td>sukkur</td>\n",
       "      <td>Returned</td>\n",
       "      <td>6</td>\n",
       "    </tr>\n",
       "    <tr>\n",
       "      <th>147</th>\n",
       "      <td>kasur</td>\n",
       "      <td>Returned</td>\n",
       "      <td>6</td>\n",
       "    </tr>\n",
       "    <tr>\n",
       "      <th>295</th>\n",
       "      <td>sibi</td>\n",
       "      <td>Completed</td>\n",
       "      <td>6</td>\n",
       "    </tr>\n",
       "    <tr>\n",
       "      <th>60</th>\n",
       "      <td>digri</td>\n",
       "      <td>Completed</td>\n",
       "      <td>6</td>\n",
       "    </tr>\n",
       "    <tr>\n",
       "      <th>315</th>\n",
       "      <td>thatta</td>\n",
       "      <td>Completed</td>\n",
       "      <td>6</td>\n",
       "    </tr>\n",
       "    <tr>\n",
       "      <th>302</th>\n",
       "      <td>swat</td>\n",
       "      <td>Returned</td>\n",
       "      <td>6</td>\n",
       "    </tr>\n",
       "    <tr>\n",
       "      <th>243</th>\n",
       "      <td>pabbi</td>\n",
       "      <td>Completed</td>\n",
       "      <td>5</td>\n",
       "    </tr>\n",
       "    <tr>\n",
       "      <th>55</th>\n",
       "      <td>daska</td>\n",
       "      <td>Returned</td>\n",
       "      <td>5</td>\n",
       "    </tr>\n",
       "    <tr>\n",
       "      <th>101</th>\n",
       "      <td>islamabad</td>\n",
       "      <td>Canceled</td>\n",
       "      <td>5</td>\n",
       "    </tr>\n",
       "    <tr>\n",
       "      <th>180</th>\n",
       "      <td>lasbela</td>\n",
       "      <td>Completed</td>\n",
       "      <td>5</td>\n",
       "    </tr>\n",
       "    <tr>\n",
       "      <th>97</th>\n",
       "      <td>haveli lakha</td>\n",
       "      <td>Completed</td>\n",
       "      <td>5</td>\n",
       "    </tr>\n",
       "    <tr>\n",
       "      <th>32</th>\n",
       "      <td>burewala</td>\n",
       "      <td>Returned</td>\n",
       "      <td>5</td>\n",
       "    </tr>\n",
       "    <tr>\n",
       "      <th>208</th>\n",
       "      <td>mehrabpur</td>\n",
       "      <td>Completed</td>\n",
       "      <td>5</td>\n",
       "    </tr>\n",
       "    <tr>\n",
       "      <th>59</th>\n",
       "      <td>dera ismail khan</td>\n",
       "      <td>Returned</td>\n",
       "      <td>5</td>\n",
       "    </tr>\n",
       "    <tr>\n",
       "      <th>121</th>\n",
       "      <td>jhang</td>\n",
       "      <td>Returned</td>\n",
       "      <td>5</td>\n",
       "    </tr>\n",
       "    <tr>\n",
       "      <th>17</th>\n",
       "      <td>bahawalnagar</td>\n",
       "      <td>Returned</td>\n",
       "      <td>5</td>\n",
       "    </tr>\n",
       "    <tr>\n",
       "      <th>200</th>\n",
       "      <td>mansehra</td>\n",
       "      <td>Returned</td>\n",
       "      <td>5</td>\n",
       "    </tr>\n",
       "    <tr>\n",
       "      <th>211</th>\n",
       "      <td>mianwali</td>\n",
       "      <td>Returned</td>\n",
       "      <td>5</td>\n",
       "    </tr>\n",
       "    <tr>\n",
       "      <th>236</th>\n",
       "      <td>nawabshah</td>\n",
       "      <td>Returned</td>\n",
       "      <td>5</td>\n",
       "    </tr>\n",
       "    <tr>\n",
       "      <th>264</th>\n",
       "      <td>ranipur</td>\n",
       "      <td>Completed</td>\n",
       "      <td>5</td>\n",
       "    </tr>\n",
       "    <tr>\n",
       "      <th>269</th>\n",
       "      <td>renala khurd</td>\n",
       "      <td>Completed</td>\n",
       "      <td>5</td>\n",
       "    </tr>\n",
       "    <tr>\n",
       "      <th>70</th>\n",
       "      <td>doaba</td>\n",
       "      <td>Completed</td>\n",
       "      <td>5</td>\n",
       "    </tr>\n",
       "    <tr>\n",
       "      <th>140</th>\n",
       "      <td>karak</td>\n",
       "      <td>Returned</td>\n",
       "      <td>5</td>\n",
       "    </tr>\n",
       "    <tr>\n",
       "      <th>141</th>\n",
       "      <td>karor lal esan</td>\n",
       "      <td>Completed</td>\n",
       "      <td>5</td>\n",
       "    </tr>\n",
       "    <tr>\n",
       "      <th>163</th>\n",
       "      <td>kohat</td>\n",
       "      <td>Returned</td>\n",
       "      <td>5</td>\n",
       "    </tr>\n",
       "    <tr>\n",
       "      <th>3</th>\n",
       "      <td>abbottabad</td>\n",
       "      <td>Returned</td>\n",
       "      <td>5</td>\n",
       "    </tr>\n",
       "    <tr>\n",
       "      <th>271</th>\n",
       "      <td>rohri</td>\n",
       "      <td>Completed</td>\n",
       "      <td>5</td>\n",
       "    </tr>\n",
       "    <tr>\n",
       "      <th>265</th>\n",
       "      <td>ratodero</td>\n",
       "      <td>Completed</td>\n",
       "      <td>5</td>\n",
       "    </tr>\n",
       "    <tr>\n",
       "      <th>203</th>\n",
       "      <td>mardan</td>\n",
       "      <td>Returned</td>\n",
       "      <td>4</td>\n",
       "    </tr>\n",
       "    <tr>\n",
       "      <th>71</th>\n",
       "      <td>dokri</td>\n",
       "      <td>Completed</td>\n",
       "      <td>4</td>\n",
       "    </tr>\n",
       "    <tr>\n",
       "      <th>46</th>\n",
       "      <td>chishtian</td>\n",
       "      <td>Returned</td>\n",
       "      <td>4</td>\n",
       "    </tr>\n",
       "    <tr>\n",
       "      <th>56</th>\n",
       "      <td>dera bugti</td>\n",
       "      <td>Completed</td>\n",
       "      <td>4</td>\n",
       "    </tr>\n",
       "    <tr>\n",
       "      <th>207</th>\n",
       "      <td>mehar</td>\n",
       "      <td>Completed</td>\n",
       "      <td>4</td>\n",
       "    </tr>\n",
       "    <tr>\n",
       "      <th>65</th>\n",
       "      <td>dipalpur</td>\n",
       "      <td>Completed</td>\n",
       "      <td>4</td>\n",
       "    </tr>\n",
       "    <tr>\n",
       "      <th>89</th>\n",
       "      <td>hangu</td>\n",
       "      <td>Returned</td>\n",
       "      <td>4</td>\n",
       "    </tr>\n",
       "    <tr>\n",
       "      <th>191</th>\n",
       "      <td>loralai</td>\n",
       "      <td>Returned</td>\n",
       "      <td>4</td>\n",
       "    </tr>\n",
       "    <tr>\n",
       "      <th>69</th>\n",
       "      <td>dir</td>\n",
       "      <td>Returned</td>\n",
       "      <td>4</td>\n",
       "    </tr>\n",
       "    <tr>\n",
       "      <th>239</th>\n",
       "      <td>nowshera</td>\n",
       "      <td>Returned</td>\n",
       "      <td>4</td>\n",
       "    </tr>\n",
       "    <tr>\n",
       "      <th>44</th>\n",
       "      <td>chiniot</td>\n",
       "      <td>Returned</td>\n",
       "      <td>4</td>\n",
       "    </tr>\n",
       "    <tr>\n",
       "      <th>155</th>\n",
       "      <td>khanpur</td>\n",
       "      <td>Returned</td>\n",
       "      <td>4</td>\n",
       "    </tr>\n",
       "    <tr>\n",
       "      <th>37</th>\n",
       "      <td>chakwal</td>\n",
       "      <td>Returned</td>\n",
       "      <td>4</td>\n",
       "    </tr>\n",
       "    <tr>\n",
       "      <th>4</th>\n",
       "      <td>ahmadpur east</td>\n",
       "      <td>Completed</td>\n",
       "      <td>4</td>\n",
       "    </tr>\n",
       "    <tr>\n",
       "      <th>325</th>\n",
       "      <td>washuk</td>\n",
       "      <td>Completed</td>\n",
       "      <td>4</td>\n",
       "    </tr>\n",
       "    <tr>\n",
       "      <th>115</th>\n",
       "      <td>jatoi</td>\n",
       "      <td>Completed</td>\n",
       "      <td>4</td>\n",
       "    </tr>\n",
       "    <tr>\n",
       "      <th>169</th>\n",
       "      <td>kulachi</td>\n",
       "      <td>Completed</td>\n",
       "      <td>4</td>\n",
       "    </tr>\n",
       "    <tr>\n",
       "      <th>274</th>\n",
       "      <td>sadiqabad</td>\n",
       "      <td>Returned</td>\n",
       "      <td>4</td>\n",
       "    </tr>\n",
       "    <tr>\n",
       "      <th>126</th>\n",
       "      <td>kalat</td>\n",
       "      <td>Completed</td>\n",
       "      <td>4</td>\n",
       "    </tr>\n",
       "    <tr>\n",
       "      <th>13</th>\n",
       "      <td>attock</td>\n",
       "      <td>Returned</td>\n",
       "      <td>4</td>\n",
       "    </tr>\n",
       "    <tr>\n",
       "      <th>136</th>\n",
       "      <td>karachi</td>\n",
       "      <td>Canceled</td>\n",
       "      <td>4</td>\n",
       "    </tr>\n",
       "    <tr>\n",
       "      <th>11</th>\n",
       "      <td>arifwala</td>\n",
       "      <td>Returned</td>\n",
       "      <td>3</td>\n",
       "    </tr>\n",
       "    <tr>\n",
       "      <th>9</th>\n",
       "      <td>alpuri</td>\n",
       "      <td>Completed</td>\n",
       "      <td>3</td>\n",
       "    </tr>\n",
       "    <tr>\n",
       "      <th>223</th>\n",
       "      <td>murree</td>\n",
       "      <td>Returned</td>\n",
       "      <td>3</td>\n",
       "    </tr>\n",
       "    <tr>\n",
       "      <th>255</th>\n",
       "      <td>qasimabad</td>\n",
       "      <td>Completed</td>\n",
       "      <td>3</td>\n",
       "    </tr>\n",
       "    <tr>\n",
       "      <th>227</th>\n",
       "      <td>nankana sahib</td>\n",
       "      <td>Returned</td>\n",
       "      <td>3</td>\n",
       "    </tr>\n",
       "    <tr>\n",
       "      <th>240</th>\n",
       "      <td>nushki</td>\n",
       "      <td>Completed</td>\n",
       "      <td>3</td>\n",
       "    </tr>\n",
       "    <tr>\n",
       "      <th>21</th>\n",
       "      <td>bannu</td>\n",
       "      <td>Returned</td>\n",
       "      <td>3</td>\n",
       "    </tr>\n",
       "    <tr>\n",
       "      <th>281</th>\n",
       "      <td>sanghar</td>\n",
       "      <td>Returned</td>\n",
       "      <td>3</td>\n",
       "    </tr>\n",
       "    <tr>\n",
       "      <th>221</th>\n",
       "      <td>muridke</td>\n",
       "      <td>Returned</td>\n",
       "      <td>3</td>\n",
       "    </tr>\n",
       "    <tr>\n",
       "      <th>41</th>\n",
       "      <td>chichawatni</td>\n",
       "      <td>Returned</td>\n",
       "      <td>3</td>\n",
       "    </tr>\n",
       "    <tr>\n",
       "      <th>160</th>\n",
       "      <td>khushab</td>\n",
       "      <td>Returned</td>\n",
       "      <td>3</td>\n",
       "    </tr>\n",
       "    <tr>\n",
       "      <th>216</th>\n",
       "      <td>moro</td>\n",
       "      <td>Completed</td>\n",
       "      <td>3</td>\n",
       "    </tr>\n",
       "    <tr>\n",
       "      <th>194</th>\n",
       "      <td>mailsi</td>\n",
       "      <td>Returned</td>\n",
       "      <td>3</td>\n",
       "    </tr>\n",
       "    <tr>\n",
       "      <th>123</th>\n",
       "      <td>jhelum</td>\n",
       "      <td>Returned</td>\n",
       "      <td>3</td>\n",
       "    </tr>\n",
       "    <tr>\n",
       "      <th>114</th>\n",
       "      <td>jaranwala</td>\n",
       "      <td>Returned</td>\n",
       "      <td>3</td>\n",
       "    </tr>\n",
       "    <tr>\n",
       "      <th>188</th>\n",
       "      <td>lodhran</td>\n",
       "      <td>Returned</td>\n",
       "      <td>3</td>\n",
       "    </tr>\n",
       "    <tr>\n",
       "      <th>308</th>\n",
       "      <td>tangi</td>\n",
       "      <td>Completed</td>\n",
       "      <td>3</td>\n",
       "    </tr>\n",
       "    <tr>\n",
       "      <th>198</th>\n",
       "      <td>mandi bahauddin</td>\n",
       "      <td>Returned</td>\n",
       "      <td>3</td>\n",
       "    </tr>\n",
       "    <tr>\n",
       "      <th>205</th>\n",
       "      <td>mastung</td>\n",
       "      <td>Returned</td>\n",
       "      <td>3</td>\n",
       "    </tr>\n",
       "    <tr>\n",
       "      <th>117</th>\n",
       "      <td>jattan</td>\n",
       "      <td>Completed</td>\n",
       "      <td>3</td>\n",
       "    </tr>\n",
       "    <tr>\n",
       "      <th>179</th>\n",
       "      <td>larkana</td>\n",
       "      <td>Returned</td>\n",
       "      <td>3</td>\n",
       "    </tr>\n",
       "    <tr>\n",
       "      <th>85</th>\n",
       "      <td>gwadar</td>\n",
       "      <td>Returned</td>\n",
       "      <td>3</td>\n",
       "    </tr>\n",
       "    <tr>\n",
       "      <th>164</th>\n",
       "      <td>kohlu</td>\n",
       "      <td>Completed</td>\n",
       "      <td>3</td>\n",
       "    </tr>\n",
       "    <tr>\n",
       "      <th>171</th>\n",
       "      <td>lahore</td>\n",
       "      <td>Canceled</td>\n",
       "      <td>3</td>\n",
       "    </tr>\n",
       "    <tr>\n",
       "      <th>327</th>\n",
       "      <td>wazirabad</td>\n",
       "      <td>Returned</td>\n",
       "      <td>2</td>\n",
       "    </tr>\n",
       "    <tr>\n",
       "      <th>296</th>\n",
       "      <td>sohawa</td>\n",
       "      <td>Completed</td>\n",
       "      <td>2</td>\n",
       "    </tr>\n",
       "    <tr>\n",
       "      <th>314</th>\n",
       "      <td>taxila</td>\n",
       "      <td>Returned</td>\n",
       "      <td>2</td>\n",
       "    </tr>\n",
       "    <tr>\n",
       "      <th>186</th>\n",
       "      <td>liaquat pur</td>\n",
       "      <td>Returned</td>\n",
       "      <td>2</td>\n",
       "    </tr>\n",
       "    <tr>\n",
       "      <th>116</th>\n",
       "      <td>jatoi</td>\n",
       "      <td>Returned</td>\n",
       "      <td>2</td>\n",
       "    </tr>\n",
       "    <tr>\n",
       "      <th>22</th>\n",
       "      <td>barkhan</td>\n",
       "      <td>Completed</td>\n",
       "      <td>2</td>\n",
       "    </tr>\n",
       "    <tr>\n",
       "      <th>26</th>\n",
       "      <td>bhakkar</td>\n",
       "      <td>Returned</td>\n",
       "      <td>2</td>\n",
       "    </tr>\n",
       "    <tr>\n",
       "      <th>144</th>\n",
       "      <td>kashmore</td>\n",
       "      <td>Returned</td>\n",
       "      <td>2</td>\n",
       "    </tr>\n",
       "    <tr>\n",
       "      <th>275</th>\n",
       "      <td>safdarabad</td>\n",
       "      <td>Completed</td>\n",
       "      <td>2</td>\n",
       "    </tr>\n",
       "    <tr>\n",
       "      <th>30</th>\n",
       "      <td>bhera</td>\n",
       "      <td>Returned</td>\n",
       "      <td>2</td>\n",
       "    </tr>\n",
       "    <tr>\n",
       "      <th>8</th>\n",
       "      <td>alipur</td>\n",
       "      <td>Returned</td>\n",
       "      <td>2</td>\n",
       "    </tr>\n",
       "    <tr>\n",
       "      <th>329</th>\n",
       "      <td>ziarat</td>\n",
       "      <td>Completed</td>\n",
       "      <td>2</td>\n",
       "    </tr>\n",
       "    <tr>\n",
       "      <th>192</th>\n",
       "      <td>madyan</td>\n",
       "      <td>Completed</td>\n",
       "      <td>2</td>\n",
       "    </tr>\n",
       "    <tr>\n",
       "      <th>309</th>\n",
       "      <td>tangwani</td>\n",
       "      <td>Completed</td>\n",
       "      <td>2</td>\n",
       "    </tr>\n",
       "    <tr>\n",
       "      <th>149</th>\n",
       "      <td>kech</td>\n",
       "      <td>Returned</td>\n",
       "      <td>2</td>\n",
       "    </tr>\n",
       "    <tr>\n",
       "      <th>87</th>\n",
       "      <td>hafizabad</td>\n",
       "      <td>Returned</td>\n",
       "      <td>2</td>\n",
       "    </tr>\n",
       "    <tr>\n",
       "      <th>310</th>\n",
       "      <td>tangwani</td>\n",
       "      <td>Returned</td>\n",
       "      <td>2</td>\n",
       "    </tr>\n",
       "    <tr>\n",
       "      <th>282</th>\n",
       "      <td>sangla hill</td>\n",
       "      <td>Completed</td>\n",
       "      <td>2</td>\n",
       "    </tr>\n",
       "    <tr>\n",
       "      <th>230</th>\n",
       "      <td>nasirabad</td>\n",
       "      <td>Completed</td>\n",
       "      <td>2</td>\n",
       "    </tr>\n",
       "    <tr>\n",
       "      <th>96</th>\n",
       "      <td>hasilpur</td>\n",
       "      <td>Returned</td>\n",
       "      <td>2</td>\n",
       "    </tr>\n",
       "    <tr>\n",
       "      <th>168</th>\n",
       "      <td>kotri</td>\n",
       "      <td>Returned</td>\n",
       "      <td>2</td>\n",
       "    </tr>\n",
       "    <tr>\n",
       "      <th>306</th>\n",
       "      <td>tando muhammad khan</td>\n",
       "      <td>Completed</td>\n",
       "      <td>2</td>\n",
       "    </tr>\n",
       "    <tr>\n",
       "      <th>321</th>\n",
       "      <td>umerkot</td>\n",
       "      <td>Returned</td>\n",
       "      <td>2</td>\n",
       "    </tr>\n",
       "    <tr>\n",
       "      <th>104</th>\n",
       "      <td>islamkot</td>\n",
       "      <td>Completed</td>\n",
       "      <td>2</td>\n",
       "    </tr>\n",
       "    <tr>\n",
       "      <th>237</th>\n",
       "      <td>nazimabad</td>\n",
       "      <td>Completed</td>\n",
       "      <td>2</td>\n",
       "    </tr>\n",
       "    <tr>\n",
       "      <th>266</th>\n",
       "      <td>rawalpindi</td>\n",
       "      <td>Canceled</td>\n",
       "      <td>2</td>\n",
       "    </tr>\n",
       "    <tr>\n",
       "      <th>110</th>\n",
       "      <td>jampur</td>\n",
       "      <td>Returned</td>\n",
       "      <td>2</td>\n",
       "    </tr>\n",
       "    <tr>\n",
       "      <th>263</th>\n",
       "      <td>rajanpur</td>\n",
       "      <td>Returned</td>\n",
       "      <td>2</td>\n",
       "    </tr>\n",
       "    <tr>\n",
       "      <th>284</th>\n",
       "      <td>sargodha</td>\n",
       "      <td>Canceled</td>\n",
       "      <td>1</td>\n",
       "    </tr>\n",
       "    <tr>\n",
       "      <th>324</th>\n",
       "      <td>warah</td>\n",
       "      <td>Completed</td>\n",
       "      <td>1</td>\n",
       "    </tr>\n",
       "    <tr>\n",
       "      <th>291</th>\n",
       "      <td>sheikhupura</td>\n",
       "      <td>Returned</td>\n",
       "      <td>1</td>\n",
       "    </tr>\n",
       "    <tr>\n",
       "      <th>278</th>\n",
       "      <td>saidu sharif</td>\n",
       "      <td>Completed</td>\n",
       "      <td>1</td>\n",
       "    </tr>\n",
       "    <tr>\n",
       "      <th>307</th>\n",
       "      <td>tando muhammad khan</td>\n",
       "      <td>Returned</td>\n",
       "      <td>1</td>\n",
       "    </tr>\n",
       "    <tr>\n",
       "      <th>319</th>\n",
       "      <td>toba tek singh</td>\n",
       "      <td>Returned</td>\n",
       "      <td>1</td>\n",
       "    </tr>\n",
       "    <tr>\n",
       "      <th>317</th>\n",
       "      <td>timergara</td>\n",
       "      <td>Returned</td>\n",
       "      <td>1</td>\n",
       "    </tr>\n",
       "    <tr>\n",
       "      <th>312</th>\n",
       "      <td>tank</td>\n",
       "      <td>Returned</td>\n",
       "      <td>1</td>\n",
       "    </tr>\n",
       "    <tr>\n",
       "      <th>272</th>\n",
       "      <td>rohri</td>\n",
       "      <td>Returned</td>\n",
       "      <td>1</td>\n",
       "    </tr>\n",
       "    <tr>\n",
       "      <th>165</th>\n",
       "      <td>kohlu</td>\n",
       "      <td>Returned</td>\n",
       "      <td>1</td>\n",
       "    </tr>\n",
       "    <tr>\n",
       "      <th>270</th>\n",
       "      <td>renala khurd</td>\n",
       "      <td>Returned</td>\n",
       "      <td>1</td>\n",
       "    </tr>\n",
       "    <tr>\n",
       "      <th>66</th>\n",
       "      <td>diplo</td>\n",
       "      <td>Completed</td>\n",
       "      <td>1</td>\n",
       "    </tr>\n",
       "    <tr>\n",
       "      <th>124</th>\n",
       "      <td>jungshahi</td>\n",
       "      <td>Completed</td>\n",
       "      <td>1</td>\n",
       "    </tr>\n",
       "    <tr>\n",
       "      <th>119</th>\n",
       "      <td>jhang</td>\n",
       "      <td>Canceled</td>\n",
       "      <td>1</td>\n",
       "    </tr>\n",
       "    <tr>\n",
       "      <th>112</th>\n",
       "      <td>jamshoro</td>\n",
       "      <td>Returned</td>\n",
       "      <td>1</td>\n",
       "    </tr>\n",
       "    <tr>\n",
       "      <th>107</th>\n",
       "      <td>jacobabad</td>\n",
       "      <td>Returned</td>\n",
       "      <td>1</td>\n",
       "    </tr>\n",
       "    <tr>\n",
       "      <th>105</th>\n",
       "      <td>islamkot</td>\n",
       "      <td>Returned</td>\n",
       "      <td>1</td>\n",
       "    </tr>\n",
       "    <tr>\n",
       "      <th>98</th>\n",
       "      <td>hyderabad</td>\n",
       "      <td>Canceled</td>\n",
       "      <td>1</td>\n",
       "    </tr>\n",
       "    <tr>\n",
       "      <th>94</th>\n",
       "      <td>hasilpur</td>\n",
       "      <td>Canceled</td>\n",
       "      <td>1</td>\n",
       "    </tr>\n",
       "    <tr>\n",
       "      <th>93</th>\n",
       "      <td>haroonabad</td>\n",
       "      <td>Returned</td>\n",
       "      <td>1</td>\n",
       "    </tr>\n",
       "    <tr>\n",
       "      <th>76</th>\n",
       "      <td>ghakhar mandi</td>\n",
       "      <td>Completed</td>\n",
       "      <td>1</td>\n",
       "    </tr>\n",
       "    <tr>\n",
       "      <th>73</th>\n",
       "      <td>faisalabad</td>\n",
       "      <td>Canceled</td>\n",
       "      <td>1</td>\n",
       "    </tr>\n",
       "    <tr>\n",
       "      <th>72</th>\n",
       "      <td>drosh</td>\n",
       "      <td>Completed</td>\n",
       "      <td>1</td>\n",
       "    </tr>\n",
       "    <tr>\n",
       "      <th>67</th>\n",
       "      <td>dir</td>\n",
       "      <td>Canceled</td>\n",
       "      <td>1</td>\n",
       "    </tr>\n",
       "    <tr>\n",
       "      <th>64</th>\n",
       "      <td>dinga</td>\n",
       "      <td>Returned</td>\n",
       "      <td>1</td>\n",
       "    </tr>\n",
       "    <tr>\n",
       "      <th>127</th>\n",
       "      <td>kalat</td>\n",
       "      <td>Returned</td>\n",
       "      <td>1</td>\n",
       "    </tr>\n",
       "    <tr>\n",
       "      <th>62</th>\n",
       "      <td>dina</td>\n",
       "      <td>Returned</td>\n",
       "      <td>1</td>\n",
       "    </tr>\n",
       "    <tr>\n",
       "      <th>53</th>\n",
       "      <td>darya khan</td>\n",
       "      <td>Returned</td>\n",
       "      <td>1</td>\n",
       "    </tr>\n",
       "    <tr>\n",
       "      <th>50</th>\n",
       "      <td>daggar</td>\n",
       "      <td>Completed</td>\n",
       "      <td>1</td>\n",
       "    </tr>\n",
       "    <tr>\n",
       "      <th>49</th>\n",
       "      <td>dadu</td>\n",
       "      <td>Returned</td>\n",
       "      <td>1</td>\n",
       "    </tr>\n",
       "    <tr>\n",
       "      <th>42</th>\n",
       "      <td>chiniot</td>\n",
       "      <td>Canceled</td>\n",
       "      <td>1</td>\n",
       "    </tr>\n",
       "    <tr>\n",
       "      <th>39</th>\n",
       "      <td>charsadda</td>\n",
       "      <td>Returned</td>\n",
       "      <td>1</td>\n",
       "    </tr>\n",
       "    <tr>\n",
       "      <th>35</th>\n",
       "      <td>chak</td>\n",
       "      <td>Returned</td>\n",
       "      <td>1</td>\n",
       "    </tr>\n",
       "    <tr>\n",
       "      <th>33</th>\n",
       "      <td>chagai</td>\n",
       "      <td>Completed</td>\n",
       "      <td>1</td>\n",
       "    </tr>\n",
       "    <tr>\n",
       "      <th>28</th>\n",
       "      <td>bhalwal</td>\n",
       "      <td>Returned</td>\n",
       "      <td>1</td>\n",
       "    </tr>\n",
       "    <tr>\n",
       "      <th>15</th>\n",
       "      <td>badin</td>\n",
       "      <td>Returned</td>\n",
       "      <td>1</td>\n",
       "    </tr>\n",
       "    <tr>\n",
       "      <th>6</th>\n",
       "      <td>akora khattak</td>\n",
       "      <td>Completed</td>\n",
       "      <td>1</td>\n",
       "    </tr>\n",
       "    <tr>\n",
       "      <th>5</th>\n",
       "      <td>ahmed nager chatha</td>\n",
       "      <td>Returned</td>\n",
       "      <td>1</td>\n",
       "    </tr>\n",
       "    <tr>\n",
       "      <th>125</th>\n",
       "      <td>kalabagh</td>\n",
       "      <td>Completed</td>\n",
       "      <td>1</td>\n",
       "    </tr>\n",
       "    <tr>\n",
       "      <th>129</th>\n",
       "      <td>kamalia</td>\n",
       "      <td>Returned</td>\n",
       "      <td>1</td>\n",
       "    </tr>\n",
       "    <tr>\n",
       "      <th>256</th>\n",
       "      <td>qila didar singh</td>\n",
       "      <td>Completed</td>\n",
       "      <td>1</td>\n",
       "    </tr>\n",
       "    <tr>\n",
       "      <th>201</th>\n",
       "      <td>mardan</td>\n",
       "      <td>Canceled</td>\n",
       "      <td>1</td>\n",
       "    </tr>\n",
       "    <tr>\n",
       "      <th>254</th>\n",
       "      <td>pir mahal</td>\n",
       "      <td>Returned</td>\n",
       "      <td>1</td>\n",
       "    </tr>\n",
       "    <tr>\n",
       "      <th>250</th>\n",
       "      <td>peshawar</td>\n",
       "      <td>Canceled</td>\n",
       "      <td>1</td>\n",
       "    </tr>\n",
       "    <tr>\n",
       "      <th>248</th>\n",
       "      <td>panjgur</td>\n",
       "      <td>Completed</td>\n",
       "      <td>1</td>\n",
       "    </tr>\n",
       "    <tr>\n",
       "      <th>246</th>\n",
       "      <td>paharpur</td>\n",
       "      <td>Returned</td>\n",
       "      <td>1</td>\n",
       "    </tr>\n",
       "    <tr>\n",
       "      <th>244</th>\n",
       "      <td>pabbi</td>\n",
       "      <td>Returned</td>\n",
       "      <td>1</td>\n",
       "    </tr>\n",
       "    <tr>\n",
       "      <th>234</th>\n",
       "      <td>nawabshah</td>\n",
       "      <td>Canceled</td>\n",
       "      <td>1</td>\n",
       "    </tr>\n",
       "    <tr>\n",
       "      <th>233</th>\n",
       "      <td>naushahro feroze</td>\n",
       "      <td>Returned</td>\n",
       "      <td>1</td>\n",
       "    </tr>\n",
       "    <tr>\n",
       "      <th>231</th>\n",
       "      <td>naudero</td>\n",
       "      <td>Completed</td>\n",
       "      <td>1</td>\n",
       "    </tr>\n",
       "    <tr>\n",
       "      <th>229</th>\n",
       "      <td>narowal</td>\n",
       "      <td>Returned</td>\n",
       "      <td>1</td>\n",
       "    </tr>\n",
       "    <tr>\n",
       "      <th>225</th>\n",
       "      <td>muzaffargarh</td>\n",
       "      <td>Returned</td>\n",
       "      <td>1</td>\n",
       "    </tr>\n",
       "    <tr>\n",
       "      <th>217</th>\n",
       "      <td>moro</td>\n",
       "      <td>Returned</td>\n",
       "      <td>1</td>\n",
       "    </tr>\n",
       "    <tr>\n",
       "      <th>214</th>\n",
       "      <td>mirpur khas</td>\n",
       "      <td>Completed</td>\n",
       "      <td>1</td>\n",
       "    </tr>\n",
       "    <tr>\n",
       "      <th>196</th>\n",
       "      <td>malakwal</td>\n",
       "      <td>Returned</td>\n",
       "      <td>1</td>\n",
       "    </tr>\n",
       "    <tr>\n",
       "      <th>130</th>\n",
       "      <td>kamoke</td>\n",
       "      <td>Canceled</td>\n",
       "      <td>1</td>\n",
       "    </tr>\n",
       "    <tr>\n",
       "      <th>189</th>\n",
       "      <td>loralai</td>\n",
       "      <td>Canceled</td>\n",
       "      <td>1</td>\n",
       "    </tr>\n",
       "    <tr>\n",
       "      <th>185</th>\n",
       "      <td>liaquat pur</td>\n",
       "      <td>Completed</td>\n",
       "      <td>1</td>\n",
       "    </tr>\n",
       "    <tr>\n",
       "      <th>181</th>\n",
       "      <td>lasbela</td>\n",
       "      <td>Returned</td>\n",
       "      <td>1</td>\n",
       "    </tr>\n",
       "    <tr>\n",
       "      <th>177</th>\n",
       "      <td>larkana</td>\n",
       "      <td>Canceled</td>\n",
       "      <td>1</td>\n",
       "    </tr>\n",
       "    <tr>\n",
       "      <th>170</th>\n",
       "      <td>kulachi</td>\n",
       "      <td>Returned</td>\n",
       "      <td>1</td>\n",
       "    </tr>\n",
       "    <tr>\n",
       "      <th>158</th>\n",
       "      <td>kharian</td>\n",
       "      <td>Returned</td>\n",
       "      <td>1</td>\n",
       "    </tr>\n",
       "    <tr>\n",
       "      <th>153</th>\n",
       "      <td>khanewal</td>\n",
       "      <td>Returned</td>\n",
       "      <td>1</td>\n",
       "    </tr>\n",
       "    <tr>\n",
       "      <th>151</th>\n",
       "      <td>khairpur</td>\n",
       "      <td>Returned</td>\n",
       "      <td>1</td>\n",
       "    </tr>\n",
       "    <tr>\n",
       "      <th>145</th>\n",
       "      <td>kasur</td>\n",
       "      <td>Canceled</td>\n",
       "      <td>1</td>\n",
       "    </tr>\n",
       "    <tr>\n",
       "      <th>142</th>\n",
       "      <td>karor lal esan</td>\n",
       "      <td>Returned</td>\n",
       "      <td>1</td>\n",
       "    </tr>\n",
       "    <tr>\n",
       "      <th>135</th>\n",
       "      <td>kandiaro</td>\n",
       "      <td>Returned</td>\n",
       "      <td>1</td>\n",
       "    </tr>\n",
       "    <tr>\n",
       "      <th>132</th>\n",
       "      <td>kamoke</td>\n",
       "      <td>Returned</td>\n",
       "      <td>1</td>\n",
       "    </tr>\n",
       "    <tr>\n",
       "      <th>330</th>\n",
       "      <td>ziarat</td>\n",
       "      <td>Returned</td>\n",
       "      <td>1</td>\n",
       "    </tr>\n",
       "  </tbody>\n",
       "</table>\n",
       "</div>"
      ],
      "text/plain": [
       "                    City Order_Status  Order_Number\n",
       "102            islamabad    Completed          3906\n",
       "137              karachi    Completed          2859\n",
       "172               lahore    Completed          2291\n",
       "267           rawalpindi    Completed           749\n",
       "74            faisalabad    Completed           545\n",
       "251             peshawar    Completed           505\n",
       "218               multan    Completed           460\n",
       "103            islamabad     Returned           442\n",
       "80            gujranwala    Completed           312\n",
       "293              sialkot    Completed           275\n",
       "99             hyderabad    Completed           264\n",
       "257               quetta    Completed           254\n",
       "0                           Completed           231\n",
       "18            bahawalpur    Completed           191\n",
       "259       rahim yar khan    Completed           177\n",
       "285             sargodha    Completed           166\n",
       "82                gujrat    Completed           145\n",
       "138              karachi     Returned           132\n",
       "276              sahiwal    Completed           130\n",
       "241                okara    Completed           118\n",
       "290          sheikhupura    Completed           113\n",
       "202               mardan    Completed           112\n",
       "90               haripur    Completed           111\n",
       "12                attock    Completed           111\n",
       "2             abbottabad    Completed           106\n",
       "36               chakwal    Completed           104\n",
       "210             mianwali    Completed            99\n",
       "173               lahore     Returned            97\n",
       "299                swabi    Completed            94\n",
       "146                kasur    Completed            90\n",
       "297               sukkur    Completed            87\n",
       "58      dera ismail khan    Completed            83\n",
       "57       dera ghazi khan    Completed            83\n",
       "120                jhang    Completed            79\n",
       "20                 bannu    Completed            75\n",
       "68                   dir    Completed            72\n",
       "162                kohat    Completed            72\n",
       "199             mansehra    Completed            68\n",
       "25               bhakkar    Completed            64\n",
       "152             khanewal    Completed            63\n",
       "318       toba tek singh    Completed            62\n",
       "174         lakki marwat    Completed            62\n",
       "322               vehari    Completed            61\n",
       "212              mingora    Completed            59\n",
       "31              burewala    Completed            58\n",
       "301                 swat    Completed            53\n",
       "86             hafizabad    Completed            51\n",
       "238             nowshera    Completed            51\n",
       "183               layyah    Completed            50\n",
       "43               chiniot    Completed            50\n",
       "54                 daska    Completed            49\n",
       "178              larkana    Completed            48\n",
       "122               jhelum    Completed            47\n",
       "187              lodhran    Completed            47\n",
       "139                karak    Completed            47\n",
       "38             charsadda    Completed            45\n",
       "224         muzaffargarh    Completed            45\n",
       "159              khushab    Completed            43\n",
       "16          bahawalnagar    Completed            42\n",
       "113            jaranwala    Completed            40\n",
       "313               taxila    Completed            40\n",
       "268           rawalpindi     Returned            40\n",
       "197      mandi bahauddin    Completed            38\n",
       "88                 hangu    Completed            37\n",
       "252             peshawar     Returned            37\n",
       "247            pakpattan    Completed            35\n",
       "40           chichawatni    Completed            33\n",
       "228              narowal    Completed            33\n",
       "273            sadiqabad    Completed            33\n",
       "78                 gojra    Completed            33\n",
       "219               multan     Returned            32\n",
       "10              arifwala    Completed            31\n",
       "209          mian channu    Completed            31\n",
       "154              khanpur    Completed            31\n",
       "34                  chak    Completed            31\n",
       "150             khairpur    Completed            30\n",
       "280              sanghar    Completed            29\n",
       "157              kharian    Completed            27\n",
       "75            faisalabad     Returned            27\n",
       "111             jamshoro    Completed            27\n",
       "47               chitral    Completed            27\n",
       "100            hyderabad     Returned            25\n",
       "109               jampur    Completed            24\n",
       "77                ghotki    Completed            24\n",
       "24             battagram    Completed            24\n",
       "226        nankana sahib    Completed            24\n",
       "262             rajanpur    Completed            23\n",
       "106            jacobabad    Completed            23\n",
       "1                            Returned            23\n",
       "61                  dina    Completed            23\n",
       "45             chishtian    Completed            22\n",
       "193               mailsi    Completed            21\n",
       "79            gujar khan    Completed            21\n",
       "292              shorkot    Completed            21\n",
       "166             kot addu    Completed            20\n",
       "235            nawabshah    Completed            20\n",
       "190              loralai    Completed            20\n",
       "305       tando allahyar    Completed            20\n",
       "326            wazirabad    Completed            20\n",
       "303             talagang    Completed            19\n",
       "289           shakargarh    Completed            18\n",
       "63                 dinga    Completed            18\n",
       "161              khuzdar    Completed            18\n",
       "108             jalalpur    Completed            18\n",
       "48                  dadu    Completed            18\n",
       "84                gwadar    Completed            18\n",
       "23              batkhela    Completed            17\n",
       "311                 tank    Completed            17\n",
       "249              pattoki    Completed            17\n",
       "81            gujranwala     Returned            17\n",
       "27               bhalwal    Completed            16\n",
       "258               quetta     Returned            16\n",
       "220              muridke    Completed            16\n",
       "83                gujrat     Returned            15\n",
       "320              umerkot    Completed            15\n",
       "14                 badin    Completed            15\n",
       "143             kashmore    Completed            14\n",
       "316            timergara    Completed            14\n",
       "294              sialkot     Returned            14\n",
       "92            haroonabad    Completed            14\n",
       "29                 bhera    Completed            14\n",
       "232     naushahro feroze    Completed            13\n",
       "95              hasilpur    Completed            12\n",
       "184               layyah     Returned            12\n",
       "128              kamalia    Completed            12\n",
       "261              raiwind    Completed            12\n",
       "167                kotri    Completed            12\n",
       "19            bahawalpur     Returned            12\n",
       "176             lalamusa    Completed            12\n",
       "118           jauharabad    Completed            11\n",
       "148                 kech    Completed            11\n",
       "51                dargai    Completed            11\n",
       "279              sakrand    Completed            10\n",
       "156               kharan    Completed            10\n",
       "323               vehari     Returned            10\n",
       "52            darya khan    Completed            10\n",
       "195             malakwal    Completed            10\n",
       "7                 alipur    Completed            10\n",
       "328                 zhob    Completed            10\n",
       "288           shahdadpur    Completed            10\n",
       "286             sargodha     Returned            10\n",
       "287           shahdadkot    Completed            10\n",
       "91               haripur     Returned            10\n",
       "222               murree    Completed             9\n",
       "304             talagang     Returned             9\n",
       "300                swabi     Returned             9\n",
       "131               kamoke    Completed             8\n",
       "242                okara     Returned             8\n",
       "134             kandiaro    Completed             8\n",
       "206              matiari    Completed             8\n",
       "215                mithi    Completed             8\n",
       "175         lakki marwat     Returned             8\n",
       "133             kandhkot    Completed             7\n",
       "283        sarai alamgir    Completed             7\n",
       "182             latamber    Completed             7\n",
       "204              mastung    Completed             7\n",
       "277              sahiwal     Returned             7\n",
       "213              mingora     Returned             6\n",
       "245             paharpur    Completed             6\n",
       "253            pir mahal    Completed             6\n",
       "260       rahim yar khan     Returned             6\n",
       "298               sukkur     Returned             6\n",
       "147                kasur     Returned             6\n",
       "295                 sibi    Completed             6\n",
       "60                 digri    Completed             6\n",
       "315               thatta    Completed             6\n",
       "302                 swat     Returned             6\n",
       "243                pabbi    Completed             5\n",
       "55                 daska     Returned             5\n",
       "101            islamabad     Canceled             5\n",
       "180              lasbela    Completed             5\n",
       "97          haveli lakha    Completed             5\n",
       "32              burewala     Returned             5\n",
       "208            mehrabpur    Completed             5\n",
       "59      dera ismail khan     Returned             5\n",
       "121                jhang     Returned             5\n",
       "17          bahawalnagar     Returned             5\n",
       "200             mansehra     Returned             5\n",
       "211             mianwali     Returned             5\n",
       "236            nawabshah     Returned             5\n",
       "264              ranipur    Completed             5\n",
       "269         renala khurd    Completed             5\n",
       "70                 doaba    Completed             5\n",
       "140                karak     Returned             5\n",
       "141       karor lal esan    Completed             5\n",
       "163                kohat     Returned             5\n",
       "3             abbottabad     Returned             5\n",
       "271                rohri    Completed             5\n",
       "265             ratodero    Completed             5\n",
       "203               mardan     Returned             4\n",
       "71                 dokri    Completed             4\n",
       "46             chishtian     Returned             4\n",
       "56            dera bugti    Completed             4\n",
       "207                mehar    Completed             4\n",
       "65              dipalpur    Completed             4\n",
       "89                 hangu     Returned             4\n",
       "191              loralai     Returned             4\n",
       "69                   dir     Returned             4\n",
       "239             nowshera     Returned             4\n",
       "44               chiniot     Returned             4\n",
       "155              khanpur     Returned             4\n",
       "37               chakwal     Returned             4\n",
       "4          ahmadpur east    Completed             4\n",
       "325               washuk    Completed             4\n",
       "115                jatoi    Completed             4\n",
       "169              kulachi    Completed             4\n",
       "274            sadiqabad     Returned             4\n",
       "126                kalat    Completed             4\n",
       "13                attock     Returned             4\n",
       "136              karachi     Canceled             4\n",
       "11              arifwala     Returned             3\n",
       "9                 alpuri    Completed             3\n",
       "223               murree     Returned             3\n",
       "255            qasimabad    Completed             3\n",
       "227        nankana sahib     Returned             3\n",
       "240               nushki    Completed             3\n",
       "21                 bannu     Returned             3\n",
       "281              sanghar     Returned             3\n",
       "221              muridke     Returned             3\n",
       "41           chichawatni     Returned             3\n",
       "160              khushab     Returned             3\n",
       "216                 moro    Completed             3\n",
       "194               mailsi     Returned             3\n",
       "123               jhelum     Returned             3\n",
       "114            jaranwala     Returned             3\n",
       "188              lodhran     Returned             3\n",
       "308                tangi    Completed             3\n",
       "198      mandi bahauddin     Returned             3\n",
       "205              mastung     Returned             3\n",
       "117               jattan    Completed             3\n",
       "179              larkana     Returned             3\n",
       "85                gwadar     Returned             3\n",
       "164                kohlu    Completed             3\n",
       "171               lahore     Canceled             3\n",
       "327            wazirabad     Returned             2\n",
       "296               sohawa    Completed             2\n",
       "314               taxila     Returned             2\n",
       "186          liaquat pur     Returned             2\n",
       "116                jatoi     Returned             2\n",
       "22               barkhan    Completed             2\n",
       "26               bhakkar     Returned             2\n",
       "144             kashmore     Returned             2\n",
       "275           safdarabad    Completed             2\n",
       "30                 bhera     Returned             2\n",
       "8                 alipur     Returned             2\n",
       "329               ziarat    Completed             2\n",
       "192               madyan    Completed             2\n",
       "309             tangwani    Completed             2\n",
       "149                 kech     Returned             2\n",
       "87             hafizabad     Returned             2\n",
       "310             tangwani     Returned             2\n",
       "282          sangla hill    Completed             2\n",
       "230            nasirabad    Completed             2\n",
       "96              hasilpur     Returned             2\n",
       "168                kotri     Returned             2\n",
       "306  tando muhammad khan    Completed             2\n",
       "321              umerkot     Returned             2\n",
       "104             islamkot    Completed             2\n",
       "237            nazimabad    Completed             2\n",
       "266           rawalpindi     Canceled             2\n",
       "110               jampur     Returned             2\n",
       "263             rajanpur     Returned             2\n",
       "284             sargodha     Canceled             1\n",
       "324                warah    Completed             1\n",
       "291          sheikhupura     Returned             1\n",
       "278         saidu sharif    Completed             1\n",
       "307  tando muhammad khan     Returned             1\n",
       "319       toba tek singh     Returned             1\n",
       "317            timergara     Returned             1\n",
       "312                 tank     Returned             1\n",
       "272                rohri     Returned             1\n",
       "165                kohlu     Returned             1\n",
       "270         renala khurd     Returned             1\n",
       "66                 diplo    Completed             1\n",
       "124            jungshahi    Completed             1\n",
       "119                jhang     Canceled             1\n",
       "112             jamshoro     Returned             1\n",
       "107            jacobabad     Returned             1\n",
       "105             islamkot     Returned             1\n",
       "98             hyderabad     Canceled             1\n",
       "94              hasilpur     Canceled             1\n",
       "93            haroonabad     Returned             1\n",
       "76         ghakhar mandi    Completed             1\n",
       "73            faisalabad     Canceled             1\n",
       "72                 drosh    Completed             1\n",
       "67                   dir     Canceled             1\n",
       "64                 dinga     Returned             1\n",
       "127                kalat     Returned             1\n",
       "62                  dina     Returned             1\n",
       "53            darya khan     Returned             1\n",
       "50                daggar    Completed             1\n",
       "49                  dadu     Returned             1\n",
       "42               chiniot     Canceled             1\n",
       "39             charsadda     Returned             1\n",
       "35                  chak     Returned             1\n",
       "33                chagai    Completed             1\n",
       "28               bhalwal     Returned             1\n",
       "15                 badin     Returned             1\n",
       "6          akora khattak    Completed             1\n",
       "5     ahmed nager chatha     Returned             1\n",
       "125             kalabagh    Completed             1\n",
       "129              kamalia     Returned             1\n",
       "256     qila didar singh    Completed             1\n",
       "201               mardan     Canceled             1\n",
       "254            pir mahal     Returned             1\n",
       "250             peshawar     Canceled             1\n",
       "248              panjgur    Completed             1\n",
       "246             paharpur     Returned             1\n",
       "244                pabbi     Returned             1\n",
       "234            nawabshah     Canceled             1\n",
       "233     naushahro feroze     Returned             1\n",
       "231              naudero    Completed             1\n",
       "229              narowal     Returned             1\n",
       "225         muzaffargarh     Returned             1\n",
       "217                 moro     Returned             1\n",
       "214          mirpur khas    Completed             1\n",
       "196             malakwal     Returned             1\n",
       "130               kamoke     Canceled             1\n",
       "189              loralai     Canceled             1\n",
       "185          liaquat pur    Completed             1\n",
       "181              lasbela     Returned             1\n",
       "177              larkana     Canceled             1\n",
       "170              kulachi     Returned             1\n",
       "158              kharian     Returned             1\n",
       "153             khanewal     Returned             1\n",
       "151             khairpur     Returned             1\n",
       "145                kasur     Canceled             1\n",
       "142       karor lal esan     Returned             1\n",
       "135             kandiaro     Returned             1\n",
       "132               kamoke     Returned             1\n",
       "330               ziarat     Returned             1"
      ]
     },
     "execution_count": 65,
     "metadata": {},
     "output_type": "execute_result"
    }
   ],
   "source": [
    "corr_ci_os= df.groupby([\"City\",\"Order_Status\" ])[\"Order_Number\"].count().reset_index().sort_values(\"Order_Number\", ascending=False)\n",
    "corr_ci_os"
   ]
  },
  {
   "cell_type": "code",
   "execution_count": 66,
   "metadata": {
    "execution": {
     "iopub.execute_input": "2021-03-16T10:12:31.402500Z",
     "iopub.status.busy": "2021-03-16T10:12:31.401672Z",
     "iopub.status.idle": "2021-03-16T10:12:31.784241Z",
     "shell.execute_reply": "2021-03-16T10:12:31.784667Z"
    },
    "papermill": {
     "duration": 0.464501,
     "end_time": "2021-03-16T10:12:31.784828",
     "exception": false,
     "start_time": "2021-03-16T10:12:31.320327",
     "status": "completed"
    },
    "tags": []
   },
   "outputs": [
    {
     "data": {
      "text/plain": [
       "Text(0.5, 0, 'Top 10 Cities')"
      ]
     },
     "execution_count": 66,
     "metadata": {},
     "output_type": "execute_result"
    },
    {
     "data": {
      "image/png": "[encoded data removed]",
      "text/plain": [
       "<Figure size 720x432 with 1 Axes>"
      ]
     },
     "metadata": {
      "needs_background": "light"
     },
     "output_type": "display_data"
    }
   ],
   "source": [
    "corr_ci_os= df.groupby([\"City\",\"Order_Status\" ])[\"Order_Number\"].count().reset_index().sort_values(\"Order_Number\", ascending=False)\n",
    "corr_ci_os = corr_ci_os[corr_ci_os[\"City\"].isin(top_cities[\"City\"])]\n",
    "fig, ax = plt.subplots()\n",
    "ax=sns.barplot(x=\"City\",y=\"Order_Number\",hue=\"Order_Status\",data=corr_ci_os, palette=\"muted\")\n",
    "# ax.set_xticklabels(corr_ci_os[\"City\"], rotation=90)\n",
    "fig.set_size_inches([10, 6])\n",
    "ax.set_title('City-wise Order Status',fontsize=16)\n",
    "ax.set_ylabel(\"Number of Orders\",fontsize=13) \n",
    "ax.set_xlabel(\"Top 10 Cities\",fontsize=13)"
   ]
  },
  {
   "cell_type": "markdown",
   "metadata": {
    "papermill": {
     "duration": 0.075294,
     "end_time": "2021-03-16T10:12:31.935378",
     "exception": false,
     "start_time": "2021-03-16T10:12:31.860084",
     "status": "completed"
    },
    "tags": []
   },
   "source": [
    "## Next steps\n",
    "\n",
    "###  Find any hidden patterns that are counter-intuitive for a layman\n",
    "### Can we predict number of orders, or book names in advance?"
   ]
  },
  {
   "cell_type": "markdown",
   "metadata": {
    "papermill": {
     "duration": 0.07536,
     "end_time": "2021-03-16T10:12:32.086368",
     "exception": false,
     "start_time": "2021-03-16T10:12:32.011008",
     "status": "completed"
    },
    "tags": []
   },
   "source": [
    "## Upvote if you find the notebook interesting."
   ]
  },
  {
   "cell_type": "code",
   "execution_count": null,
   "metadata": {
    "papermill": {
     "duration": 0.076696,
     "end_time": "2021-03-16T10:12:32.239891",
     "exception": false,
     "start_time": "2021-03-16T10:12:32.163195",
     "status": "completed"
    },
    "tags": []
   },
   "outputs": [],
   "source": []
  }
 ],
 "metadata": {
  "kernelspec": {
   "display_name": "Python 3",
   "language": "python",
   "name": "python3"
  },
  "language_info": {
   "codemirror_mode": {
    "name": "ipython",
    "version": 3
   },
   "file_extension": ".py",
   "mimetype": "text/x-python",
   "name": "python",
   "nbconvert_exporter": "python",
   "pygments_lexer": "ipython3",
   "version": "3.7.9"
  },
  "papermill": {
   "default_parameters": {},
   "duration": 46.900341,
   "end_time": "2021-03-16T10:12:32.924000",
   "environment_variables": {},
   "exception": null,
   "input_path": "__notebook__.ipynb",
   "output_path": "__notebook__.ipynb",
   "parameters": {},
   "start_time": "2021-03-16T10:11:46.023659",
   "version": "2.2.2"
  }
 },
 "nbformat": 4,
 "nbformat_minor": 4
}
